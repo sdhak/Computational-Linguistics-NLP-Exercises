{
 "cells": [
  {
   "attachments": {},
   "cell_type": "markdown",
   "metadata": {},
   "source": [
    "# Project: Classifying Gender Based on a Name"
   ]
  },
  {
   "attachments": {},
   "cell_type": "markdown",
   "metadata": {},
   "source": [
    "Three feature extractor functions and two classifier models were built in this project. The first model is a simple model that classifies gender based on the first letter of a given name, the second model classifies gender based on the bigrams of characters in a name, the third model classifies gender based on the trigrams of characters in a name, and all of these three are Naïve Bayes Classifier models. To see if a different classifier yields better output, a decision tree classification model is run at the end based on the character trigram features."
   ]
  },
  {
   "cell_type": "markdown",
   "metadata": {
    "id": "DIMqL-j6k1mu"
   },
   "source": [
    "## 1. Baseline Model"
   ]
  },
  {
   "cell_type": "markdown",
   "metadata": {
    "id": "h2ApuDbGk1mv"
   },
   "source": [
    "Feature: First letter of a name"
   ]
  },
  {
   "cell_type": "code",
   "execution_count": null,
   "metadata": {
    "colab": {
     "base_uri": "https://localhost:8080/"
    },
    "id": "5fWv74mvk1mv",
    "outputId": "59cf3251-ff66-4e81-ca67-e510eb1013d6",
    "scrolled": true
   },
   "outputs": [
    {
     "data": {
      "text/plain": [
       "{'first_letter': 'S'}"
      ]
     },
     "execution_count": 1,
     "metadata": {
      "tags": []
     },
     "output_type": "execute_result"
    }
   ],
   "source": [
    "def gender_features(word):\n",
    "    return {'first_letter': word[0]}\n",
    "gender_features('Sam')"
   ]
  },
  {
   "cell_type": "markdown",
   "metadata": {},
   "source": [
    "The feature generation function “def gender_features(word)” takes a name as an input, pulls the first letter from the name (the feature), and returns the first letter as an output. This output is taken into consideration while creating a feature set in section 1.1."
   ]
  },
  {
   "cell_type": "code",
   "execution_count": null,
   "metadata": {
    "colab": {
     "base_uri": "https://localhost:8080/"
    },
    "id": "_NjhS4fSk1mx",
    "outputId": "7ed2cc2b-f743-4a2d-ba49-980fc0dd38fa"
   },
   "outputs": [
    {
     "name": "stdout",
     "output_type": "stream",
     "text": [
      "[nltk_data] Downloading package names to /root/nltk_data...\n",
      "[nltk_data]   Package names is already up-to-date!\n"
     ]
    }
   ],
   "source": [
    "import nltk\n",
    "nltk.download('names')\n",
    "\n",
    "from nltk.corpus import names\n",
    "labeled_names = ([(name, 'male') for name in names.words('male.txt')] + \n",
    "                 [(name, 'female') for name in names.words('female.txt')])\n",
    "\n",
    "import random\n",
    "random.shuffle(labeled_names)"
   ]
  },
  {
   "cell_type": "markdown",
   "metadata": {
    "id": "UUDPoR_Lk1m2"
   },
   "source": [
    "### 1.1 Dividing the labeled_names list into training and test sets"
   ]
  },
  {
   "cell_type": "code",
   "execution_count": null,
   "metadata": {
    "id": "Sbfwzny1k1m2"
   },
   "outputs": [],
   "source": [
    "featuresets = [(gender_features(n), gender) for (n, gender) in labeled_names]\n",
    "train_set, test_set = featuresets[500:], featuresets[:500]\n",
    "classifier = nltk.NaiveBayesClassifier.train(train_set)"
   ]
  },
  {
   "cell_type": "markdown",
   "metadata": {
    "id": "nyhAB3ygk1m3"
   },
   "source": [
    "### 1.2 Testing on unknown/test data"
   ]
  },
  {
   "cell_type": "code",
   "execution_count": null,
   "metadata": {
    "colab": {
     "base_uri": "https://localhost:8080/",
     "height": 35
    },
    "id": "WYRvDnnEk1m3",
    "outputId": "3717494d-3b68-4756-a5b6-fbd2afcedbda"
   },
   "outputs": [
    {
     "data": {
      "application/vnd.google.colaboratory.intrinsic+json": {
       "type": "string"
      },
      "text/plain": [
       "'male'"
      ]
     },
     "execution_count": 4,
     "metadata": {
      "tags": []
     },
     "output_type": "execute_result"
    }
   ],
   "source": [
    "classifier.classify(gender_features('William'))"
   ]
  },
  {
   "cell_type": "code",
   "execution_count": null,
   "metadata": {
    "colab": {
     "base_uri": "https://localhost:8080/",
     "height": 35
    },
    "id": "7Tt1mSNhk1m4",
    "outputId": "5ed6510d-d858-489a-9d09-f3ec1e705020"
   },
   "outputs": [
    {
     "data": {
      "application/vnd.google.colaboratory.intrinsic+json": {
       "type": "string"
      },
      "text/plain": [
       "'female'"
      ]
     },
     "execution_count": 5,
     "metadata": {
      "tags": []
     },
     "output_type": "execute_result"
    }
   ],
   "source": [
    "classifier.classify(gender_features('Katie'))"
   ]
  },
  {
   "cell_type": "code",
   "execution_count": null,
   "metadata": {
    "colab": {
     "base_uri": "https://localhost:8080/"
    },
    "id": "ZaQ9_3-Jk1m4",
    "outputId": "5f46e37d-7b45-40e4-b2fe-0ee2c831fce4",
    "scrolled": true
   },
   "outputs": [
    {
     "name": "stdout",
     "output_type": "stream",
     "text": [
      "0.628\n"
     ]
    }
   ],
   "source": [
    "print(nltk.classify.accuracy(classifier, test_set))"
   ]
  },
  {
   "cell_type": "markdown",
   "metadata": {},
   "source": [
    "The accuracy of this baseline model came out to be 62.8% on the test set, which is decent but not great. This means that about 38% of the time, the model predicts the wrong gender for every 100 names fed for prediction."
   ]
  },
  {
   "cell_type": "markdown",
   "metadata": {
    "id": "pnwM51kJk1m5"
   },
   "source": [
    "### 1.3 Fine-tuning: Dividing the labeled_names list into training, dev-test, and test sets"
   ]
  },
  {
   "cell_type": "code",
   "execution_count": null,
   "metadata": {
    "id": "W-cca7d1k1m5"
   },
   "outputs": [],
   "source": [
    "test_names = labeled_names[:500]\n",
    "devtest_names = labeled_names[500:1500]\n",
    "train_names = labeled_names[1500:]"
   ]
  },
  {
   "cell_type": "code",
   "execution_count": null,
   "metadata": {
    "id": "6WgnFq47k1m5"
   },
   "outputs": [],
   "source": [
    "train_set = [(gender_features(n), gender) for (n, gender) in train_names]\n",
    "devtest_set = [(gender_features(n), gender) for (n, gender) in devtest_names]\n",
    "test_set = [(gender_features(n), gender) for (n, gender) in test_names]"
   ]
  },
  {
   "cell_type": "code",
   "execution_count": null,
   "metadata": {
    "colab": {
     "base_uri": "https://localhost:8080/"
    },
    "id": "QN7QaijGk1m6",
    "outputId": "2d2f97db-623d-434b-c89c-f571e9d5c4d9"
   },
   "outputs": [
    {
     "name": "stdout",
     "output_type": "stream",
     "text": [
      "0.641\n"
     ]
    }
   ],
   "source": [
    "print(nltk.classify.accuracy(classifier, devtest_set))"
   ]
  },
  {
   "cell_type": "markdown",
   "metadata": {
    "id": "5kZ8yHE2k1m6"
   },
   "source": [
    "### 1.3 Which features were most effective for the baseline model classification?"
   ]
  },
  {
   "cell_type": "code",
   "execution_count": null,
   "metadata": {
    "colab": {
     "base_uri": "https://localhost:8080/"
    },
    "id": "zgMROejuk1m6",
    "outputId": "ccde15ef-eb8e-4625-ba69-bb6d6659ce73",
    "scrolled": true
   },
   "outputs": [
    {
     "name": "stdout",
     "output_type": "stream",
     "text": [
      "Most Informative Features\n",
      "            first_letter = 'W'              male : female =      4.5 : 1.0\n",
      "            first_letter = 'Q'              male : female =      2.9 : 1.0\n",
      "            first_letter = 'U'              male : female =      2.5 : 1.0\n",
      "            first_letter = 'K'            female : male   =      2.5 : 1.0\n",
      "            first_letter = 'X'              male : female =      2.3 : 1.0\n"
     ]
    }
   ],
   "source": [
    "classifier.show_most_informative_features(5)"
   ]
  },
  {
   "attachments": {},
   "cell_type": "markdown",
   "metadata": {
    "id": "EOgV8RbNk1m7"
   },
   "source": [
    "Some fine tuning is done to the existing model by adding a development test set. After fine tuning, the model performance slightly improves. Features like the first letter “W”, “Q”, “U”, “K”, and “X”, contribute most to the model’s prediction. The results show that male names are more likely to start with W, Q, U, K, and X than female names. Adding a dev-test set improved the accuracy from 62.8% to 64.1%, but this is still not a great accuracy score."
   ]
  },
  {
   "cell_type": "code",
   "execution_count": null,
   "metadata": {
    "colab": {
     "base_uri": "https://localhost:8080/"
    },
    "id": "_prVxtxmk1m7",
    "outputId": "e32e760a-ca23-47d1-82d8-6b4bc5cd1673"
   },
   "outputs": [
    {
     "name": "stdout",
     "output_type": "stream",
     "text": [
      "correct=female   guess=female   name=Abigail                       \n",
      "correct=female   guess=female   name=Acacia                        \n",
      "correct=female   guess=female   name=Adeline                       \n",
      "correct=female   guess=female   name=Adiana                        \n",
      "correct=female   guess=female   name=Aila                          \n",
      "correct=female   guess=female   name=Ailee                         \n",
      "correct=female   guess=female   name=Aili                          \n",
      "correct=female   guess=female   name=Ailina                        \n",
      "correct=female   guess=female   name=Aime                          \n",
      "correct=female   guess=female   name=Alexi                         \n",
      "correct=female   guess=female   name=Alexina                       \n",
      "correct=female   guess=female   name=Alexine                       \n",
      "correct=female   guess=female   name=Alfie                         \n",
      "correct=female   guess=female   name=Alidia                        \n",
      "correct=female   guess=female   name=Alis                          \n",
      "correct=female   guess=female   name=Alla                          \n",
      "correct=female   guess=female   name=Almeta                        \n",
      "correct=female   guess=female   name=Almire                        \n",
      "correct=female   guess=female   name=Aloise                        \n",
      "correct=female   guess=female   name=Aloysia                       \n",
      "correct=female   guess=female   name=Amanda                        \n",
      "correct=female   guess=female   name=Amata                         \n",
      "correct=female   guess=female   name=Amelie                        \n",
      "correct=female   guess=female   name=Ammamaria                     \n",
      "correct=female   guess=female   name=Analiese                      \n",
      "correct=female   guess=female   name=Ange                          \n",
      "correct=female   guess=female   name=Angelika                      \n",
      "correct=female   guess=female   name=Angie                         \n",
      "correct=female   guess=female   name=Annabel                       \n",
      "correct=female   guess=female   name=Annabela                      \n",
      "correct=female   guess=female   name=Annabell                      \n",
      "correct=female   guess=female   name=Annabelle                     \n",
      "correct=female   guess=female   name=Annalyse                      \n",
      "correct=female   guess=female   name=Annamaria                     \n",
      "correct=female   guess=female   name=Annecorinne                   \n",
      "correct=female   guess=female   name=Anny                          \n",
      "correct=female   guess=female   name=Antonetta                     \n",
      "correct=female   guess=female   name=Arabela                       \n",
      "correct=female   guess=female   name=Ardine                        \n",
      "correct=female   guess=female   name=Ardys                         \n",
      "correct=female   guess=female   name=Arleta                        \n",
      "correct=female   guess=female   name=Ashlen                        \n",
      "correct=female   guess=female   name=Auberta                       \n",
      "correct=female   guess=female   name=Aubree                        \n",
      "correct=female   guess=female   name=Aubrey                        \n",
      "correct=female   guess=female   name=Auguste                       \n",
      "correct=female   guess=female   name=Aurora                        \n",
      "correct=female   guess=female   name=Ava                           \n",
      "correct=female   guess=female   name=Avie                          \n",
      "correct=female   guess=female   name=Babette                       \n",
      "correct=female   guess=female   name=Barbaraanne                   \n",
      "correct=female   guess=female   name=Bari                          \n",
      "correct=female   guess=female   name=Beatrice                      \n",
      "correct=female   guess=female   name=Becka                         \n",
      "correct=female   guess=female   name=Beckie                        \n",
      "correct=female   guess=female   name=Belvia                        \n",
      "correct=female   guess=female   name=Bernice                       \n",
      "correct=female   guess=female   name=Berti                         \n",
      "correct=female   guess=female   name=Bertina                       \n",
      "correct=female   guess=female   name=Beryl                         \n",
      "correct=female   guess=female   name=Beverlee                      \n",
      "correct=female   guess=female   name=Bill                          \n",
      "correct=female   guess=female   name=Blanch                        \n",
      "correct=female   guess=female   name=Bobby                         \n",
      "correct=female   guess=female   name=Bonny                         \n",
      "correct=female   guess=female   name=Brandi                        \n",
      "correct=female   guess=female   name=Brenn                         \n",
      "correct=female   guess=female   name=Bridie                        \n",
      "correct=female   guess=female   name=Briny                         \n",
      "correct=female   guess=female   name=Britaney                      \n",
      "correct=female   guess=female   name=Briteny                       \n",
      "correct=female   guess=female   name=Britni                        \n",
      "correct=female   guess=female   name=Brooke                        \n",
      "correct=female   guess=female   name=Brunella                      \n",
      "correct=female   guess=female   name=Brunhilde                     \n",
      "correct=female   guess=female   name=Bryn                          \n",
      "correct=female   guess=female   name=Cabrina                       \n",
      "correct=female   guess=female   name=Calida                        \n",
      "correct=female   guess=female   name=Cam                           \n",
      "correct=female   guess=female   name=Camel                         \n",
      "correct=female   guess=female   name=Camellia                      \n",
      "correct=female   guess=female   name=Cappella                      \n",
      "correct=female   guess=female   name=Caralie                       \n",
      "correct=female   guess=female   name=Caren                         \n",
      "correct=female   guess=female   name=Carena                        \n",
      "correct=female   guess=female   name=Carey                         \n",
      "correct=female   guess=female   name=Carla                         \n",
      "correct=female   guess=female   name=Carlee                        \n",
      "correct=female   guess=female   name=Carleen                       \n",
      "correct=female   guess=female   name=Carlena                       \n",
      "correct=female   guess=female   name=Carlye                        \n",
      "correct=female   guess=female   name=Carmelle                      \n",
      "correct=female   guess=female   name=Carmine                       \n",
      "correct=female   guess=female   name=Caryn                         \n",
      "correct=female   guess=female   name=Cass                          \n",
      "correct=female   guess=female   name=Cassondra                     \n",
      "correct=female   guess=female   name=Catarina                      \n",
      "correct=female   guess=female   name=Cathlene                      \n",
      "correct=female   guess=female   name=Catlin                        \n",
      "correct=female   guess=female   name=Catrina                       \n",
      "correct=female   guess=female   name=Cayla                         \n",
      "correct=female   guess=female   name=Cecilla                       \n",
      "correct=female   guess=female   name=Ceil                          \n",
      "correct=female   guess=female   name=Celestia                      \n",
      "correct=female   guess=female   name=Celestyn                      \n",
      "correct=female   guess=female   name=Cheryl                        \n",
      "correct=female   guess=female   name=Chiarra                       \n",
      "correct=female   guess=female   name=Christa                       \n",
      "correct=female   guess=female   name=Cindelyn                      \n",
      "correct=female   guess=female   name=Clarette                      \n",
      "correct=female   guess=female   name=Clarinda                      \n",
      "correct=female   guess=female   name=Clarissa                      \n",
      "correct=female   guess=female   name=Claudette                     \n",
      "correct=female   guess=female   name=Clementia                     \n",
      "correct=female   guess=female   name=Clementina                    \n",
      "correct=female   guess=female   name=Cloe                          \n",
      "correct=female   guess=female   name=Corabelle                     \n",
      "correct=female   guess=female   name=Coralie                       \n",
      "correct=female   guess=female   name=Coralyn                       \n",
      "correct=female   guess=female   name=Corina                        \n",
      "correct=female   guess=female   name=Corinne                       \n",
      "correct=female   guess=female   name=Corliss                       \n",
      "correct=female   guess=female   name=Corly                         \n",
      "correct=female   guess=female   name=Correna                       \n",
      "correct=female   guess=female   name=Correy                        \n",
      "correct=female   guess=female   name=Corrie                        \n",
      "correct=female   guess=female   name=Corrinne                      \n",
      "correct=female   guess=female   name=Cosette                       \n",
      "correct=female   guess=female   name=Cresa                         \n",
      "correct=female   guess=female   name=Cristin                       \n",
      "correct=female   guess=female   name=Cynthia                       \n",
      "correct=female   guess=female   name=Cynthie                       \n",
      "correct=female   guess=female   name=Dacy                          \n",
      "correct=female   guess=female   name=Daffi                         \n",
      "correct=female   guess=female   name=Dalenna                       \n",
      "correct=female   guess=female   name=Danit                         \n",
      "correct=female   guess=female   name=Danya                         \n",
      "correct=female   guess=female   name=Danyelle                      \n",
      "correct=female   guess=female   name=Daphene                       \n",
      "correct=female   guess=female   name=Darby                         \n",
      "correct=female   guess=female   name=Darda                         \n",
      "correct=female   guess=female   name=Darell                        \n",
      "correct=female   guess=female   name=Dari                          \n",
      "correct=female   guess=female   name=Darsie                        \n",
      "correct=female   guess=female   name=Davita                        \n",
      "correct=female   guess=female   name=Dayna                         \n",
      "correct=female   guess=female   name=Deanne                        \n",
      "correct=female   guess=female   name=Debby                         \n",
      "correct=female   guess=female   name=Debera                        \n",
      "correct=female   guess=female   name=Debor                         \n",
      "correct=female   guess=female   name=Deina                         \n",
      "correct=female   guess=female   name=Delaney                       \n",
      "correct=female   guess=female   name=Delphina                      \n",
      "correct=female   guess=female   name=Deni                          \n",
      "correct=female   guess=female   name=Denice                        \n",
      "correct=female   guess=female   name=Deny                          \n",
      "correct=female   guess=female   name=Deva                          \n",
      "correct=female   guess=female   name=Dianemarie                    \n",
      "correct=female   guess=female   name=Didi                          \n",
      "correct=female   guess=female   name=Dody                          \n",
      "correct=female   guess=female   name=Dolly                         \n",
      "correct=female   guess=female   name=Dominique                     \n",
      "correct=female   guess=female   name=Donni                         \n",
      "correct=female   guess=female   name=Dora                          \n",
      "correct=female   guess=female   name=Dore                          \n",
      "correct=female   guess=female   name=Dorella                       \n",
      "correct=female   guess=female   name=Dorian                        \n",
      "correct=female   guess=female   name=Dorolisa                      \n",
      "correct=female   guess=female   name=Dorotea                       \n",
      "correct=female   guess=female   name=Doroteya                      \n",
      "correct=female   guess=female   name=Dorree                        \n",
      "correct=female   guess=female   name=Dorris                        \n",
      "correct=female   guess=female   name=Dory                          \n",
      "correct=female   guess=female   name=Dosi                          \n",
      "correct=female   guess=female   name=Dulcia                        \n",
      "correct=female   guess=female   name=Dulcine                       \n",
      "correct=female   guess=female   name=Dusty                         \n",
      "correct=female   guess=female   name=Dyane                         \n",
      "correct=female   guess=female   name=Eadith                        \n",
      "correct=female   guess=female   name=Eba                           \n",
      "correct=female   guess=female   name=Ebony                         \n",
      "correct=female   guess=female   name=Edin                          \n",
      "correct=female   guess=female   name=Edita                         \n",
      "correct=female   guess=female   name=Editha                        \n",
      "correct=female   guess=female   name=Edithe                        \n",
      "correct=female   guess=female   name=Edyth                         \n",
      "correct=female   guess=female   name=Eleanore                      \n",
      "correct=female   guess=female   name=Elena                         \n",
      "correct=female   guess=female   name=Elene                         \n",
      "correct=female   guess=female   name=Elianora                      \n",
      "correct=female   guess=female   name=Elisa                         \n",
      "correct=female   guess=female   name=Elisabeth                     \n",
      "correct=female   guess=female   name=Elizabeth                     \n",
      "correct=female   guess=female   name=Elli                          \n",
      "correct=female   guess=female   name=Ellyn                         \n",
      "correct=female   guess=female   name=Eloisa                        \n",
      "correct=female   guess=female   name=Elva                          \n",
      "correct=female   guess=female   name=Elvina                        \n",
      "correct=female   guess=female   name=Emalia                        \n",
      "correct=female   guess=female   name=Emanuela                      \n",
      "correct=female   guess=female   name=Emelia                        \n",
      "correct=female   guess=female   name=Emma                          \n",
      "correct=female   guess=female   name=Emmye                         \n",
      "correct=female   guess=female   name=Erda                          \n",
      "correct=female   guess=female   name=Erina                         \n",
      "correct=female   guess=female   name=Erinn                         \n",
      "correct=female   guess=female   name=Ertha                         \n",
      "correct=female   guess=female   name=Essa                          \n",
      "correct=female   guess=female   name=Estel                         \n",
      "correct=female   guess=female   name=Estella                       \n",
      "correct=female   guess=female   name=Eudora                        \n",
      "correct=female   guess=female   name=Eula                          \n",
      "correct=female   guess=female   name=Eunice                        \n",
      "correct=female   guess=female   name=Euphemia                      \n",
      "correct=female   guess=female   name=Evangelin                     \n",
      "correct=female   guess=female   name=Evita                         \n",
      "correct=female   guess=female   name=Fanchette                     \n",
      "correct=female   guess=female   name=Fanchon                       \n",
      "correct=female   guess=female   name=Fawna                         \n",
      "correct=female   guess=female   name=Fay                           \n",
      "correct=female   guess=female   name=Faythe                        \n",
      "correct=female   guess=female   name=Fern                          \n",
      "correct=female   guess=female   name=Ferne                         \n",
      "correct=female   guess=female   name=Fidelity                      \n",
      "correct=female   guess=female   name=Fleurette                     \n",
      "correct=female   guess=female   name=Florance                      \n",
      "correct=female   guess=female   name=Florence                      \n",
      "correct=female   guess=female   name=Florry                        \n",
      "correct=female   guess=female   name=Fortuna                       \n",
      "correct=female   guess=female   name=Francine                      \n",
      "correct=female   guess=female   name=Gabbie                        \n",
      "correct=female   guess=female   name=Gabriela                      \n",
      "correct=female   guess=female   name=Gael                          \n",
      "correct=female   guess=female   name=Garland                       \n",
      "correct=female   guess=female   name=Gates                         \n",
      "correct=female   guess=female   name=Gaynor                        \n",
      "correct=female   guess=female   name=Georgianna                    \n",
      "correct=female   guess=female   name=Gera                          \n",
      "correct=female   guess=female   name=Geraldine                     \n",
      "correct=female   guess=female   name=Gerry                         \n",
      "correct=female   guess=female   name=Gerti                         \n",
      "correct=female   guess=female   name=Gertrudis                     \n",
      "correct=female   guess=female   name=Gilberte                      \n",
      "correct=female   guess=female   name=Gilbertina                    \n",
      "correct=female   guess=female   name=Gilbertine                    \n",
      "correct=female   guess=female   name=Gill                          \n",
      "correct=female   guess=female   name=Ginelle                       \n",
      "correct=female   guess=female   name=Ginnie                        \n",
      "correct=female   guess=female   name=Gizela                        \n",
      "correct=female   guess=female   name=Glennis                       \n",
      "correct=female   guess=female   name=Goldia                        \n",
      "correct=female   guess=female   name=Guendolen                     \n",
      "correct=female   guess=female   name=Guinevere                     \n",
      "correct=female   guess=female   name=Gwendolen                     \n",
      "correct=female   guess=female   name=Gwendolin                     \n",
      "correct=female   guess=female   name=Gweneth                       \n",
      "correct=female   guess=female   name=Gwyneth                       \n",
      "correct=female   guess=female   name=Idalina                       \n",
      "correct=female   guess=female   name=Idelle                        \n",
      "correct=female   guess=female   name=Ikey                          \n",
      "correct=female   guess=female   name=Ilse                          \n",
      "correct=female   guess=female   name=Ilyse                         \n",
      "correct=female   guess=female   name=Ilyssa                        \n",
      "correct=female   guess=female   name=Imelda                        \n",
      "correct=female   guess=female   name=Inger                         \n",
      "correct=female   guess=female   name=Irita                         \n",
      "correct=female   guess=female   name=Isabel                        \n",
      "correct=female   guess=female   name=Isobel                        \n",
      "correct=female   guess=female   name=Jacinda                       \n",
      "correct=female   guess=female   name=Jacinthe                      \n",
      "correct=female   guess=female   name=Jacki                         \n",
      "correct=female   guess=female   name=Jacklin                       \n",
      "correct=female   guess=female   name=Jackquelin                    \n",
      "correct=female   guess=female   name=Jaclin                        \n",
      "correct=female   guess=female   name=Jan                           \n",
      "correct=female   guess=female   name=Janaye                        \n",
      "correct=female   guess=female   name=Jane                          \n",
      "correct=female   guess=female   name=Janette                       \n",
      "correct=female   guess=female   name=Janka                         \n",
      "correct=female   guess=female   name=Jaquelin                      \n",
      "correct=female   guess=female   name=Jaquith                       \n",
      "correct=female   guess=female   name=Jasmine                       \n",
      "correct=female   guess=female   name=Jeane                         \n",
      "correct=female   guess=female   name=Jeanie                        \n",
      "correct=female   guess=female   name=Jeanna                        \n",
      "correct=female   guess=female   name=Jelene                        \n",
      "correct=female   guess=female   name=Jenifer                       \n",
      "correct=female   guess=female   name=Jenna                         \n",
      "correct=female   guess=female   name=Jennette                      \n",
      "correct=female   guess=female   name=Jennifer                      \n",
      "correct=female   guess=female   name=Jewell                        \n",
      "correct=female   guess=female   name=Jewelle                       \n",
      "correct=female   guess=female   name=JoAnne                        \n",
      "correct=female   guess=female   name=Joannes                       \n",
      "correct=female   guess=female   name=Joceline                      \n",
      "correct=female   guess=female   name=Joelly                        \n",
      "correct=female   guess=female   name=Joellyn                       \n",
      "correct=female   guess=female   name=Joice                         \n",
      "correct=female   guess=female   name=Joni                          \n",
      "correct=female   guess=female   name=Jonis                         \n",
      "correct=female   guess=female   name=Josee                         \n",
      "correct=female   guess=female   name=Josi                          \n",
      "correct=female   guess=female   name=Josie                         \n",
      "correct=female   guess=female   name=Josselyn                      \n",
      "correct=female   guess=female   name=Jourdan                       \n",
      "correct=female   guess=female   name=Joyan                         \n",
      "correct=female   guess=female   name=Joyce                         \n",
      "correct=female   guess=female   name=Joyous                        \n",
      "correct=female   guess=female   name=Juditha                       \n",
      "correct=female   guess=female   name=Julia                         \n",
      "correct=female   guess=female   name=Juliann                       \n",
      "correct=female   guess=female   name=June                          \n",
      "correct=female   guess=female   name=Kaari                         \n",
      "correct=female   guess=female   name=Kailey                        \n",
      "correct=female   guess=female   name=Kaitlynn                      \n",
      "correct=female   guess=female   name=Kaja                          \n",
      "correct=female   guess=female   name=Kala                          \n",
      "correct=female   guess=female   name=Kally                         \n",
      "correct=female   guess=female   name=Kandace                       \n",
      "correct=female   guess=female   name=Karalynn                      \n",
      "correct=female   guess=female   name=Kaster                        \n",
      "correct=female   guess=female   name=Katharina                     \n",
      "correct=female   guess=female   name=Kathryn                       \n",
      "correct=female   guess=female   name=Katuscha                      \n",
      "correct=female   guess=female   name=Kellia                        \n",
      "correct=female   guess=female   name=Kelsi                         \n",
      "correct=female   guess=female   name=Kerry                         \n",
      "correct=female   guess=female   name=Keslie                        \n",
      "correct=female   guess=female   name=Ketti                         \n",
      "correct=female   guess=female   name=Kevina                        \n",
      "correct=female   guess=female   name=Kiah                          \n",
      "correct=female   guess=female   name=Kiele                         \n",
      "correct=female   guess=female   name=Kiersten                      \n",
      "correct=female   guess=female   name=Kip                           \n",
      "correct=female   guess=female   name=Koo                           \n",
      "correct=female   guess=female   name=Korrie                        \n",
      "correct=female   guess=female   name=Krista                        \n",
      "correct=female   guess=female   name=Kristal                       \n",
      "correct=female   guess=female   name=Kristel                       \n",
      "correct=female   guess=female   name=Kristine                      \n",
      "correct=female   guess=female   name=Kyla                          \n",
      "correct=female   guess=female   name=Kym                           \n",
      "correct=female   guess=female   name=Lacie                         \n",
      "correct=female   guess=female   name=Laila                         \n",
      "correct=female   guess=female   name=Lanni                         \n",
      "correct=female   guess=female   name=Larine                        \n",
      "correct=female   guess=female   name=Lauretta                      \n",
      "correct=female   guess=female   name=Laurianne                     \n",
      "correct=female   guess=female   name=Laurice                       \n",
      "correct=female   guess=female   name=Lavina                        \n",
      "correct=female   guess=female   name=Lavinie                       \n",
      "correct=female   guess=female   name=Layney                        \n",
      "correct=female   guess=female   name=Leah                          \n",
      "correct=female   guess=female   name=Leesa                         \n",
      "correct=female   guess=female   name=Leigh                         \n",
      "correct=female   guess=female   name=Leila                         \n",
      "correct=female   guess=female   name=Leola                         \n",
      "correct=female   guess=female   name=Leorah                        \n",
      "correct=female   guess=female   name=Letta                         \n",
      "correct=female   guess=female   name=Lettie                        \n",
      "correct=female   guess=female   name=Lianna                        \n",
      "correct=female   guess=female   name=Libbey                        \n",
      "correct=female   guess=female   name=Licha                         \n",
      "correct=female   guess=female   name=Lil                           \n",
      "correct=female   guess=female   name=Lilyan                        \n",
      "correct=female   guess=female   name=Linea                         \n",
      "correct=female   guess=female   name=Linet                         \n",
      "correct=female   guess=female   name=Linnie                        \n",
      "correct=female   guess=female   name=Liorah                        \n",
      "correct=female   guess=female   name=Lisbeth                       \n",
      "correct=female   guess=female   name=Lise                          \n",
      "correct=female   guess=female   name=Lisetta                       \n",
      "correct=female   guess=female   name=Lissy                         \n",
      "correct=female   guess=female   name=Lita                          \n",
      "correct=female   guess=female   name=Lois                          \n",
      "correct=female   guess=female   name=Loise                         \n",
      "correct=female   guess=female   name=Loleta                        \n",
      "correct=female   guess=female   name=Lolly                         \n",
      "correct=female   guess=female   name=Lonna                         \n",
      "correct=female   guess=female   name=Loreen                        \n",
      "correct=female   guess=female   name=Lorena                        \n",
      "correct=female   guess=female   name=Lorita                        \n",
      "correct=female   guess=female   name=Lorna                         \n",
      "correct=female   guess=female   name=Lucinda                       \n",
      "correct=female   guess=female   name=Lucretia                      \n",
      "correct=female   guess=female   name=Lulita                        \n",
      "correct=female   guess=female   name=Lurette                       \n",
      "correct=female   guess=female   name=Lysandra                      \n",
      "correct=female   guess=female   name=Maddi                         \n",
      "correct=female   guess=female   name=Maddie                        \n",
      "correct=female   guess=female   name=Madella                       \n",
      "correct=female   guess=female   name=Madelon                       \n",
      "correct=female   guess=female   name=Mae                           \n",
      "correct=female   guess=female   name=Maisie                        \n",
      "correct=female   guess=female   name=Mala                          \n",
      "correct=female   guess=female   name=Malcah                        \n",
      "correct=female   guess=female   name=Malka                         \n",
      "correct=female   guess=female   name=Mallissa                      \n",
      "correct=female   guess=female   name=Malorie                       \n",
      "correct=female   guess=female   name=Malva                         \n",
      "correct=female   guess=female   name=Mandy                         \n",
      "correct=female   guess=female   name=Marcelline                    \n",
      "correct=female   guess=female   name=Marcie                        \n",
      "correct=female   guess=female   name=Marcy                         \n",
      "correct=female   guess=female   name=Marga                         \n",
      "correct=female   guess=female   name=Margalit                      \n",
      "correct=female   guess=female   name=Margery                       \n",
      "correct=female   guess=female   name=Margette                      \n",
      "correct=female   guess=female   name=Margit                        \n",
      "correct=female   guess=female   name=Marglerite                    \n",
      "correct=female   guess=female   name=Maria                         \n",
      "correct=female   guess=female   name=Marijo                        \n",
      "correct=female   guess=female   name=Marketa                       \n",
      "correct=female   guess=female   name=Marlie                        \n",
      "correct=female   guess=female   name=Martie                        \n",
      "correct=female   guess=female   name=Martynne                      \n",
      "correct=female   guess=female   name=Maryangelyn                   \n",
      "correct=female   guess=female   name=Maryellen                     \n",
      "correct=female   guess=female   name=Marylynne                     \n",
      "correct=female   guess=female   name=Maurene                       \n",
      "correct=female   guess=female   name=Maurine                       \n",
      "correct=female   guess=female   name=Maye                          \n",
      "correct=female   guess=female   name=Meagan                        \n",
      "correct=female   guess=female   name=Mela                          \n",
      "correct=female   guess=female   name=Melantha                      \n",
      "correct=female   guess=female   name=Melodee                       \n",
      "correct=female   guess=female   name=Merilee                       \n",
      "correct=female   guess=female   name=Merla                         \n",
      "correct=female   guess=female   name=Merle                         \n",
      "correct=female   guess=female   name=Merline                       \n",
      "correct=female   guess=female   name=Michaela                      \n",
      "correct=female   guess=female   name=Michele                       \n",
      "correct=female   guess=female   name=Micheline                     \n",
      "correct=female   guess=female   name=Michelle                      \n",
      "correct=female   guess=female   name=Miguelita                     \n",
      "correct=female   guess=female   name=Millicent                     \n",
      "correct=female   guess=female   name=Min                           \n",
      "correct=female   guess=female   name=Minerva                       \n",
      "correct=female   guess=female   name=Minni                         \n",
      "correct=female   guess=female   name=Mireielle                     \n",
      "correct=female   guess=female   name=Mitzi                         \n",
      "correct=female   guess=female   name=Molli                         \n",
      "correct=female   guess=female   name=Moselle                       \n",
      "correct=female   guess=female   name=Muffin                        \n",
      "correct=female   guess=female   name=Mufinella                     \n",
      "correct=female   guess=female   name=Myra                          \n",
      "correct=female   guess=female   name=Myrilla                       \n",
      "correct=female   guess=female   name=Myrtie                        \n",
      "correct=female   guess=female   name=Nada                          \n",
      "correct=female   guess=female   name=Nana                          \n",
      "correct=female   guess=female   name=Nanete                        \n",
      "correct=female   guess=female   name=Nanine                        \n",
      "correct=female   guess=female   name=Natalina                      \n",
      "correct=female   guess=female   name=Nelli                         \n",
      "correct=female   guess=female   name=Nerti                         \n",
      "correct=female   guess=female   name=Nidia                         \n",
      "correct=female   guess=female   name=Nikolia                       \n",
      "correct=female   guess=female   name=Nil                           \n",
      "correct=female   guess=female   name=Nissie                        \n",
      "correct=female   guess=female   name=Noni                          \n",
      "correct=female   guess=female   name=Norah                         \n",
      "correct=female   guess=female   name=Norine                        \n",
      "correct=female   guess=female   name=Norrie                        \n",
      "correct=female   guess=female   name=Nyssa                         \n",
      "correct=female   guess=female   name=Octavia                       \n",
      "correct=female   guess=female   name=Odelle                        \n",
      "correct=female   guess=female   name=Odessa                        \n",
      "correct=female   guess=female   name=Ola                           \n",
      "correct=female   guess=female   name=Olia                          \n",
      "correct=female   guess=female   name=Ophelie                       \n",
      "correct=female   guess=female   name=Orly                          \n",
      "correct=female   guess=female   name=Pammie                        \n",
      "correct=female   guess=female   name=Patty                         \n",
      "correct=female   guess=female   name=Paula                         \n",
      "correct=female   guess=female   name=Pauly                         \n",
      "correct=female   guess=female   name=Pavla                         \n",
      "correct=female   guess=female   name=Pearl                         \n",
      "correct=female   guess=female   name=Pearline                      \n",
      "correct=female   guess=female   name=Pen                           \n",
      "correct=female   guess=female   name=Penni                         \n",
      "correct=female   guess=female   name=Penny                         \n",
      "correct=female   guess=female   name=Phebe                         \n",
      "correct=female   guess=female   name=Phelia                        \n",
      "correct=female   guess=female   name=Phillis                       \n",
      "correct=female   guess=female   name=Phyllis                       \n",
      "correct=female   guess=female   name=Pierrette                     \n",
      "correct=female   guess=female   name=Priscella                     \n",
      "correct=female   guess=female   name=Randene                       \n",
      "correct=female   guess=female   name=Rasla                         \n",
      "correct=female   guess=female   name=Raven                         \n",
      "correct=female   guess=female   name=Ree                           \n",
      "correct=female   guess=female   name=Reina                         \n",
      "correct=female   guess=female   name=Retha                         \n",
      "correct=female   guess=female   name=Rhoda                         \n",
      "correct=female   guess=female   name=Riannon                       \n",
      "correct=female   guess=female   name=Rickie                        \n",
      "correct=female   guess=female   name=Rina                          \n",
      "correct=female   guess=female   name=Robenia                       \n",
      "correct=female   guess=female   name=Robinet                       \n",
      "correct=female   guess=female   name=Roby                          \n",
      "correct=female   guess=female   name=Rochella                      \n",
      "correct=female   guess=female   name=Ronnica                       \n",
      "correct=female   guess=female   name=Roobbie                       \n",
      "correct=female   guess=female   name=Rosamund                      \n",
      "correct=female   guess=female   name=Rosana                        \n",
      "correct=female   guess=female   name=Roxana                        \n",
      "correct=female   guess=female   name=Rubi                          \n",
      "correct=female   guess=female   name=Rubina                        \n",
      "correct=female   guess=female   name=Ruthy                         \n",
      "correct=female   guess=female   name=Sacha                         \n",
      "correct=female   guess=female   name=Sada                          \n",
      "correct=female   guess=female   name=Sadie                         \n",
      "correct=female   guess=female   name=Sal                           \n",
      "correct=female   guess=female   name=Sandy                         \n",
      "correct=female   guess=female   name=Sara                          \n",
      "correct=female   guess=female   name=Sarena                        \n",
      "correct=female   guess=female   name=Sascha                        \n",
      "correct=female   guess=female   name=Saudra                        \n",
      "correct=female   guess=female   name=Sayre                         \n",
      "correct=female   guess=female   name=Scarlet                       \n",
      "correct=female   guess=female   name=Selia                         \n",
      "correct=female   guess=female   name=Sena                          \n",
      "correct=female   guess=female   name=Shaine                        \n",
      "correct=female   guess=female   name=Shalna                        \n",
      "correct=female   guess=female   name=Shandee                       \n",
      "correct=female   guess=female   name=Shandie                       \n",
      "correct=female   guess=female   name=Shani                         \n",
      "correct=female   guess=female   name=Sharie                        \n",
      "correct=female   guess=female   name=Sharl                         \n",
      "correct=female   guess=female   name=Sharleen                      \n",
      "correct=female   guess=female   name=Sharona                       \n",
      "correct=female   guess=female   name=Sharyl                        \n",
      "correct=female   guess=female   name=Shaylah                       \n",
      "correct=female   guess=female   name=Sheelah                       \n",
      "correct=female   guess=female   name=Sheeree                       \n",
      "correct=female   guess=female   name=Shelia                        \n",
      "correct=female   guess=female   name=Sherill                       \n",
      "correct=female   guess=female   name=Sherilyn                      \n",
      "correct=female   guess=female   name=Shina                         \n",
      "correct=female   guess=female   name=Shirleen                      \n",
      "correct=female   guess=female   name=Siana                         \n",
      "correct=female   guess=female   name=Sile                          \n",
      "correct=female   guess=female   name=Sileas                        \n",
      "correct=female   guess=female   name=Stacey                        \n",
      "correct=female   guess=female   name=Star                          \n",
      "correct=female   guess=female   name=Starlene                      \n",
      "correct=female   guess=female   name=Steffane                      \n",
      "correct=female   guess=female   name=Stella                        \n",
      "correct=female   guess=female   name=Stevena                       \n",
      "correct=female   guess=female   name=Storm                         \n",
      "correct=female   guess=female   name=Stormy                        \n",
      "correct=female   guess=female   name=Sula                          \n",
      "correct=female   guess=female   name=Susanna                       \n",
      "correct=female   guess=female   name=Suzanne                       \n",
      "correct=female   guess=female   name=Suzette                       \n",
      "correct=female   guess=female   name=Suzi                          \n",
      "correct=female   guess=female   name=Sybila                        \n",
      "correct=female   guess=female   name=Sybilla                       \n",
      "correct=female   guess=female   name=Sylvia                        \n",
      "correct=female   guess=female   name=Tabitha                       \n",
      "correct=female   guess=female   name=Talya                         \n",
      "correct=female   guess=female   name=Taryn                         \n",
      "correct=female   guess=female   name=Tasia                         \n",
      "correct=female   guess=female   name=Tatiana                       \n",
      "correct=female   guess=female   name=Tedda                         \n",
      "correct=female   guess=female   name=Terrianne                     \n",
      "correct=female   guess=female   name=Terza                         \n",
      "correct=female   guess=female   name=Tessy                         \n",
      "correct=female   guess=female   name=Theadora                      \n",
      "correct=female   guess=female   name=Theda                         \n",
      "correct=female   guess=female   name=Theressa                      \n",
      "correct=female   guess=female   name=Thomasina                     \n",
      "correct=female   guess=female   name=Tierney                       \n",
      "correct=female   guess=female   name=Timmie                        \n",
      "correct=female   guess=female   name=Tina                          \n",
      "correct=female   guess=female   name=Tomasina                      \n",
      "correct=female   guess=female   name=Tonya                         \n",
      "correct=female   guess=female   name=Trudi                         \n",
      "correct=female   guess=female   name=Valaree                       \n",
      "correct=female   guess=female   name=Valeria                       \n",
      "correct=female   guess=female   name=Valma                         \n",
      "correct=female   guess=female   name=Venus                         \n",
      "correct=female   guess=female   name=Verena                        \n",
      "correct=female   guess=female   name=Verna                         \n",
      "correct=female   guess=female   name=Virginia                      \n",
      "correct=female   guess=female   name=Vita                          \n",
      "correct=female   guess=female   name=Vivia                         \n",
      "correct=female   guess=female   name=Vivianna                      \n",
      "correct=female   guess=female   name=Yelena                        \n",
      "correct=female   guess=female   name=Yetta                         \n",
      "correct=female   guess=female   name=Yettie                        \n",
      "correct=female   guess=female   name=Zandra                        \n",
      "correct=female   guess=female   name=Zenia                         \n",
      "correct=female   guess=female   name=Zoe                           \n",
      "correct=female   guess=female   name=Zsa Zsa                       \n",
      "correct=female   guess=male     name=Halette                       \n",
      "correct=female   guess=male     name=Happy                         \n",
      "correct=female   guess=male     name=Harlie                        \n",
      "correct=female   guess=male     name=Harri                         \n",
      "correct=female   guess=male     name=Hatti                         \n",
      "correct=female   guess=male     name=Hedvig                        \n",
      "correct=female   guess=male     name=Heide                         \n",
      "correct=female   guess=male     name=Henriette                     \n",
      "correct=female   guess=male     name=Hermione                      \n",
      "correct=female   guess=male     name=Hildagard                     \n",
      "correct=female   guess=male     name=Hillary                       \n",
      "correct=female   guess=male     name=Holly-Anne                    \n",
      "correct=female   guess=male     name=Honor                         \n",
      "correct=female   guess=male     name=Hortensia                     \n",
      "correct=female   guess=male     name=Quintilla                     \n",
      "correct=female   guess=male     name=Una                           \n",
      "correct=female   guess=male     name=Uta                           \n",
      "correct=female   guess=male     name=Wanda                         \n",
      "correct=female   guess=male     name=Wendeline                     \n",
      "correct=female   guess=male     name=Wenonah                       \n",
      "correct=female   guess=male     name=Wileen                        \n",
      "correct=female   guess=male     name=Willie                        \n",
      "correct=female   guess=male     name=Willow                        \n",
      "correct=female   guess=male     name=Willy                         \n",
      "correct=female   guess=male     name=Wilona                        \n",
      "correct=female   guess=male     name=Wini                          \n",
      "correct=female   guess=male     name=Winifred                      \n",
      "correct=female   guess=male     name=Winnah                        \n",
      "correct=female   guess=male     name=Winne                         \n",
      "correct=male     guess=female   name=Adams                         \n",
      "correct=male     guess=female   name=Adlai                         \n",
      "correct=male     guess=female   name=Adolf                         \n",
      "correct=male     guess=female   name=Alain                         \n",
      "correct=male     guess=female   name=Aldric                        \n",
      "correct=male     guess=female   name=Alex                          \n",
      "correct=male     guess=female   name=Alix                          \n",
      "correct=male     guess=female   name=Alley                         \n",
      "correct=male     guess=female   name=Alston                        \n",
      "correct=male     guess=female   name=Amadeus                       \n",
      "correct=male     guess=female   name=Anatollo                      \n",
      "correct=male     guess=female   name=Anders                        \n",
      "correct=male     guess=female   name=Ansel                         \n",
      "correct=male     guess=female   name=Anselm                        \n",
      "correct=male     guess=female   name=Antin                         \n",
      "correct=male     guess=female   name=Antonin                       \n",
      "correct=male     guess=female   name=Antony                        \n",
      "correct=male     guess=female   name=Archibald                     \n",
      "correct=male     guess=female   name=Archy                         \n",
      "correct=male     guess=female   name=Arne                          \n",
      "correct=male     guess=female   name=Arnold                        \n",
      "correct=male     guess=female   name=Arron                         \n",
      "correct=male     guess=female   name=Art                           \n",
      "correct=male     guess=female   name=Arther                        \n",
      "correct=male     guess=female   name=Artie                         \n",
      "correct=male     guess=female   name=Ashby                         \n",
      "correct=male     guess=female   name=Ashish                        \n",
      "correct=male     guess=female   name=Aube                          \n",
      "correct=male     guess=female   name=Austen                        \n",
      "correct=male     guess=female   name=Austin                        \n",
      "correct=male     guess=female   name=Avery                         \n",
      "correct=male     guess=female   name=Bailie                        \n",
      "correct=male     guess=female   name=Baillie                       \n",
      "correct=male     guess=female   name=Baldwin                       \n",
      "correct=male     guess=female   name=Barnabas                      \n",
      "correct=male     guess=female   name=Barri                         \n",
      "correct=male     guess=female   name=Bartlett                      \n",
      "correct=male     guess=female   name=Bartolemo                     \n",
      "correct=male     guess=female   name=Baxter                        \n",
      "correct=male     guess=female   name=Benjamin                      \n",
      "correct=male     guess=female   name=Berke                         \n",
      "correct=male     guess=female   name=Bjorne                        \n",
      "correct=male     guess=female   name=Blare                         \n",
      "correct=male     guess=female   name=Bo                            \n",
      "correct=male     guess=female   name=Brad                          \n",
      "correct=male     guess=female   name=Braden                        \n",
      "correct=male     guess=female   name=Brinkley                      \n",
      "correct=male     guess=female   name=Brodie                        \n",
      "correct=male     guess=female   name=Brody                         \n",
      "correct=male     guess=female   name=Brooke                        \n",
      "correct=male     guess=female   name=Burgess                       \n",
      "correct=male     guess=female   name=Burt                          \n",
      "correct=male     guess=female   name=Caldwell                      \n",
      "correct=male     guess=female   name=Carlton                       \n",
      "correct=male     guess=female   name=Casey                         \n",
      "correct=male     guess=female   name=Chaddy                        \n",
      "correct=male     guess=female   name=Charlton                      \n",
      "correct=male     guess=female   name=Chas                          \n",
      "correct=male     guess=female   name=Christof                      \n",
      "correct=male     guess=female   name=Christos                      \n",
      "correct=male     guess=female   name=Churchill                     \n",
      "correct=male     guess=female   name=Clay                          \n",
      "correct=male     guess=female   name=Claybourne                    \n",
      "correct=male     guess=female   name=Clive                         \n",
      "correct=male     guess=female   name=Cobbie                        \n",
      "correct=male     guess=female   name=Coleman                       \n",
      "correct=male     guess=female   name=Conrad                        \n",
      "correct=male     guess=female   name=Constantinos                  \n",
      "correct=male     guess=female   name=Corby                         \n",
      "correct=male     guess=female   name=Corey                         \n",
      "correct=male     guess=female   name=Cory                          \n",
      "correct=male     guess=female   name=Courtney                      \n",
      "correct=male     guess=female   name=Cristopher                    \n",
      "correct=male     guess=female   name=Cyril                         \n",
      "correct=male     guess=female   name=Dabney                        \n",
      "correct=male     guess=female   name=Damon                         \n",
      "correct=male     guess=female   name=Daniel                        \n",
      "correct=male     guess=female   name=Dannie                        \n",
      "correct=male     guess=female   name=Darrick                       \n",
      "correct=male     guess=female   name=Davidson                      \n",
      "correct=male     guess=female   name=Dean                          \n",
      "correct=male     guess=female   name=Delbert                       \n",
      "correct=male     guess=female   name=Demetri                       \n",
      "correct=male     guess=female   name=Demetris                      \n",
      "correct=male     guess=female   name=Demosthenis                   \n",
      "correct=male     guess=female   name=Derby                         \n",
      "correct=male     guess=female   name=Derrick                       \n",
      "correct=male     guess=female   name=Devon                         \n",
      "correct=male     guess=female   name=Dietrich                      \n",
      "correct=male     guess=female   name=Dimitrou                      \n",
      "correct=male     guess=female   name=Dionysus                      \n",
      "correct=male     guess=female   name=Domenic                       \n",
      "correct=male     guess=female   name=Dominique                     \n",
      "correct=male     guess=female   name=Donnie                        \n",
      "correct=male     guess=female   name=Dory                          \n",
      "correct=male     guess=female   name=Dov                           \n",
      "correct=male     guess=female   name=Drake                         \n",
      "correct=male     guess=female   name=Dunc                          \n",
      "correct=male     guess=female   name=Earle                         \n",
      "correct=male     guess=female   name=Easton                        \n",
      "correct=male     guess=female   name=Ed                            \n",
      "correct=male     guess=female   name=Edie                          \n",
      "correct=male     guess=female   name=Edwin                         \n",
      "correct=male     guess=female   name=Elden                         \n",
      "correct=male     guess=female   name=Eldon                         \n",
      "correct=male     guess=female   name=Elric                         \n",
      "correct=male     guess=female   name=Elwood                        \n",
      "correct=male     guess=female   name=Emery                         \n",
      "correct=male     guess=female   name=Emile                         \n",
      "correct=male     guess=female   name=Emilio                        \n",
      "correct=male     guess=female   name=Engelbert                     \n",
      "correct=male     guess=female   name=Englebart                     \n",
      "correct=male     guess=female   name=Erasmus                       \n",
      "correct=male     guess=female   name=Erastus                       \n",
      "correct=male     guess=female   name=Erhart                        \n",
      "correct=male     guess=female   name=Erich                         \n",
      "correct=male     guess=female   name=Ernest                        \n",
      "correct=male     guess=female   name=Ernesto                       \n",
      "correct=male     guess=female   name=Erwin                         \n",
      "correct=male     guess=female   name=Esteban                       \n",
      "correct=male     guess=female   name=Everard                       \n",
      "correct=male     guess=female   name=Felice                        \n",
      "correct=male     guess=female   name=Filipe                        \n",
      "correct=male     guess=female   name=Fitzgerald                    \n",
      "correct=male     guess=female   name=Florian                       \n",
      "correct=male     guess=female   name=Franklyn                      \n",
      "correct=male     guess=female   name=Frederik                      \n",
      "correct=male     guess=female   name=Fredric                       \n",
      "correct=male     guess=female   name=Gail                          \n",
      "correct=male     guess=female   name=Garey                         \n",
      "correct=male     guess=female   name=Garth                         \n",
      "correct=male     guess=female   name=Garwin                        \n",
      "correct=male     guess=female   name=Gayle                         \n",
      "correct=male     guess=female   name=Geo                           \n",
      "correct=male     guess=female   name=Geoff                         \n",
      "correct=male     guess=female   name=Geoffrey                      \n",
      "correct=male     guess=female   name=Geoffry                       \n",
      "correct=male     guess=female   name=Geri                          \n",
      "correct=male     guess=female   name=Gerome                        \n",
      "correct=male     guess=female   name=Giffard                       \n",
      "correct=male     guess=female   name=Giorgi                        \n",
      "correct=male     guess=female   name=Godard                        \n",
      "correct=male     guess=female   name=Godfry                        \n",
      "correct=male     guess=female   name=Goober                        \n",
      "correct=male     guess=female   name=Grady                         \n",
      "correct=male     guess=female   name=Gregg                         \n",
      "correct=male     guess=female   name=Gregorio                      \n",
      "correct=male     guess=female   name=Griswold                      \n",
      "correct=male     guess=female   name=Guido                         \n",
      "correct=male     guess=female   name=Gunter                        \n",
      "correct=male     guess=female   name=Iggie                         \n",
      "correct=male     guess=female   name=Iggy                          \n",
      "correct=male     guess=female   name=Ignacius                      \n",
      "correct=male     guess=female   name=Inglebert                     \n",
      "correct=male     guess=female   name=Isaac                         \n",
      "correct=male     guess=female   name=Ishmael                       \n",
      "correct=male     guess=female   name=Jacob                         \n",
      "correct=male     guess=female   name=Jared                         \n",
      "correct=male     guess=female   name=Jean-Marc                     \n",
      "correct=male     guess=female   name=Jed                           \n",
      "correct=male     guess=female   name=Jefry                         \n",
      "correct=male     guess=female   name=Jerome                        \n",
      "correct=male     guess=female   name=Jessie                        \n",
      "correct=male     guess=female   name=Joachim                       \n",
      "correct=male     guess=female   name=Johann                        \n",
      "correct=male     guess=female   name=Jordan                        \n",
      "correct=male     guess=female   name=Jose                          \n",
      "correct=male     guess=female   name=Jud                           \n",
      "correct=male     guess=female   name=Judah                         \n",
      "correct=male     guess=female   name=Judson                        \n",
      "correct=male     guess=female   name=Julius                        \n",
      "correct=male     guess=female   name=Kane                          \n",
      "correct=male     guess=female   name=Karel                         \n",
      "correct=male     guess=female   name=Karim                         \n",
      "correct=male     guess=female   name=King                          \n",
      "correct=male     guess=female   name=Kip                           \n",
      "correct=male     guess=female   name=Laurence                      \n",
      "correct=male     guess=female   name=Lay                           \n",
      "correct=male     guess=female   name=Layton                        \n",
      "correct=male     guess=female   name=Leland                        \n",
      "correct=male     guess=female   name=Lem                           \n",
      "correct=male     guess=female   name=Lennie                        \n",
      "correct=male     guess=female   name=Leonardo                      \n",
      "correct=male     guess=female   name=Linus                         \n",
      "correct=male     guess=female   name=Lionello                      \n",
      "correct=male     guess=female   name=Lon                           \n",
      "correct=male     guess=female   name=Lothar                        \n",
      "correct=male     guess=female   name=Louie                         \n",
      "correct=male     guess=female   name=Lucas                         \n",
      "correct=male     guess=female   name=Mac                           \n",
      "correct=male     guess=female   name=Mace                          \n",
      "correct=male     guess=female   name=Mackenzie                     \n",
      "correct=male     guess=female   name=Mahmud                        \n",
      "correct=male     guess=female   name=Marcus                        \n",
      "correct=male     guess=female   name=Marlon                        \n",
      "correct=male     guess=female   name=Mart                          \n",
      "correct=male     guess=female   name=Maurice                       \n",
      "correct=male     guess=female   name=Maximilian                    \n",
      "correct=male     guess=female   name=Maxwell                       \n",
      "correct=male     guess=female   name=Melvin                        \n",
      "correct=male     guess=female   name=Mervin                        \n",
      "correct=male     guess=female   name=Michael                       \n",
      "correct=male     guess=female   name=Mick                          \n",
      "correct=male     guess=female   name=Miguel                        \n",
      "correct=male     guess=female   name=Mikael                        \n",
      "correct=male     guess=female   name=Mischa                        \n",
      "correct=male     guess=female   name=Morgan                        \n",
      "correct=male     guess=female   name=Morlee                        \n",
      "correct=male     guess=female   name=Morry                         \n",
      "correct=male     guess=female   name=Moses                         \n",
      "correct=male     guess=female   name=Murphy                        \n",
      "correct=male     guess=female   name=Nathan                        \n",
      "correct=male     guess=female   name=Nathanial                     \n",
      "correct=male     guess=female   name=Nero                          \n",
      "correct=male     guess=female   name=Neron                         \n",
      "correct=male     guess=female   name=Nevil                         \n",
      "correct=male     guess=female   name=Nicky                         \n",
      "correct=male     guess=female   name=Nikita                        \n",
      "correct=male     guess=female   name=Nikki                         \n",
      "correct=male     guess=female   name=Noland                        \n",
      "correct=male     guess=female   name=Obadias                       \n",
      "correct=male     guess=female   name=Oberon                        \n",
      "correct=male     guess=female   name=Olin                          \n",
      "correct=male     guess=female   name=Orin                          \n",
      "correct=male     guess=female   name=Orlando                       \n",
      "correct=male     guess=female   name=Orton                         \n",
      "correct=male     guess=female   name=Orville                       \n",
      "correct=male     guess=female   name=Osgood                        \n",
      "correct=male     guess=female   name=Pate                          \n",
      "correct=male     guess=female   name=Patric                        \n",
      "correct=male     guess=female   name=Pattie                        \n",
      "correct=male     guess=female   name=Patty                         \n",
      "correct=male     guess=female   name=Pembroke                      \n",
      "correct=male     guess=female   name=Penn                          \n",
      "correct=male     guess=female   name=Philbert                      \n",
      "correct=male     guess=female   name=Phip                          \n",
      "correct=male     guess=female   name=Poul                          \n",
      "correct=male     guess=female   name=Prasad                        \n",
      "correct=male     guess=female   name=Prentice                      \n",
      "correct=male     guess=female   name=Prescott                      \n",
      "correct=male     guess=female   name=Rabi                          \n",
      "correct=male     guess=female   name=Rafael                        \n",
      "correct=male     guess=female   name=Rafe                          \n",
      "correct=male     guess=female   name=Ransell                       \n",
      "correct=male     guess=female   name=Raphael                       \n",
      "correct=male     guess=female   name=Ravi                          \n",
      "correct=male     guess=female   name=Raynor                        \n",
      "correct=male     guess=female   name=Renado                        \n",
      "correct=male     guess=female   name=Reynold                       \n",
      "correct=male     guess=female   name=Ricard                        \n",
      "correct=male     guess=female   name=Ricki                         \n",
      "correct=male     guess=female   name=Ritch                         \n",
      "correct=male     guess=female   name=Rob                           \n",
      "correct=male     guess=female   name=Robinson                      \n",
      "correct=male     guess=female   name=Rockwell                      \n",
      "correct=male     guess=female   name=Roderich                      \n",
      "correct=male     guess=female   name=Rodge                         \n",
      "correct=male     guess=female   name=Rolando                       \n",
      "correct=male     guess=female   name=Rolf                          \n",
      "correct=male     guess=female   name=Romeo                         \n",
      "correct=male     guess=female   name=Ross                          \n",
      "correct=male     guess=female   name=Rufe                          \n",
      "correct=male     guess=female   name=Rustie                        \n",
      "correct=male     guess=female   name=Salvador                      \n",
      "correct=male     guess=female   name=Salvatore                     \n",
      "correct=male     guess=female   name=Sammy                         \n",
      "correct=male     guess=female   name=Sampson                       \n",
      "correct=male     guess=female   name=Samson                        \n",
      "correct=male     guess=female   name=Sancho                        \n",
      "correct=male     guess=female   name=Sandy                         \n",
      "correct=male     guess=female   name=Sayres                        \n",
      "correct=male     guess=female   name=Schuyler                      \n",
      "correct=male     guess=female   name=Scott                         \n",
      "correct=male     guess=female   name=See                           \n",
      "correct=male     guess=female   name=Selig                         \n",
      "correct=male     guess=female   name=Sergei                        \n",
      "correct=male     guess=female   name=Seymour                       \n",
      "correct=male     guess=female   name=Shalom                        \n",
      "correct=male     guess=female   name=Shamus                        \n",
      "correct=male     guess=female   name=Sheppard                      \n",
      "correct=male     guess=female   name=Siddhartha                    \n",
      "correct=male     guess=female   name=Sigfried                      \n",
      "correct=male     guess=female   name=Skelly                        \n",
      "correct=male     guess=female   name=Socrates                      \n",
      "correct=male     guess=female   name=Srinivas                      \n",
      "correct=male     guess=female   name=Staford                       \n",
      "correct=male     guess=female   name=Standford                     \n",
      "correct=male     guess=female   name=Stanleigh                     \n",
      "correct=male     guess=female   name=Stern                         \n",
      "correct=male     guess=female   name=Steve                         \n",
      "correct=male     guess=female   name=Stillman                      \n",
      "correct=male     guess=female   name=Stillmann                     \n",
      "correct=male     guess=female   name=Sully                         \n",
      "correct=male     guess=female   name=Sutherland                    \n",
      "correct=male     guess=female   name=Sylvan                        \n",
      "correct=male     guess=female   name=Tab                           \n",
      "correct=male     guess=female   name=Tabor                         \n",
      "correct=male     guess=female   name=Tad                           \n",
      "correct=male     guess=female   name=Taddeo                        \n",
      "correct=male     guess=female   name=Taylor                        \n",
      "correct=male     guess=female   name=Terence                       \n",
      "correct=male     guess=female   name=Terri                         \n",
      "correct=male     guess=female   name=Thain                         \n",
      "correct=male     guess=female   name=Thedric                       \n",
      "correct=male     guess=female   name=Theodore                      \n",
      "correct=male     guess=female   name=Theodoric                     \n",
      "correct=male     guess=female   name=Thibaud                       \n",
      "correct=male     guess=female   name=Thorn                         \n",
      "correct=male     guess=female   name=Thornton                      \n",
      "correct=male     guess=female   name=Thorpe                        \n",
      "correct=male     guess=female   name=Tobie                         \n",
      "correct=male     guess=female   name=Toby                          \n",
      "correct=male     guess=female   name=Tony                          \n",
      "correct=male     guess=female   name=Torin                         \n",
      "correct=male     guess=female   name=Travis                        \n",
      "correct=male     guess=female   name=Trent                         \n",
      "correct=male     guess=female   name=Trev                          \n",
      "correct=male     guess=female   name=Trevor                        \n",
      "correct=male     guess=female   name=Turner                        \n",
      "correct=male     guess=female   name=Vail                          \n",
      "correct=male     guess=female   name=Vasili                        \n",
      "correct=male     guess=female   name=Vasilis                       \n",
      "correct=male     guess=female   name=Vergil                        \n",
      "correct=male     guess=female   name=Vijay                         \n",
      "correct=male     guess=female   name=Vilhelm                       \n",
      "correct=male     guess=female   name=Virgilio                      \n",
      "correct=male     guess=female   name=Yank                          \n",
      "correct=male     guess=female   name=Zachary                       \n",
      "correct=male     guess=female   name=Zary                          \n",
      "correct=male     guess=female   name=Zippy                         \n",
      "correct=male     guess=male     name=Hadleigh                      \n",
      "correct=male     guess=male     name=Hailey                        \n",
      "correct=male     guess=male     name=Hammad                        \n",
      "correct=male     guess=male     name=Hanan                         \n",
      "correct=male     guess=male     name=Hannibal                      \n",
      "correct=male     guess=male     name=Hans-Peter                    \n",
      "correct=male     guess=male     name=Harcourt                      \n",
      "correct=male     guess=male     name=Harrison                      \n",
      "correct=male     guess=male     name=Hart                          \n",
      "correct=male     guess=male     name=Heathcliff                    \n",
      "correct=male     guess=male     name=Henri                         \n",
      "correct=male     guess=male     name=Henrik                        \n",
      "correct=male     guess=male     name=Herbie                        \n",
      "correct=male     guess=male     name=Herby                         \n",
      "correct=male     guess=male     name=Hermon                        \n",
      "correct=male     guess=male     name=Hernando                      \n",
      "correct=male     guess=male     name=Hewett                        \n",
      "correct=male     guess=male     name=Hewie                         \n",
      "correct=male     guess=male     name=Hilary                        \n",
      "correct=male     guess=male     name=Hillary                       \n",
      "correct=male     guess=male     name=Hiram                         \n",
      "correct=male     guess=male     name=Hogan                         \n",
      "correct=male     guess=male     name=Hugh                          \n",
      "correct=male     guess=male     name=Huntlee                       \n",
      "correct=male     guess=male     name=Hy                            \n",
      "correct=male     guess=male     name=Quintin                       \n",
      "correct=male     guess=male     name=Ulises                        \n",
      "correct=male     guess=male     name=Wake                          \n",
      "correct=male     guess=male     name=Waldemar                      \n",
      "correct=male     guess=male     name=Walden                        \n",
      "correct=male     guess=male     name=Wallace                       \n",
      "correct=male     guess=male     name=Wallas                        \n",
      "correct=male     guess=male     name=Warden                        \n",
      "correct=male     guess=male     name=Ware                          \n",
      "correct=male     guess=male     name=Waverly                       \n",
      "correct=male     guess=male     name=Waylan                        \n",
      "correct=male     guess=male     name=Waylen                        \n",
      "correct=male     guess=male     name=Web                           \n",
      "correct=male     guess=male     name=Weider                        \n",
      "correct=male     guess=male     name=Welch                         \n",
      "correct=male     guess=male     name=Werner                        \n",
      "correct=male     guess=male     name=Westley                       \n",
      "correct=male     guess=male     name=Whitaker                      \n",
      "correct=male     guess=male     name=Wilbur                        \n",
      "correct=male     guess=male     name=Winnie                        \n",
      "correct=male     guess=male     name=Wylie                         \n"
     ]
    }
   ],
   "source": [
    "#displaying the predictions\n",
    "\n",
    "baseline_predictions = []\n",
    "for (name, tag) in devtest_names:\n",
    "    guess = classifier.classify(gender_features(name))\n",
    "    baseline_predictions.append( (tag, guess, name) )\n",
    "    \n",
    "for (tag, guess, name) in sorted(baseline_predictions):\n",
    "    print('correct={:<8} guess={:<8s} name={:<30}'.format(tag, guess, name))"
   ]
  },
  {
   "cell_type": "markdown",
   "metadata": {},
   "source": [
    "Next, we'll look into improving feature selection."
   ]
  },
  {
   "cell_type": "markdown",
   "metadata": {
    "id": "IzKx3qg-k1m8"
   },
   "source": [
    "## 2. Choosing the Right Features - Bigram Model"
   ]
  },
  {
   "cell_type": "markdown",
   "metadata": {
    "id": "dj2zURzdk1m8"
   },
   "source": [
    "Feature: Character bigrams | With a speculation that better features will likely increase the model performance, the existing feature generation function is updated to extract character bigrams of a given name. This is to see if the sequence of characters in names will show some kind of pattern in them that will result in improved gender prediction."
   ]
  },
  {
   "cell_type": "code",
   "execution_count": null,
   "metadata": {
    "colab": {
     "base_uri": "https://localhost:8080/"
    },
    "id": "27HFn-4pk1m8",
    "outputId": "bbe43376-6d16-4055-be5a-41f39deeffb7"
   },
   "outputs": [
    {
     "data": {
      "text/plain": [
       "{'bg0': 'Sh', 'bg1': 'hr', 'bg2': 're', 'bg3': 'ek'}"
      ]
     },
     "execution_count": 12,
     "metadata": {
      "tags": []
     },
     "output_type": "execute_result"
    }
   ],
   "source": [
    "#defining a new function to retrieve character bigrams\n",
    "\n",
    "from nltk import bigrams\n",
    "def gender_features_2(word):\n",
    "    bigram_list = []\n",
    "    c = 0\n",
    "    for char in nltk.bigrams(word):\n",
    "        bigram_list += [('bg'+str(c), (char[0] + char[1]))]\n",
    "        c = c+1\n",
    "    return dict(bigram_list)\n",
    "gender_features_2('Shrek')"
   ]
  },
  {
   "cell_type": "markdown",
   "metadata": {
    "id": "lf-zHh0Mk1m8"
   },
   "source": [
    "### 2.1 Retraining the classifier with the new features (bigrams) and checking the accuracy on the dev-test set"
   ]
  },
  {
   "cell_type": "code",
   "execution_count": null,
   "metadata": {
    "colab": {
     "base_uri": "https://localhost:8080/"
    },
    "id": "S0c6Ul6rk1m8",
    "outputId": "e44262d6-bf6c-42a1-9e1b-5d8f4da93e0e"
   },
   "outputs": [
    {
     "name": "stdout",
     "output_type": "stream",
     "text": [
      "0.774\n"
     ]
    }
   ],
   "source": [
    "train_set = [(gender_features_2(n), gender) for (n, gender) in train_names]\n",
    "devtest_set = [(gender_features_2(n), gender) for (n, gender) in devtest_names]\n",
    "test_set = [(gender_features_2(n), gender) for (n, gender) in test_names]\n",
    "classifier_2 = nltk.NaiveBayesClassifier.train(train_set) \n",
    "print(nltk.classify.accuracy(classifier_2, devtest_set))"
   ]
  },
  {
   "cell_type": "code",
   "execution_count": null,
   "metadata": {
    "colab": {
     "base_uri": "https://localhost:8080/"
    },
    "id": "HWLGetkCk1m9",
    "outputId": "0a700f5d-7e37-481c-bf14-49d959d1e8b0"
   },
   "outputs": [
    {
     "name": "stdout",
     "output_type": "stream",
     "text": [
      "Most Informative Features\n",
      "                     bg2 = 'rk'             male : female =     17.2 : 1.0\n",
      "                     bg6 = 'rd'             male : female =     16.4 : 1.0\n",
      "                     bg0 = 'Fo'             male : female =     16.3 : 1.0\n",
      "                     bg0 = 'Hu'             male : female =     16.3 : 1.0\n",
      "                     bg2 = 'lb'             male : female =     16.1 : 1.0\n",
      "                     bg4 = 'ss'           female : male   =     13.3 : 1.0\n",
      "                     bg3 = 'to'             male : female =     13.1 : 1.0\n",
      "                     bg1 = 'is'           female : male   =     12.9 : 1.0\n",
      "                     bg5 = 'ta'           female : male   =     12.7 : 1.0\n",
      "                     bg5 = 'rd'             male : female =     12.6 : 1.0\n"
     ]
    }
   ],
   "source": [
    "classifier_2.show_most_informative_features(10)"
   ]
  },
  {
   "cell_type": "markdown",
   "metadata": {},
   "source": [
    "The train, dev-test, and test sets are updated with the character bigram feature function and the Naïve Bayes classifier is run on the dev-test set. This increases the accuracy of the model to 77.4%, which is a significant increase. The results show that names that have “ta”, and “ss”, in them such as Natasha and Alyssa tend to be more female names and names that have “rk” and “rd” in them such as Mark and Richard tend to be more male names. This is useful insight; however, we still want to see if this accuracy score can be increased to something like 85 or 90%."
   ]
  },
  {
   "cell_type": "markdown",
   "metadata": {
    "id": "D83s7hEkk1m9"
   },
   "source": [
    "## 3. Choosing the Right Features - Trigram Model"
   ]
  },
  {
   "cell_type": "markdown",
   "metadata": {
    "id": "V8axqnbRSRiC"
   },
   "source": [
    "Feature: Character trigrams | To further improve model's performance, the feature generator function is updated to retrieve three-character sequences (trigrams) of a name, which is then used for training the existing the Naives Bayes classification model. "
   ]
  },
  {
   "cell_type": "code",
   "execution_count": null,
   "metadata": {
    "colab": {
     "base_uri": "https://localhost:8080/"
    },
    "id": "MEIyRpVok1m-",
    "outputId": "a104c700-9db7-4c4c-c0d9-240301daaddf"
   },
   "outputs": [
    {
     "data": {
      "text/plain": [
       "{'bg0': 'Abi', 'bg1': 'big', 'bg2': 'iga', 'bg3': 'gai', 'bg4': 'ail'}"
      ]
     },
     "execution_count": 15,
     "metadata": {
      "tags": []
     },
     "output_type": "execute_result"
    }
   ],
   "source": [
    "#defining a new function to retrieve character bigrams\n",
    "\n",
    "from nltk import trigrams\n",
    "\n",
    "def gender_features_3(word):\n",
    "    trigram_list = []\n",
    "    c = 0\n",
    "    for char in nltk.trigrams(word):\n",
    "        trigram_list += [('bg'+str(c), (char[0] + char[1] + char[2]))]\n",
    "        c = c+1\n",
    "    return dict(trigram_list)\n",
    "gender_features_3('Abigail')"
   ]
  },
  {
   "cell_type": "markdown",
   "metadata": {
    "id": "SJFW9TIwk1m_"
   },
   "source": [
    "### 3.1 Retraining the classifier with the new features (trigrams) and checking the accuracy on the dev-test set"
   ]
  },
  {
   "cell_type": "code",
   "execution_count": null,
   "metadata": {
    "colab": {
     "base_uri": "https://localhost:8080/"
    },
    "id": "LTm4Vzakk1m_",
    "outputId": "e93cfb40-b9f5-496f-8009-7c06dab08eb6"
   },
   "outputs": [
    {
     "name": "stdout",
     "output_type": "stream",
     "text": [
      "0.794\n"
     ]
    }
   ],
   "source": [
    "train_set = [(gender_features_3(n), gender) for (n, gender) in train_names]\n",
    "devtest_set = [(gender_features_3(n), gender) for (n, gender) in devtest_names]\n",
    "test_set = [(gender_features_3(n), gender) for (n, gender) in test_names]\n",
    "classifier_3 = nltk.NaiveBayesClassifier.train(train_set) \n",
    "print(nltk.classify.accuracy(classifier_3, devtest_set))"
   ]
  },
  {
   "cell_type": "code",
   "execution_count": null,
   "metadata": {
    "colab": {
     "base_uri": "https://localhost:8080/"
    },
    "id": "DbquAzPpk1nA",
    "outputId": "7a69d5cf-d574-4e2a-d646-c3287320bdf5"
   },
   "outputs": [
    {
     "name": "stdout",
     "output_type": "stream",
     "text": [
      "correct=female   guess=female   name=Abigail                       \n",
      "correct=female   guess=female   name=Acacia                        \n",
      "correct=female   guess=female   name=Adeline                       \n",
      "correct=female   guess=female   name=Adiana                        \n",
      "correct=female   guess=female   name=Aila                          \n",
      "correct=female   guess=female   name=Ailee                         \n",
      "correct=female   guess=female   name=Aili                          \n",
      "correct=female   guess=female   name=Ailina                        \n",
      "correct=female   guess=female   name=Aime                          \n",
      "correct=female   guess=female   name=Alexi                         \n",
      "correct=female   guess=female   name=Alexina                       \n",
      "correct=female   guess=female   name=Alexine                       \n",
      "correct=female   guess=female   name=Alidia                        \n",
      "correct=female   guess=female   name=Alis                          \n",
      "correct=female   guess=female   name=Alla                          \n",
      "correct=female   guess=female   name=Almeta                        \n",
      "correct=female   guess=female   name=Almire                        \n",
      "correct=female   guess=female   name=Aloise                        \n",
      "correct=female   guess=female   name=Amanda                        \n",
      "correct=female   guess=female   name=Amata                         \n",
      "correct=female   guess=female   name=Amelie                        \n",
      "correct=female   guess=female   name=Ammamaria                     \n",
      "correct=female   guess=female   name=Analiese                      \n",
      "correct=female   guess=female   name=Ange                          \n",
      "correct=female   guess=female   name=Angelika                      \n",
      "correct=female   guess=female   name=Annabel                       \n",
      "correct=female   guess=female   name=Annabela                      \n",
      "correct=female   guess=female   name=Annabell                      \n",
      "correct=female   guess=female   name=Annabelle                     \n",
      "correct=female   guess=female   name=Annalyse                      \n",
      "correct=female   guess=female   name=Annamaria                     \n",
      "correct=female   guess=female   name=Annecorinne                   \n",
      "correct=female   guess=female   name=Anny                          \n",
      "correct=female   guess=female   name=Antonetta                     \n",
      "correct=female   guess=female   name=Arabela                       \n",
      "correct=female   guess=female   name=Ardine                        \n",
      "correct=female   guess=female   name=Ardys                         \n",
      "correct=female   guess=female   name=Arleta                        \n",
      "correct=female   guess=female   name=Ashlen                        \n",
      "correct=female   guess=female   name=Aubree                        \n",
      "correct=female   guess=female   name=Aurora                        \n",
      "correct=female   guess=female   name=Ava                           \n",
      "correct=female   guess=female   name=Avie                          \n",
      "correct=female   guess=female   name=Babette                       \n",
      "correct=female   guess=female   name=Barbaraanne                   \n",
      "correct=female   guess=female   name=Bari                          \n",
      "correct=female   guess=female   name=Beatrice                      \n",
      "correct=female   guess=female   name=Beckie                        \n",
      "correct=female   guess=female   name=Belvia                        \n",
      "correct=female   guess=female   name=Bernice                       \n",
      "correct=female   guess=female   name=Berti                         \n",
      "correct=female   guess=female   name=Bertina                       \n",
      "correct=female   guess=female   name=Beryl                         \n",
      "correct=female   guess=female   name=Beverlee                      \n",
      "correct=female   guess=female   name=Bill                          \n",
      "correct=female   guess=female   name=Blanch                        \n",
      "correct=female   guess=female   name=Bobby                         \n",
      "correct=female   guess=female   name=Bonny                         \n",
      "correct=female   guess=female   name=Brandi                        \n",
      "correct=female   guess=female   name=Brenn                         \n",
      "correct=female   guess=female   name=Bridie                        \n",
      "correct=female   guess=female   name=Briny                         \n",
      "correct=female   guess=female   name=Britaney                      \n",
      "correct=female   guess=female   name=Britni                        \n",
      "correct=female   guess=female   name=Brunella                      \n",
      "correct=female   guess=female   name=Brunhilde                     \n",
      "correct=female   guess=female   name=Bryn                          \n",
      "correct=female   guess=female   name=Cabrina                       \n",
      "correct=female   guess=female   name=Calida                        \n",
      "correct=female   guess=female   name=Cam                           \n",
      "correct=female   guess=female   name=Camel                         \n",
      "correct=female   guess=female   name=Camellia                      \n",
      "correct=female   guess=female   name=Cappella                      \n",
      "correct=female   guess=female   name=Caralie                       \n",
      "correct=female   guess=female   name=Caren                         \n",
      "correct=female   guess=female   name=Carena                        \n",
      "correct=female   guess=female   name=Carey                         \n",
      "correct=female   guess=female   name=Carla                         \n",
      "correct=female   guess=female   name=Carlee                        \n",
      "correct=female   guess=female   name=Carleen                       \n",
      "correct=female   guess=female   name=Carlena                       \n",
      "correct=female   guess=female   name=Carlye                        \n",
      "correct=female   guess=female   name=Carmelle                      \n",
      "correct=female   guess=female   name=Carmine                       \n",
      "correct=female   guess=female   name=Caryn                         \n",
      "correct=female   guess=female   name=Cass                          \n",
      "correct=female   guess=female   name=Cassondra                     \n",
      "correct=female   guess=female   name=Catarina                      \n",
      "correct=female   guess=female   name=Cathlene                      \n",
      "correct=female   guess=female   name=Catlin                        \n",
      "correct=female   guess=female   name=Catrina                       \n",
      "correct=female   guess=female   name=Cayla                         \n",
      "correct=female   guess=female   name=Cecilla                       \n",
      "correct=female   guess=female   name=Ceil                          \n",
      "correct=female   guess=female   name=Celestia                      \n",
      "correct=female   guess=female   name=Celestyn                      \n",
      "correct=female   guess=female   name=Cheryl                        \n",
      "correct=female   guess=female   name=Chiarra                       \n",
      "correct=female   guess=female   name=Christa                       \n",
      "correct=female   guess=female   name=Cindelyn                      \n",
      "correct=female   guess=female   name=Clarette                      \n",
      "correct=female   guess=female   name=Clarinda                      \n",
      "correct=female   guess=female   name=Clarissa                      \n",
      "correct=female   guess=female   name=Claudette                     \n",
      "correct=female   guess=female   name=Clementina                    \n",
      "correct=female   guess=female   name=Cloe                          \n",
      "correct=female   guess=female   name=Corabelle                     \n",
      "correct=female   guess=female   name=Coralie                       \n",
      "correct=female   guess=female   name=Coralyn                       \n",
      "correct=female   guess=female   name=Corina                        \n",
      "correct=female   guess=female   name=Corinne                       \n",
      "correct=female   guess=female   name=Corliss                       \n",
      "correct=female   guess=female   name=Corly                         \n",
      "correct=female   guess=female   name=Correna                       \n",
      "correct=female   guess=female   name=Corrie                        \n",
      "correct=female   guess=female   name=Corrinne                      \n",
      "correct=female   guess=female   name=Cosette                       \n",
      "correct=female   guess=female   name=Cresa                         \n",
      "correct=female   guess=female   name=Cristin                       \n",
      "correct=female   guess=female   name=Cynthia                       \n",
      "correct=female   guess=female   name=Dacy                          \n",
      "correct=female   guess=female   name=Daffi                         \n",
      "correct=female   guess=female   name=Dalenna                       \n",
      "correct=female   guess=female   name=Danit                         \n",
      "correct=female   guess=female   name=Danya                         \n",
      "correct=female   guess=female   name=Danyelle                      \n",
      "correct=female   guess=female   name=Daphene                       \n",
      "correct=female   guess=female   name=Darby                         \n",
      "correct=female   guess=female   name=Darell                        \n",
      "correct=female   guess=female   name=Dari                          \n",
      "correct=female   guess=female   name=Darsie                        \n",
      "correct=female   guess=female   name=Davita                        \n",
      "correct=female   guess=female   name=Dayna                         \n",
      "correct=female   guess=female   name=Deanne                        \n",
      "correct=female   guess=female   name=Debby                         \n",
      "correct=female   guess=female   name=Debera                        \n",
      "correct=female   guess=female   name=Debor                         \n",
      "correct=female   guess=female   name=Deina                         \n",
      "correct=female   guess=female   name=Delaney                       \n",
      "correct=female   guess=female   name=Delphina                      \n",
      "correct=female   guess=female   name=Deni                          \n",
      "correct=female   guess=female   name=Denice                        \n",
      "correct=female   guess=female   name=Deny                          \n",
      "correct=female   guess=female   name=Deva                          \n",
      "correct=female   guess=female   name=Dianemarie                    \n",
      "correct=female   guess=female   name=Didi                          \n",
      "correct=female   guess=female   name=Dody                          \n",
      "correct=female   guess=female   name=Dolly                         \n",
      "correct=female   guess=female   name=Dominique                     \n",
      "correct=female   guess=female   name=Donni                         \n",
      "correct=female   guess=female   name=Dora                          \n",
      "correct=female   guess=female   name=Dore                          \n",
      "correct=female   guess=female   name=Dorella                       \n",
      "correct=female   guess=female   name=Dorian                        \n",
      "correct=female   guess=female   name=Dorolisa                      \n",
      "correct=female   guess=female   name=Dorotea                       \n",
      "correct=female   guess=female   name=Doroteya                      \n",
      "correct=female   guess=female   name=Dorree                        \n",
      "correct=female   guess=female   name=Dorris                        \n",
      "correct=female   guess=female   name=Dory                          \n",
      "correct=female   guess=female   name=Dosi                          \n",
      "correct=female   guess=female   name=Dulcia                        \n",
      "correct=female   guess=female   name=Dulcine                       \n",
      "correct=female   guess=female   name=Dyane                         \n",
      "correct=female   guess=female   name=Eadith                        \n",
      "correct=female   guess=female   name=Eba                           \n",
      "correct=female   guess=female   name=Ebony                         \n",
      "correct=female   guess=female   name=Edin                          \n",
      "correct=female   guess=female   name=Edita                         \n",
      "correct=female   guess=female   name=Editha                        \n",
      "correct=female   guess=female   name=Edithe                        \n",
      "correct=female   guess=female   name=Edyth                         \n",
      "correct=female   guess=female   name=Eleanore                      \n",
      "correct=female   guess=female   name=Elena                         \n",
      "correct=female   guess=female   name=Elene                         \n",
      "correct=female   guess=female   name=Elianora                      \n",
      "correct=female   guess=female   name=Elisa                         \n",
      "correct=female   guess=female   name=Elisabeth                     \n",
      "correct=female   guess=female   name=Elizabeth                     \n",
      "correct=female   guess=female   name=Elli                          \n",
      "correct=female   guess=female   name=Ellyn                         \n",
      "correct=female   guess=female   name=Eloisa                        \n",
      "correct=female   guess=female   name=Elva                          \n",
      "correct=female   guess=female   name=Elvina                        \n",
      "correct=female   guess=female   name=Emalia                        \n",
      "correct=female   guess=female   name=Emelia                        \n",
      "correct=female   guess=female   name=Emma                          \n",
      "correct=female   guess=female   name=Erda                          \n",
      "correct=female   guess=female   name=Erina                         \n",
      "correct=female   guess=female   name=Erinn                         \n",
      "correct=female   guess=female   name=Essa                          \n",
      "correct=female   guess=female   name=Estel                         \n",
      "correct=female   guess=female   name=Estella                       \n",
      "correct=female   guess=female   name=Eudora                        \n",
      "correct=female   guess=female   name=Eula                          \n",
      "correct=female   guess=female   name=Eunice                        \n",
      "correct=female   guess=female   name=Evangelin                     \n",
      "correct=female   guess=female   name=Evita                         \n",
      "correct=female   guess=female   name=Fanchette                     \n",
      "correct=female   guess=female   name=Fanchon                       \n",
      "correct=female   guess=female   name=Fawna                         \n",
      "correct=female   guess=female   name=Fay                           \n",
      "correct=female   guess=female   name=Faythe                        \n",
      "correct=female   guess=female   name=Fidelity                      \n",
      "correct=female   guess=female   name=Fleurette                     \n",
      "correct=female   guess=female   name=Florance                      \n",
      "correct=female   guess=female   name=Florence                      \n",
      "correct=female   guess=female   name=Florry                        \n",
      "correct=female   guess=female   name=Francine                      \n",
      "correct=female   guess=female   name=Gabbie                        \n",
      "correct=female   guess=female   name=Gabriela                      \n",
      "correct=female   guess=female   name=Gael                          \n",
      "correct=female   guess=female   name=Georgianna                    \n",
      "correct=female   guess=female   name=Geraldine                     \n",
      "correct=female   guess=female   name=Gerry                         \n",
      "correct=female   guess=female   name=Gerti                         \n",
      "correct=female   guess=female   name=Gertrudis                     \n",
      "correct=female   guess=female   name=Gill                          \n",
      "correct=female   guess=female   name=Ginelle                       \n",
      "correct=female   guess=female   name=Ginnie                        \n",
      "correct=female   guess=female   name=Gizela                        \n",
      "correct=female   guess=female   name=Glennis                       \n",
      "correct=female   guess=female   name=Goldia                        \n",
      "correct=female   guess=female   name=Guendolen                     \n",
      "correct=female   guess=female   name=Guinevere                     \n",
      "correct=female   guess=female   name=Gwendolen                     \n",
      "correct=female   guess=female   name=Gwendolin                     \n",
      "correct=female   guess=female   name=Gweneth                       \n",
      "correct=female   guess=female   name=Gwyneth                       \n",
      "correct=female   guess=female   name=Halette                       \n",
      "correct=female   guess=female   name=Happy                         \n",
      "correct=female   guess=female   name=Harlie                        \n",
      "correct=female   guess=female   name=Harri                         \n",
      "correct=female   guess=female   name=Hatti                         \n",
      "correct=female   guess=female   name=Heide                         \n",
      "correct=female   guess=female   name=Henriette                     \n",
      "correct=female   guess=female   name=Hildagard                     \n",
      "correct=female   guess=female   name=Holly-Anne                    \n",
      "correct=female   guess=female   name=Honor                         \n",
      "correct=female   guess=female   name=Idalina                       \n",
      "correct=female   guess=female   name=Idelle                        \n",
      "correct=female   guess=female   name=Ilse                          \n",
      "correct=female   guess=female   name=Ilyse                         \n",
      "correct=female   guess=female   name=Ilyssa                        \n",
      "correct=female   guess=female   name=Imelda                        \n",
      "correct=female   guess=female   name=Irita                         \n",
      "correct=female   guess=female   name=Isabel                        \n",
      "correct=female   guess=female   name=Isobel                        \n",
      "correct=female   guess=female   name=Jacinda                       \n",
      "correct=female   guess=female   name=Jacinthe                      \n",
      "correct=female   guess=female   name=Jacki                         \n",
      "correct=female   guess=female   name=Jacklin                       \n",
      "correct=female   guess=female   name=Jackquelin                    \n",
      "correct=female   guess=female   name=Jan                           \n",
      "correct=female   guess=female   name=Janaye                        \n",
      "correct=female   guess=female   name=Jane                          \n",
      "correct=female   guess=female   name=Janette                       \n",
      "correct=female   guess=female   name=Janka                         \n",
      "correct=female   guess=female   name=Jaquelin                      \n",
      "correct=female   guess=female   name=Jaquith                       \n",
      "correct=female   guess=female   name=Jasmine                       \n",
      "correct=female   guess=female   name=Jeane                         \n",
      "correct=female   guess=female   name=Jeanie                        \n",
      "correct=female   guess=female   name=Jeanna                        \n",
      "correct=female   guess=female   name=Jelene                        \n",
      "correct=female   guess=female   name=Jenifer                       \n",
      "correct=female   guess=female   name=Jenna                         \n",
      "correct=female   guess=female   name=Jennette                      \n",
      "correct=female   guess=female   name=Jennifer                      \n",
      "correct=female   guess=female   name=Jewell                        \n",
      "correct=female   guess=female   name=Jewelle                       \n",
      "correct=female   guess=female   name=JoAnne                        \n",
      "correct=female   guess=female   name=Joannes                       \n",
      "correct=female   guess=female   name=Joceline                      \n",
      "correct=female   guess=female   name=Joelly                        \n",
      "correct=female   guess=female   name=Joellyn                       \n",
      "correct=female   guess=female   name=Joni                          \n",
      "correct=female   guess=female   name=Jonis                         \n",
      "correct=female   guess=female   name=Josee                         \n",
      "correct=female   guess=female   name=Josi                          \n",
      "correct=female   guess=female   name=Josie                         \n",
      "correct=female   guess=female   name=Josselyn                      \n",
      "correct=female   guess=female   name=Joyan                         \n",
      "correct=female   guess=female   name=Joyce                         \n",
      "correct=female   guess=female   name=Joyous                        \n",
      "correct=female   guess=female   name=Juditha                       \n",
      "correct=female   guess=female   name=Julia                         \n",
      "correct=female   guess=female   name=Juliann                       \n",
      "correct=female   guess=female   name=June                          \n",
      "correct=female   guess=female   name=Kaari                         \n",
      "correct=female   guess=female   name=Kailey                        \n",
      "correct=female   guess=female   name=Kaitlynn                      \n",
      "correct=female   guess=female   name=Kala                          \n",
      "correct=female   guess=female   name=Kally                         \n",
      "correct=female   guess=female   name=Kandace                       \n",
      "correct=female   guess=female   name=Karalynn                      \n",
      "correct=female   guess=female   name=Katharina                     \n",
      "correct=female   guess=female   name=Kathryn                       \n",
      "correct=female   guess=female   name=Katuscha                      \n",
      "correct=female   guess=female   name=Kellia                        \n",
      "correct=female   guess=female   name=Kerry                         \n",
      "correct=female   guess=female   name=Keslie                        \n",
      "correct=female   guess=female   name=Ketti                         \n",
      "correct=female   guess=female   name=Kiah                          \n",
      "correct=female   guess=female   name=Kiele                         \n",
      "correct=female   guess=female   name=Kip                           \n",
      "correct=female   guess=female   name=Koo                           \n",
      "correct=female   guess=female   name=Korrie                        \n",
      "correct=female   guess=female   name=Krista                        \n",
      "correct=female   guess=female   name=Kristal                       \n",
      "correct=female   guess=female   name=Kristel                       \n",
      "correct=female   guess=female   name=Kristine                      \n",
      "correct=female   guess=female   name=Kym                           \n",
      "correct=female   guess=female   name=Lacie                         \n",
      "correct=female   guess=female   name=Laila                         \n",
      "correct=female   guess=female   name=Lanni                         \n",
      "correct=female   guess=female   name=Larine                        \n",
      "correct=female   guess=female   name=Lauretta                      \n",
      "correct=female   guess=female   name=Laurianne                     \n",
      "correct=female   guess=female   name=Lavina                        \n",
      "correct=female   guess=female   name=Lavinie                       \n",
      "correct=female   guess=female   name=Layney                        \n",
      "correct=female   guess=female   name=Leah                          \n",
      "correct=female   guess=female   name=Leesa                         \n",
      "correct=female   guess=female   name=Leila                         \n",
      "correct=female   guess=female   name=Leola                         \n",
      "correct=female   guess=female   name=Leorah                        \n",
      "correct=female   guess=female   name=Letta                         \n",
      "correct=female   guess=female   name=Lettie                        \n",
      "correct=female   guess=female   name=Lianna                        \n",
      "correct=female   guess=female   name=Libbey                        \n",
      "correct=female   guess=female   name=Lil                           \n",
      "correct=female   guess=female   name=Lilyan                        \n",
      "correct=female   guess=female   name=Linea                         \n",
      "correct=female   guess=female   name=Linet                         \n",
      "correct=female   guess=female   name=Linnie                        \n",
      "correct=female   guess=female   name=Liorah                        \n",
      "correct=female   guess=female   name=Lisbeth                       \n",
      "correct=female   guess=female   name=Lise                          \n",
      "correct=female   guess=female   name=Lisetta                       \n",
      "correct=female   guess=female   name=Lissy                         \n",
      "correct=female   guess=female   name=Lita                          \n",
      "correct=female   guess=female   name=Loleta                        \n",
      "correct=female   guess=female   name=Lolly                         \n",
      "correct=female   guess=female   name=Lonna                         \n",
      "correct=female   guess=female   name=Loreen                        \n",
      "correct=female   guess=female   name=Lorena                        \n",
      "correct=female   guess=female   name=Lorita                        \n",
      "correct=female   guess=female   name=Lorna                         \n",
      "correct=female   guess=female   name=Lucinda                       \n",
      "correct=female   guess=female   name=Lulita                        \n",
      "correct=female   guess=female   name=Lurette                       \n",
      "correct=female   guess=female   name=Lysandra                      \n",
      "correct=female   guess=female   name=Madella                       \n",
      "correct=female   guess=female   name=Madelon                       \n",
      "correct=female   guess=female   name=Mae                           \n",
      "correct=female   guess=female   name=Maisie                        \n",
      "correct=female   guess=female   name=Mala                          \n",
      "correct=female   guess=female   name=Malka                         \n",
      "correct=female   guess=female   name=Mallissa                      \n",
      "correct=female   guess=female   name=Malorie                       \n",
      "correct=female   guess=female   name=Malva                         \n",
      "correct=female   guess=female   name=Mandy                         \n",
      "correct=female   guess=female   name=Marcelline                    \n",
      "correct=female   guess=female   name=Marcie                        \n",
      "correct=female   guess=female   name=Marcy                         \n",
      "correct=female   guess=female   name=Marga                         \n",
      "correct=female   guess=female   name=Margalit                      \n",
      "correct=female   guess=female   name=Margery                       \n",
      "correct=female   guess=female   name=Margette                      \n",
      "correct=female   guess=female   name=Margit                        \n",
      "correct=female   guess=female   name=Marglerite                    \n",
      "correct=female   guess=female   name=Maria                         \n",
      "correct=female   guess=female   name=Marijo                        \n",
      "correct=female   guess=female   name=Marlie                        \n",
      "correct=female   guess=female   name=Martie                        \n",
      "correct=female   guess=female   name=Martynne                      \n",
      "correct=female   guess=female   name=Maryangelyn                   \n",
      "correct=female   guess=female   name=Maryellen                     \n",
      "correct=female   guess=female   name=Marylynne                     \n",
      "correct=female   guess=female   name=Maurene                       \n",
      "correct=female   guess=female   name=Maurine                       \n",
      "correct=female   guess=female   name=Mela                          \n",
      "correct=female   guess=female   name=Melantha                      \n",
      "correct=female   guess=female   name=Melodee                       \n",
      "correct=female   guess=female   name=Merilee                       \n",
      "correct=female   guess=female   name=Merla                         \n",
      "correct=female   guess=female   name=Merle                         \n",
      "correct=female   guess=female   name=Merline                       \n",
      "correct=female   guess=female   name=Michaela                      \n",
      "correct=female   guess=female   name=Micheline                     \n",
      "correct=female   guess=female   name=Michelle                      \n",
      "correct=female   guess=female   name=Miguelita                     \n",
      "correct=female   guess=female   name=Millicent                     \n",
      "correct=female   guess=female   name=Min                           \n",
      "correct=female   guess=female   name=Minerva                       \n",
      "correct=female   guess=female   name=Minni                         \n",
      "correct=female   guess=female   name=Mireielle                     \n",
      "correct=female   guess=female   name=Molli                         \n",
      "correct=female   guess=female   name=Moselle                       \n",
      "correct=female   guess=female   name=Mufinella                     \n",
      "correct=female   guess=female   name=Myra                          \n",
      "correct=female   guess=female   name=Myrilla                       \n",
      "correct=female   guess=female   name=Myrtie                        \n",
      "correct=female   guess=female   name=Nada                          \n",
      "correct=female   guess=female   name=Nana                          \n",
      "correct=female   guess=female   name=Nanete                        \n",
      "correct=female   guess=female   name=Nanine                        \n",
      "correct=female   guess=female   name=Natalina                      \n",
      "correct=female   guess=female   name=Nelli                         \n",
      "correct=female   guess=female   name=Nerti                         \n",
      "correct=female   guess=female   name=Nidia                         \n",
      "correct=female   guess=female   name=Nikolia                       \n",
      "correct=female   guess=female   name=Nissie                        \n",
      "correct=female   guess=female   name=Noni                          \n",
      "correct=female   guess=female   name=Norah                         \n",
      "correct=female   guess=female   name=Norine                        \n",
      "correct=female   guess=female   name=Norrie                        \n",
      "correct=female   guess=female   name=Nyssa                         \n",
      "correct=female   guess=female   name=Odelle                        \n",
      "correct=female   guess=female   name=Odessa                        \n",
      "correct=female   guess=female   name=Olia                          \n",
      "correct=female   guess=female   name=Ophelie                       \n",
      "correct=female   guess=female   name=Orly                          \n",
      "correct=female   guess=female   name=Pammie                        \n",
      "correct=female   guess=female   name=Patty                         \n",
      "correct=female   guess=female   name=Paula                         \n",
      "correct=female   guess=female   name=Pauly                         \n",
      "correct=female   guess=female   name=Pearl                         \n",
      "correct=female   guess=female   name=Pearline                      \n",
      "correct=female   guess=female   name=Penni                         \n",
      "correct=female   guess=female   name=Phebe                         \n",
      "correct=female   guess=female   name=Phelia                        \n",
      "correct=female   guess=female   name=Phillis                       \n",
      "correct=female   guess=female   name=Phyllis                       \n",
      "correct=female   guess=female   name=Pierrette                     \n",
      "correct=female   guess=female   name=Priscella                     \n",
      "correct=female   guess=female   name=Randene                       \n",
      "correct=female   guess=female   name=Rasla                         \n",
      "correct=female   guess=female   name=Ree                           \n",
      "correct=female   guess=female   name=Reina                         \n",
      "correct=female   guess=female   name=Retha                         \n",
      "correct=female   guess=female   name=Rhoda                         \n",
      "correct=female   guess=female   name=Riannon                       \n",
      "correct=female   guess=female   name=Rina                          \n",
      "correct=female   guess=female   name=Robenia                       \n",
      "correct=female   guess=female   name=Robinet                       \n",
      "correct=female   guess=female   name=Roby                          \n",
      "correct=female   guess=female   name=Rochella                      \n",
      "correct=female   guess=female   name=Ronnica                       \n",
      "correct=female   guess=female   name=Rosamund                      \n",
      "correct=female   guess=female   name=Rosana                        \n",
      "correct=female   guess=female   name=Roxana                        \n",
      "correct=female   guess=female   name=Rubi                          \n",
      "correct=female   guess=female   name=Rubina                        \n",
      "correct=female   guess=female   name=Ruthy                         \n",
      "correct=female   guess=female   name=Sada                          \n",
      "correct=female   guess=female   name=Sadie                         \n",
      "correct=female   guess=female   name=Sandy                         \n",
      "correct=female   guess=female   name=Sara                          \n",
      "correct=female   guess=female   name=Sarena                        \n",
      "correct=female   guess=female   name=Saudra                        \n",
      "correct=female   guess=female   name=Scarlet                       \n",
      "correct=female   guess=female   name=Selia                         \n",
      "correct=female   guess=female   name=Sena                          \n",
      "correct=female   guess=female   name=Shaine                        \n",
      "correct=female   guess=female   name=Shalna                        \n",
      "correct=female   guess=female   name=Shandee                       \n",
      "correct=female   guess=female   name=Shandie                       \n",
      "correct=female   guess=female   name=Shani                         \n",
      "correct=female   guess=female   name=Sharie                        \n",
      "correct=female   guess=female   name=Sharl                         \n",
      "correct=female   guess=female   name=Sharleen                      \n",
      "correct=female   guess=female   name=Sharona                       \n",
      "correct=female   guess=female   name=Sharyl                        \n",
      "correct=female   guess=female   name=Shaylah                       \n",
      "correct=female   guess=female   name=Sheelah                       \n",
      "correct=female   guess=female   name=Sheeree                       \n",
      "correct=female   guess=female   name=Shelia                        \n",
      "correct=female   guess=female   name=Sherill                       \n",
      "correct=female   guess=female   name=Sherilyn                      \n",
      "correct=female   guess=female   name=Shina                         \n",
      "correct=female   guess=female   name=Shirleen                      \n",
      "correct=female   guess=female   name=Siana                         \n",
      "correct=female   guess=female   name=Stacey                        \n",
      "correct=female   guess=female   name=Star                          \n",
      "correct=female   guess=female   name=Starlene                      \n",
      "correct=female   guess=female   name=Stella                        \n",
      "correct=female   guess=female   name=Storm                         \n",
      "correct=female   guess=female   name=Stormy                        \n",
      "correct=female   guess=female   name=Sula                          \n",
      "correct=female   guess=female   name=Susanna                       \n",
      "correct=female   guess=female   name=Suzanne                       \n",
      "correct=female   guess=female   name=Suzette                       \n",
      "correct=female   guess=female   name=Suzi                          \n",
      "correct=female   guess=female   name=Sybila                        \n",
      "correct=female   guess=female   name=Sybilla                       \n",
      "correct=female   guess=female   name=Sylvia                        \n",
      "correct=female   guess=female   name=Tabitha                       \n",
      "correct=female   guess=female   name=Talya                         \n",
      "correct=female   guess=female   name=Taryn                         \n",
      "correct=female   guess=female   name=Tasia                         \n",
      "correct=female   guess=female   name=Tatiana                       \n",
      "correct=female   guess=female   name=Tedda                         \n",
      "correct=female   guess=female   name=Terrianne                     \n",
      "correct=female   guess=female   name=Tessy                         \n",
      "correct=female   guess=female   name=Theadora                      \n",
      "correct=female   guess=female   name=Theda                         \n",
      "correct=female   guess=female   name=Theressa                      \n",
      "correct=female   guess=female   name=Thomasina                     \n",
      "correct=female   guess=female   name=Tina                          \n",
      "correct=female   guess=female   name=Tomasina                      \n",
      "correct=female   guess=female   name=Tonya                         \n",
      "correct=female   guess=female   name=Trudi                         \n",
      "correct=female   guess=female   name=Una                           \n",
      "correct=female   guess=female   name=Uta                           \n",
      "correct=female   guess=female   name=Valaree                       \n",
      "correct=female   guess=female   name=Valeria                       \n",
      "correct=female   guess=female   name=Verena                        \n",
      "correct=female   guess=female   name=Verna                         \n",
      "correct=female   guess=female   name=Virginia                      \n",
      "correct=female   guess=female   name=Vita                          \n",
      "correct=female   guess=female   name=Vivia                         \n",
      "correct=female   guess=female   name=Vivianna                      \n",
      "correct=female   guess=female   name=Wanda                         \n",
      "correct=female   guess=female   name=Wendeline                     \n",
      "correct=female   guess=female   name=Wenonah                       \n",
      "correct=female   guess=female   name=Wileen                        \n",
      "correct=female   guess=female   name=Willie                        \n",
      "correct=female   guess=female   name=Willy                         \n",
      "correct=female   guess=female   name=Wilona                        \n",
      "correct=female   guess=female   name=Winnah                        \n",
      "correct=female   guess=female   name=Winne                         \n",
      "correct=female   guess=female   name=Yelena                        \n",
      "correct=female   guess=female   name=Yetta                         \n",
      "correct=female   guess=female   name=Yettie                        \n",
      "correct=female   guess=female   name=Zandra                        \n",
      "correct=female   guess=female   name=Zenia                         \n",
      "correct=female   guess=female   name=Zoe                           \n",
      "correct=female   guess=male     name=Alfie                         \n",
      "correct=female   guess=male     name=Aloysia                       \n",
      "correct=female   guess=male     name=Angie                         \n",
      "correct=female   guess=male     name=Auberta                       \n",
      "correct=female   guess=male     name=Aubrey                        \n",
      "correct=female   guess=male     name=Auguste                       \n",
      "correct=female   guess=male     name=Becka                         \n",
      "correct=female   guess=male     name=Briteny                       \n",
      "correct=female   guess=male     name=Brooke                        \n",
      "correct=female   guess=male     name=Clementia                     \n",
      "correct=female   guess=male     name=Correy                        \n",
      "correct=female   guess=male     name=Cynthie                       \n",
      "correct=female   guess=male     name=Darda                         \n",
      "correct=female   guess=male     name=Dusty                         \n",
      "correct=female   guess=male     name=Emanuela                      \n",
      "correct=female   guess=male     name=Emmye                         \n",
      "correct=female   guess=male     name=Ertha                         \n",
      "correct=female   guess=male     name=Euphemia                      \n",
      "correct=female   guess=male     name=Fern                          \n",
      "correct=female   guess=male     name=Ferne                         \n",
      "correct=female   guess=male     name=Fortuna                       \n",
      "correct=female   guess=male     name=Garland                       \n",
      "correct=female   guess=male     name=Gates                         \n",
      "correct=female   guess=male     name=Gaynor                        \n",
      "correct=female   guess=male     name=Gera                          \n",
      "correct=female   guess=male     name=Gilberte                      \n",
      "correct=female   guess=male     name=Gilbertina                    \n",
      "correct=female   guess=male     name=Gilbertine                    \n",
      "correct=female   guess=male     name=Hedvig                        \n",
      "correct=female   guess=male     name=Hermione                      \n",
      "correct=female   guess=male     name=Hillary                       \n",
      "correct=female   guess=male     name=Hortensia                     \n",
      "correct=female   guess=male     name=Ikey                          \n",
      "correct=female   guess=male     name=Inger                         \n",
      "correct=female   guess=male     name=Jaclin                        \n",
      "correct=female   guess=male     name=Joice                         \n",
      "correct=female   guess=male     name=Jourdan                       \n",
      "correct=female   guess=male     name=Kaja                          \n",
      "correct=female   guess=male     name=Kaster                        \n",
      "correct=female   guess=male     name=Kelsi                         \n",
      "correct=female   guess=male     name=Kevina                        \n",
      "correct=female   guess=male     name=Kiersten                      \n",
      "correct=female   guess=male     name=Kyla                          \n",
      "correct=female   guess=male     name=Laurice                       \n",
      "correct=female   guess=male     name=Leigh                         \n",
      "correct=female   guess=male     name=Licha                         \n",
      "correct=female   guess=male     name=Lois                          \n",
      "correct=female   guess=male     name=Loise                         \n",
      "correct=female   guess=male     name=Lucretia                      \n",
      "correct=female   guess=male     name=Maddi                         \n",
      "correct=female   guess=male     name=Maddie                        \n",
      "correct=female   guess=male     name=Malcah                        \n",
      "correct=female   guess=male     name=Marketa                       \n",
      "correct=female   guess=male     name=Maye                          \n",
      "correct=female   guess=male     name=Meagan                        \n",
      "correct=female   guess=male     name=Michele                       \n",
      "correct=female   guess=male     name=Mitzi                         \n",
      "correct=female   guess=male     name=Muffin                        \n",
      "correct=female   guess=male     name=Nil                           \n",
      "correct=female   guess=male     name=Octavia                       \n",
      "correct=female   guess=male     name=Ola                           \n",
      "correct=female   guess=male     name=Pavla                         \n",
      "correct=female   guess=male     name=Pen                           \n",
      "correct=female   guess=male     name=Penny                         \n",
      "correct=female   guess=male     name=Quintilla                     \n",
      "correct=female   guess=male     name=Raven                         \n",
      "correct=female   guess=male     name=Rickie                        \n",
      "correct=female   guess=male     name=Roobbie                       \n",
      "correct=female   guess=male     name=Sacha                         \n",
      "correct=female   guess=male     name=Sal                           \n",
      "correct=female   guess=male     name=Sascha                        \n",
      "correct=female   guess=male     name=Sayre                         \n",
      "correct=female   guess=male     name=Sile                          \n",
      "correct=female   guess=male     name=Sileas                        \n",
      "correct=female   guess=male     name=Steffane                      \n",
      "correct=female   guess=male     name=Stevena                       \n",
      "correct=female   guess=male     name=Terza                         \n",
      "correct=female   guess=male     name=Tierney                       \n",
      "correct=female   guess=male     name=Timmie                        \n",
      "correct=female   guess=male     name=Valma                         \n",
      "correct=female   guess=male     name=Venus                         \n",
      "correct=female   guess=male     name=Willow                        \n",
      "correct=female   guess=male     name=Wini                          \n",
      "correct=female   guess=male     name=Winifred                      \n",
      "correct=female   guess=male     name=Zsa Zsa                       \n",
      "correct=male     guess=female   name=Adlai                         \n",
      "correct=male     guess=female   name=Alain                         \n",
      "correct=male     guess=female   name=Alex                          \n",
      "correct=male     guess=female   name=Alix                          \n",
      "correct=male     guess=female   name=Alley                         \n",
      "correct=male     guess=female   name=Ansel                         \n",
      "correct=male     guess=female   name=Anselm                        \n",
      "correct=male     guess=female   name=Antin                         \n",
      "correct=male     guess=female   name=Austin                        \n",
      "correct=male     guess=female   name=Bailie                        \n",
      "correct=male     guess=female   name=Baillie                       \n",
      "correct=male     guess=female   name=Blare                         \n",
      "correct=male     guess=female   name=Bo                            \n",
      "correct=male     guess=female   name=Casey                         \n",
      "correct=male     guess=female   name=Chas                          \n",
      "correct=male     guess=female   name=Coleman                       \n",
      "correct=male     guess=female   name=Constantinos                  \n",
      "correct=male     guess=female   name=Corey                         \n",
      "correct=male     guess=female   name=Cory                          \n",
      "correct=male     guess=female   name=Courtney                      \n",
      "correct=male     guess=female   name=Daniel                        \n",
      "correct=male     guess=female   name=Dannie                        \n",
      "correct=male     guess=female   name=Dean                          \n",
      "correct=male     guess=female   name=Devon                         \n",
      "correct=male     guess=female   name=Dominique                     \n",
      "correct=male     guess=female   name=Donnie                        \n",
      "correct=male     guess=female   name=Dory                          \n",
      "correct=male     guess=female   name=Dov                           \n",
      "correct=male     guess=female   name=Drake                         \n",
      "correct=male     guess=female   name=Earle                         \n",
      "correct=male     guess=female   name=Ed                            \n",
      "correct=male     guess=female   name=Edie                          \n",
      "correct=male     guess=female   name=Edwin                         \n",
      "correct=male     guess=female   name=Emery                         \n",
      "correct=male     guess=female   name=Emile                         \n",
      "correct=male     guess=female   name=Emilio                        \n",
      "correct=male     guess=female   name=Erich                         \n",
      "correct=male     guess=female   name=Ernest                        \n",
      "correct=male     guess=female   name=Ernesto                       \n",
      "correct=male     guess=female   name=Esteban                       \n",
      "correct=male     guess=female   name=Felice                        \n",
      "correct=male     guess=female   name=Florian                       \n",
      "correct=male     guess=female   name=Franklyn                      \n",
      "correct=male     guess=female   name=Gail                          \n",
      "correct=male     guess=female   name=Gayle                         \n",
      "correct=male     guess=female   name=Geo                           \n",
      "correct=male     guess=female   name=Geri                          \n",
      "correct=male     guess=female   name=Hailey                        \n",
      "correct=male     guess=female   name=Hannibal                      \n",
      "correct=male     guess=female   name=Henrik                        \n",
      "correct=male     guess=female   name=Hilary                        \n",
      "correct=male     guess=female   name=Hy                            \n",
      "correct=male     guess=female   name=Iggie                         \n",
      "correct=male     guess=female   name=Iggy                          \n",
      "correct=male     guess=female   name=Ishmael                       \n",
      "correct=male     guess=female   name=Jessie                        \n",
      "correct=male     guess=female   name=Jordan                        \n",
      "correct=male     guess=female   name=Jose                          \n",
      "correct=male     guess=female   name=Jud                           \n",
      "correct=male     guess=female   name=Kane                          \n",
      "correct=male     guess=female   name=Karel                         \n",
      "correct=male     guess=female   name=Karim                         \n",
      "correct=male     guess=female   name=Kip                           \n",
      "correct=male     guess=female   name=Lay                           \n",
      "correct=male     guess=female   name=Leland                        \n",
      "correct=male     guess=female   name=Lennie                        \n",
      "correct=male     guess=female   name=Lon                           \n",
      "correct=male     guess=female   name=Louie                         \n",
      "correct=male     guess=female   name=Mac                           \n",
      "correct=male     guess=female   name=Mace                          \n",
      "correct=male     guess=female   name=Marlon                        \n",
      "correct=male     guess=female   name=Mart                          \n",
      "correct=male     guess=female   name=Melvin                        \n",
      "correct=male     guess=female   name=Michael                       \n",
      "correct=male     guess=female   name=Miguel                        \n",
      "correct=male     guess=female   name=Morgan                        \n",
      "correct=male     guess=female   name=Morlee                        \n",
      "correct=male     guess=female   name=Morry                         \n",
      "correct=male     guess=female   name=Nathan                        \n",
      "correct=male     guess=female   name=Nathanial                     \n",
      "correct=male     guess=female   name=Nero                          \n",
      "correct=male     guess=female   name=Neron                         \n",
      "correct=male     guess=female   name=Nikita                        \n",
      "correct=male     guess=female   name=Nikki                         \n",
      "correct=male     guess=female   name=Noland                        \n",
      "correct=male     guess=female   name=Olin                          \n",
      "correct=male     guess=female   name=Orin                          \n",
      "correct=male     guess=female   name=Orlando                       \n",
      "correct=male     guess=female   name=Pattie                        \n",
      "correct=male     guess=female   name=Patty                         \n",
      "correct=male     guess=female   name=Philbert                      \n",
      "correct=male     guess=female   name=Prescott                      \n",
      "correct=male     guess=female   name=Rafael                        \n",
      "correct=male     guess=female   name=Rafe                          \n",
      "correct=male     guess=female   name=Raphael                       \n",
      "correct=male     guess=female   name=Renado                        \n",
      "correct=male     guess=female   name=Rob                           \n",
      "correct=male     guess=female   name=Ross                          \n",
      "correct=male     guess=female   name=Sammy                         \n",
      "correct=male     guess=female   name=Sandy                         \n",
      "correct=male     guess=female   name=See                           \n",
      "correct=male     guess=female   name=Selig                         \n",
      "correct=male     guess=female   name=Sutherland                    \n",
      "correct=male     guess=female   name=Tab                           \n",
      "correct=male     guess=female   name=Taylor                        \n",
      "correct=male     guess=female   name=Terri                         \n",
      "correct=male     guess=female   name=Theodore                      \n",
      "correct=male     guess=female   name=Tobie                         \n",
      "correct=male     guess=female   name=Toby                          \n",
      "correct=male     guess=female   name=Tony                          \n",
      "correct=male     guess=female   name=Torin                         \n",
      "correct=male     guess=female   name=Vail                          \n",
      "correct=male     guess=female   name=Vasili                        \n",
      "correct=male     guess=female   name=Vasilis                       \n",
      "correct=male     guess=female   name=Vilhelm                       \n",
      "correct=male     guess=female   name=Wallas                        \n",
      "correct=male     guess=female   name=Waylen                        \n",
      "correct=male     guess=female   name=Winnie                        \n",
      "correct=male     guess=female   name=Wylie                         \n",
      "correct=male     guess=female   name=Zary                          \n",
      "correct=male     guess=female   name=Zippy                         \n",
      "correct=male     guess=male     name=Adams                         \n",
      "correct=male     guess=male     name=Adolf                         \n",
      "correct=male     guess=male     name=Aldric                        \n",
      "correct=male     guess=male     name=Alston                        \n",
      "correct=male     guess=male     name=Amadeus                       \n",
      "correct=male     guess=male     name=Anatollo                      \n",
      "correct=male     guess=male     name=Anders                        \n",
      "correct=male     guess=male     name=Antonin                       \n",
      "correct=male     guess=male     name=Antony                        \n",
      "correct=male     guess=male     name=Archibald                     \n",
      "correct=male     guess=male     name=Archy                         \n",
      "correct=male     guess=male     name=Arne                          \n",
      "correct=male     guess=male     name=Arnold                        \n",
      "correct=male     guess=male     name=Arron                         \n",
      "correct=male     guess=male     name=Art                           \n",
      "correct=male     guess=male     name=Arther                        \n",
      "correct=male     guess=male     name=Artie                         \n",
      "correct=male     guess=male     name=Ashby                         \n",
      "correct=male     guess=male     name=Ashish                        \n",
      "correct=male     guess=male     name=Aube                          \n",
      "correct=male     guess=male     name=Austen                        \n",
      "correct=male     guess=male     name=Avery                         \n",
      "correct=male     guess=male     name=Baldwin                       \n",
      "correct=male     guess=male     name=Barnabas                      \n",
      "correct=male     guess=male     name=Barri                         \n",
      "correct=male     guess=male     name=Bartlett                      \n",
      "correct=male     guess=male     name=Bartolemo                     \n",
      "correct=male     guess=male     name=Baxter                        \n",
      "correct=male     guess=male     name=Benjamin                      \n",
      "correct=male     guess=male     name=Berke                         \n",
      "correct=male     guess=male     name=Bjorne                        \n",
      "correct=male     guess=male     name=Brad                          \n",
      "correct=male     guess=male     name=Braden                        \n",
      "correct=male     guess=male     name=Brinkley                      \n",
      "correct=male     guess=male     name=Brodie                        \n",
      "correct=male     guess=male     name=Brody                         \n",
      "correct=male     guess=male     name=Brooke                        \n",
      "correct=male     guess=male     name=Burgess                       \n",
      "correct=male     guess=male     name=Burt                          \n",
      "correct=male     guess=male     name=Caldwell                      \n",
      "correct=male     guess=male     name=Carlton                       \n",
      "correct=male     guess=male     name=Chaddy                        \n",
      "correct=male     guess=male     name=Charlton                      \n",
      "correct=male     guess=male     name=Christof                      \n",
      "correct=male     guess=male     name=Christos                      \n",
      "correct=male     guess=male     name=Churchill                     \n",
      "correct=male     guess=male     name=Clay                          \n",
      "correct=male     guess=male     name=Claybourne                    \n",
      "correct=male     guess=male     name=Clive                         \n",
      "correct=male     guess=male     name=Cobbie                        \n",
      "correct=male     guess=male     name=Conrad                        \n",
      "correct=male     guess=male     name=Corby                         \n",
      "correct=male     guess=male     name=Cristopher                    \n",
      "correct=male     guess=male     name=Cyril                         \n",
      "correct=male     guess=male     name=Dabney                        \n",
      "correct=male     guess=male     name=Damon                         \n",
      "correct=male     guess=male     name=Darrick                       \n",
      "correct=male     guess=male     name=Davidson                      \n",
      "correct=male     guess=male     name=Delbert                       \n",
      "correct=male     guess=male     name=Demetri                       \n",
      "correct=male     guess=male     name=Demetris                      \n",
      "correct=male     guess=male     name=Demosthenis                   \n",
      "correct=male     guess=male     name=Derby                         \n",
      "correct=male     guess=male     name=Derrick                       \n",
      "correct=male     guess=male     name=Dietrich                      \n",
      "correct=male     guess=male     name=Dimitrou                      \n",
      "correct=male     guess=male     name=Dionysus                      \n",
      "correct=male     guess=male     name=Domenic                       \n",
      "correct=male     guess=male     name=Dunc                          \n",
      "correct=male     guess=male     name=Easton                        \n",
      "correct=male     guess=male     name=Elden                         \n",
      "correct=male     guess=male     name=Eldon                         \n",
      "correct=male     guess=male     name=Elric                         \n",
      "correct=male     guess=male     name=Elwood                        \n",
      "correct=male     guess=male     name=Engelbert                     \n",
      "correct=male     guess=male     name=Englebart                     \n",
      "correct=male     guess=male     name=Erasmus                       \n",
      "correct=male     guess=male     name=Erastus                       \n",
      "correct=male     guess=male     name=Erhart                        \n",
      "correct=male     guess=male     name=Erwin                         \n",
      "correct=male     guess=male     name=Everard                       \n",
      "correct=male     guess=male     name=Filipe                        \n",
      "correct=male     guess=male     name=Fitzgerald                    \n",
      "correct=male     guess=male     name=Frederik                      \n",
      "correct=male     guess=male     name=Fredric                       \n",
      "correct=male     guess=male     name=Garey                         \n",
      "correct=male     guess=male     name=Garth                         \n",
      "correct=male     guess=male     name=Garwin                        \n",
      "correct=male     guess=male     name=Geoff                         \n",
      "correct=male     guess=male     name=Geoffrey                      \n",
      "correct=male     guess=male     name=Geoffry                       \n",
      "correct=male     guess=male     name=Gerome                        \n",
      "correct=male     guess=male     name=Giffard                       \n",
      "correct=male     guess=male     name=Giorgi                        \n",
      "correct=male     guess=male     name=Godard                        \n",
      "correct=male     guess=male     name=Godfry                        \n",
      "correct=male     guess=male     name=Goober                        \n",
      "correct=male     guess=male     name=Grady                         \n",
      "correct=male     guess=male     name=Gregg                         \n",
      "correct=male     guess=male     name=Gregorio                      \n",
      "correct=male     guess=male     name=Griswold                      \n",
      "correct=male     guess=male     name=Guido                         \n",
      "correct=male     guess=male     name=Gunter                        \n",
      "correct=male     guess=male     name=Hadleigh                      \n",
      "correct=male     guess=male     name=Hammad                        \n",
      "correct=male     guess=male     name=Hanan                         \n",
      "correct=male     guess=male     name=Hans-Peter                    \n",
      "correct=male     guess=male     name=Harcourt                      \n",
      "correct=male     guess=male     name=Harrison                      \n",
      "correct=male     guess=male     name=Hart                          \n",
      "correct=male     guess=male     name=Heathcliff                    \n",
      "correct=male     guess=male     name=Henri                         \n",
      "correct=male     guess=male     name=Herbie                        \n",
      "correct=male     guess=male     name=Herby                         \n",
      "correct=male     guess=male     name=Hermon                        \n",
      "correct=male     guess=male     name=Hernando                      \n",
      "correct=male     guess=male     name=Hewett                        \n",
      "correct=male     guess=male     name=Hewie                         \n",
      "correct=male     guess=male     name=Hillary                       \n",
      "correct=male     guess=male     name=Hiram                         \n",
      "correct=male     guess=male     name=Hogan                         \n",
      "correct=male     guess=male     name=Hugh                          \n",
      "correct=male     guess=male     name=Huntlee                       \n",
      "correct=male     guess=male     name=Ignacius                      \n",
      "correct=male     guess=male     name=Inglebert                     \n",
      "correct=male     guess=male     name=Isaac                         \n",
      "correct=male     guess=male     name=Jacob                         \n",
      "correct=male     guess=male     name=Jared                         \n",
      "correct=male     guess=male     name=Jean-Marc                     \n",
      "correct=male     guess=male     name=Jed                           \n",
      "correct=male     guess=male     name=Jefry                         \n",
      "correct=male     guess=male     name=Jerome                        \n",
      "correct=male     guess=male     name=Joachim                       \n",
      "correct=male     guess=male     name=Johann                        \n",
      "correct=male     guess=male     name=Judah                         \n",
      "correct=male     guess=male     name=Judson                        \n",
      "correct=male     guess=male     name=Julius                        \n",
      "correct=male     guess=male     name=King                          \n",
      "correct=male     guess=male     name=Laurence                      \n",
      "correct=male     guess=male     name=Layton                        \n",
      "correct=male     guess=male     name=Lem                           \n",
      "correct=male     guess=male     name=Leonardo                      \n",
      "correct=male     guess=male     name=Linus                         \n",
      "correct=male     guess=male     name=Lionello                      \n",
      "correct=male     guess=male     name=Lothar                        \n",
      "correct=male     guess=male     name=Lucas                         \n",
      "correct=male     guess=male     name=Mackenzie                     \n",
      "correct=male     guess=male     name=Mahmud                        \n",
      "correct=male     guess=male     name=Marcus                        \n",
      "correct=male     guess=male     name=Maurice                       \n",
      "correct=male     guess=male     name=Maximilian                    \n",
      "correct=male     guess=male     name=Maxwell                       \n",
      "correct=male     guess=male     name=Mervin                        \n",
      "correct=male     guess=male     name=Mick                          \n",
      "correct=male     guess=male     name=Mikael                        \n",
      "correct=male     guess=male     name=Mischa                        \n",
      "correct=male     guess=male     name=Moses                         \n",
      "correct=male     guess=male     name=Murphy                        \n",
      "correct=male     guess=male     name=Nevil                         \n",
      "correct=male     guess=male     name=Nicky                         \n",
      "correct=male     guess=male     name=Obadias                       \n",
      "correct=male     guess=male     name=Oberon                        \n",
      "correct=male     guess=male     name=Orton                         \n",
      "correct=male     guess=male     name=Orville                       \n",
      "correct=male     guess=male     name=Osgood                        \n",
      "correct=male     guess=male     name=Pate                          \n",
      "correct=male     guess=male     name=Patric                        \n",
      "correct=male     guess=male     name=Pembroke                      \n",
      "correct=male     guess=male     name=Penn                          \n",
      "correct=male     guess=male     name=Phip                          \n",
      "correct=male     guess=male     name=Poul                          \n",
      "correct=male     guess=male     name=Prasad                        \n",
      "correct=male     guess=male     name=Prentice                      \n",
      "correct=male     guess=male     name=Quintin                       \n",
      "correct=male     guess=male     name=Rabi                          \n",
      "correct=male     guess=male     name=Ransell                       \n",
      "correct=male     guess=male     name=Ravi                          \n",
      "correct=male     guess=male     name=Raynor                        \n",
      "correct=male     guess=male     name=Reynold                       \n",
      "correct=male     guess=male     name=Ricard                        \n",
      "correct=male     guess=male     name=Ricki                         \n",
      "correct=male     guess=male     name=Ritch                         \n",
      "correct=male     guess=male     name=Robinson                      \n",
      "correct=male     guess=male     name=Rockwell                      \n",
      "correct=male     guess=male     name=Roderich                      \n",
      "correct=male     guess=male     name=Rodge                         \n",
      "correct=male     guess=male     name=Rolando                       \n",
      "correct=male     guess=male     name=Rolf                          \n",
      "correct=male     guess=male     name=Romeo                         \n",
      "correct=male     guess=male     name=Rufe                          \n",
      "correct=male     guess=male     name=Rustie                        \n",
      "correct=male     guess=male     name=Salvador                      \n",
      "correct=male     guess=male     name=Salvatore                     \n",
      "correct=male     guess=male     name=Sampson                       \n",
      "correct=male     guess=male     name=Samson                        \n",
      "correct=male     guess=male     name=Sancho                        \n",
      "correct=male     guess=male     name=Sayres                        \n",
      "correct=male     guess=male     name=Schuyler                      \n",
      "correct=male     guess=male     name=Scott                         \n",
      "correct=male     guess=male     name=Sergei                        \n",
      "correct=male     guess=male     name=Seymour                       \n",
      "correct=male     guess=male     name=Shalom                        \n",
      "correct=male     guess=male     name=Shamus                        \n",
      "correct=male     guess=male     name=Sheppard                      \n",
      "correct=male     guess=male     name=Siddhartha                    \n",
      "correct=male     guess=male     name=Sigfried                      \n",
      "correct=male     guess=male     name=Skelly                        \n",
      "correct=male     guess=male     name=Socrates                      \n",
      "correct=male     guess=male     name=Srinivas                      \n",
      "correct=male     guess=male     name=Staford                       \n",
      "correct=male     guess=male     name=Standford                     \n",
      "correct=male     guess=male     name=Stanleigh                     \n",
      "correct=male     guess=male     name=Stern                         \n",
      "correct=male     guess=male     name=Steve                         \n",
      "correct=male     guess=male     name=Stillman                      \n",
      "correct=male     guess=male     name=Stillmann                     \n",
      "correct=male     guess=male     name=Sully                         \n",
      "correct=male     guess=male     name=Sylvan                        \n",
      "correct=male     guess=male     name=Tabor                         \n",
      "correct=male     guess=male     name=Tad                           \n",
      "correct=male     guess=male     name=Taddeo                        \n",
      "correct=male     guess=male     name=Terence                       \n",
      "correct=male     guess=male     name=Thain                         \n",
      "correct=male     guess=male     name=Thedric                       \n",
      "correct=male     guess=male     name=Theodoric                     \n",
      "correct=male     guess=male     name=Thibaud                       \n",
      "correct=male     guess=male     name=Thorn                         \n",
      "correct=male     guess=male     name=Thornton                      \n",
      "correct=male     guess=male     name=Thorpe                        \n",
      "correct=male     guess=male     name=Travis                        \n",
      "correct=male     guess=male     name=Trent                         \n",
      "correct=male     guess=male     name=Trev                          \n",
      "correct=male     guess=male     name=Trevor                        \n",
      "correct=male     guess=male     name=Turner                        \n",
      "correct=male     guess=male     name=Ulises                        \n",
      "correct=male     guess=male     name=Vergil                        \n",
      "correct=male     guess=male     name=Vijay                         \n",
      "correct=male     guess=male     name=Virgilio                      \n",
      "correct=male     guess=male     name=Wake                          \n",
      "correct=male     guess=male     name=Waldemar                      \n",
      "correct=male     guess=male     name=Walden                        \n",
      "correct=male     guess=male     name=Wallace                       \n",
      "correct=male     guess=male     name=Warden                        \n",
      "correct=male     guess=male     name=Ware                          \n",
      "correct=male     guess=male     name=Waverly                       \n",
      "correct=male     guess=male     name=Waylan                        \n",
      "correct=male     guess=male     name=Web                           \n",
      "correct=male     guess=male     name=Weider                        \n",
      "correct=male     guess=male     name=Welch                         \n",
      "correct=male     guess=male     name=Werner                        \n",
      "correct=male     guess=male     name=Westley                       \n",
      "correct=male     guess=male     name=Whitaker                      \n",
      "correct=male     guess=male     name=Wilbur                        \n",
      "correct=male     guess=male     name=Yank                          \n",
      "correct=male     guess=male     name=Zachary                       \n"
     ]
    }
   ],
   "source": [
    "#listing all predictions \n",
    "\n",
    "all_predictions = []\n",
    "for (name, tag) in devtest_names:\n",
    "    guess = classifier_3.classify(gender_features_3(name))\n",
    "    all_predictions.append( (tag, guess, name) )\n",
    "    \n",
    "for (tag, guess, name) in sorted(all_predictions):\n",
    "    print('correct={:<8} guess={:<8s} name={:<30}'.format(tag, guess, name))"
   ]
  },
  {
   "cell_type": "code",
   "execution_count": null,
   "metadata": {
    "colab": {
     "base_uri": "https://localhost:8080/"
    },
    "id": "WXx8R6Pgk1nA",
    "outputId": "b7214ef1-8c35-4ef1-88ee-e094e13d10b7",
    "scrolled": false
   },
   "outputs": [
    {
     "name": "stdout",
     "output_type": "stream",
     "text": [
      "Most Informative Features\n",
      "                     bg0 = 'Gar'            male : female =     21.5 : 1.0\n",
      "                     bg2 = 'rre'            male : female =     20.3 : 1.0\n",
      "                     bg3 = 'ett'          female : male   =     17.0 : 1.0\n",
      "                     bg0 = 'Ros'          female : male   =     15.9 : 1.0\n",
      "                     bg0 = 'Dor'          female : male   =     14.6 : 1.0\n",
      "                     bg4 = 'ina'          female : male   =     14.5 : 1.0\n",
      "                     bg4 = 'ard'            male : female =     12.8 : 1.0\n",
      "                     bg3 = 'eli'          female : male   =     11.5 : 1.0\n",
      "                     bg0 = 'Cat'          female : male   =     11.2 : 1.0\n",
      "                     bg3 = 'man'            male : female =     11.1 : 1.0\n",
      "                     bg0 = 'Tha'            male : female =     11.0 : 1.0\n",
      "                     bg4 = 'lla'          female : male   =     10.8 : 1.0\n",
      "                     bg3 = 'der'            male : female =     10.1 : 1.0\n",
      "                     bg0 = 'Flo'          female : male   =     10.0 : 1.0\n",
      "                     bg3 = 'ann'          female : male   =      9.8 : 1.0\n"
     ]
    }
   ],
   "source": [
    "classifier_3.show_most_informative_features(15)"
   ]
  },
  {
   "attachments": {},
   "cell_type": "markdown",
   "metadata": {},
   "source": [
    "Use of trigram features result in an increase in the accuracy score to 79.4%. This is slightly higher than the accuracy of the bigram model and is the best accuracy score achieved so far after fine tuning the model three times. This score means that the trigram model accurately predicts the gender almost 80% of the time based on a given name. According to the model’s most informative features, character trigrams like “ett”, “Ros”, “Dor”, and “ina” are more likely to be present in female names by 17.0, 15.9, 14.6, and 14.5 times respectively than that in male names. "
   ]
  },
  {
   "cell_type": "code",
   "execution_count": null,
   "metadata": {
    "colab": {
     "base_uri": "https://localhost:8080/"
    },
    "id": "eUf0ipZck1nB",
    "outputId": "a1292649-a25e-4cdc-fb49-780f9a83ff18"
   },
   "outputs": [
    {
     "name": "stdout",
     "output_type": "stream",
     "text": [
      "correct=female   guess=male     name=Alfie                         \n",
      "correct=female   guess=male     name=Aloysia                       \n",
      "correct=female   guess=male     name=Angie                         \n",
      "correct=female   guess=male     name=Auberta                       \n",
      "correct=female   guess=male     name=Aubrey                        \n",
      "correct=female   guess=male     name=Auguste                       \n",
      "correct=female   guess=male     name=Becka                         \n",
      "correct=female   guess=male     name=Briteny                       \n",
      "correct=female   guess=male     name=Brooke                        \n",
      "correct=female   guess=male     name=Clementia                     \n",
      "correct=female   guess=male     name=Correy                        \n",
      "correct=female   guess=male     name=Cynthie                       \n",
      "correct=female   guess=male     name=Darda                         \n",
      "correct=female   guess=male     name=Dusty                         \n",
      "correct=female   guess=male     name=Emanuela                      \n",
      "correct=female   guess=male     name=Emmye                         \n",
      "correct=female   guess=male     name=Ertha                         \n",
      "correct=female   guess=male     name=Euphemia                      \n",
      "correct=female   guess=male     name=Fern                          \n",
      "correct=female   guess=male     name=Ferne                         \n",
      "correct=female   guess=male     name=Fortuna                       \n",
      "correct=female   guess=male     name=Garland                       \n",
      "correct=female   guess=male     name=Gates                         \n",
      "correct=female   guess=male     name=Gaynor                        \n",
      "correct=female   guess=male     name=Gera                          \n",
      "correct=female   guess=male     name=Gilberte                      \n",
      "correct=female   guess=male     name=Gilbertina                    \n",
      "correct=female   guess=male     name=Gilbertine                    \n",
      "correct=female   guess=male     name=Hedvig                        \n",
      "correct=female   guess=male     name=Hermione                      \n",
      "correct=female   guess=male     name=Hillary                       \n",
      "correct=female   guess=male     name=Hortensia                     \n",
      "correct=female   guess=male     name=Ikey                          \n",
      "correct=female   guess=male     name=Inger                         \n",
      "correct=female   guess=male     name=Jaclin                        \n",
      "correct=female   guess=male     name=Joice                         \n",
      "correct=female   guess=male     name=Jourdan                       \n",
      "correct=female   guess=male     name=Kaja                          \n",
      "correct=female   guess=male     name=Kaster                        \n",
      "correct=female   guess=male     name=Kelsi                         \n",
      "correct=female   guess=male     name=Kevina                        \n",
      "correct=female   guess=male     name=Kiersten                      \n",
      "correct=female   guess=male     name=Kyla                          \n",
      "correct=female   guess=male     name=Laurice                       \n",
      "correct=female   guess=male     name=Leigh                         \n",
      "correct=female   guess=male     name=Licha                         \n",
      "correct=female   guess=male     name=Lois                          \n",
      "correct=female   guess=male     name=Loise                         \n",
      "correct=female   guess=male     name=Lucretia                      \n",
      "correct=female   guess=male     name=Maddi                         \n",
      "correct=female   guess=male     name=Maddie                        \n",
      "correct=female   guess=male     name=Malcah                        \n",
      "correct=female   guess=male     name=Marketa                       \n",
      "correct=female   guess=male     name=Maye                          \n",
      "correct=female   guess=male     name=Meagan                        \n",
      "correct=female   guess=male     name=Michele                       \n",
      "correct=female   guess=male     name=Mitzi                         \n",
      "correct=female   guess=male     name=Muffin                        \n",
      "correct=female   guess=male     name=Nil                           \n",
      "correct=female   guess=male     name=Octavia                       \n",
      "correct=female   guess=male     name=Ola                           \n",
      "correct=female   guess=male     name=Pavla                         \n",
      "correct=female   guess=male     name=Pen                           \n",
      "correct=female   guess=male     name=Penny                         \n",
      "correct=female   guess=male     name=Quintilla                     \n",
      "correct=female   guess=male     name=Raven                         \n",
      "correct=female   guess=male     name=Rickie                        \n",
      "correct=female   guess=male     name=Roobbie                       \n",
      "correct=female   guess=male     name=Sacha                         \n",
      "correct=female   guess=male     name=Sal                           \n",
      "correct=female   guess=male     name=Sascha                        \n",
      "correct=female   guess=male     name=Sayre                         \n",
      "correct=female   guess=male     name=Sile                          \n",
      "correct=female   guess=male     name=Sileas                        \n",
      "correct=female   guess=male     name=Steffane                      \n",
      "correct=female   guess=male     name=Stevena                       \n",
      "correct=female   guess=male     name=Terza                         \n",
      "correct=female   guess=male     name=Tierney                       \n",
      "correct=female   guess=male     name=Timmie                        \n",
      "correct=female   guess=male     name=Valma                         \n",
      "correct=female   guess=male     name=Venus                         \n",
      "correct=female   guess=male     name=Willow                        \n",
      "correct=female   guess=male     name=Wini                          \n",
      "correct=female   guess=male     name=Winifred                      \n",
      "correct=female   guess=male     name=Zsa Zsa                       \n",
      "correct=male     guess=female   name=Adlai                         \n",
      "correct=male     guess=female   name=Alain                         \n",
      "correct=male     guess=female   name=Alex                          \n",
      "correct=male     guess=female   name=Alix                          \n",
      "correct=male     guess=female   name=Alley                         \n",
      "correct=male     guess=female   name=Ansel                         \n",
      "correct=male     guess=female   name=Anselm                        \n",
      "correct=male     guess=female   name=Antin                         \n",
      "correct=male     guess=female   name=Austin                        \n",
      "correct=male     guess=female   name=Bailie                        \n",
      "correct=male     guess=female   name=Baillie                       \n",
      "correct=male     guess=female   name=Blare                         \n",
      "correct=male     guess=female   name=Bo                            \n",
      "correct=male     guess=female   name=Casey                         \n",
      "correct=male     guess=female   name=Chas                          \n",
      "correct=male     guess=female   name=Coleman                       \n",
      "correct=male     guess=female   name=Constantinos                  \n",
      "correct=male     guess=female   name=Corey                         \n",
      "correct=male     guess=female   name=Cory                          \n",
      "correct=male     guess=female   name=Courtney                      \n",
      "correct=male     guess=female   name=Daniel                        \n",
      "correct=male     guess=female   name=Dannie                        \n",
      "correct=male     guess=female   name=Dean                          \n",
      "correct=male     guess=female   name=Devon                         \n",
      "correct=male     guess=female   name=Dominique                     \n",
      "correct=male     guess=female   name=Donnie                        \n",
      "correct=male     guess=female   name=Dory                          \n",
      "correct=male     guess=female   name=Dov                           \n",
      "correct=male     guess=female   name=Drake                         \n",
      "correct=male     guess=female   name=Earle                         \n",
      "correct=male     guess=female   name=Ed                            \n",
      "correct=male     guess=female   name=Edie                          \n",
      "correct=male     guess=female   name=Edwin                         \n",
      "correct=male     guess=female   name=Emery                         \n",
      "correct=male     guess=female   name=Emile                         \n",
      "correct=male     guess=female   name=Emilio                        \n",
      "correct=male     guess=female   name=Erich                         \n",
      "correct=male     guess=female   name=Ernest                        \n",
      "correct=male     guess=female   name=Ernesto                       \n",
      "correct=male     guess=female   name=Esteban                       \n",
      "correct=male     guess=female   name=Felice                        \n",
      "correct=male     guess=female   name=Florian                       \n",
      "correct=male     guess=female   name=Franklyn                      \n",
      "correct=male     guess=female   name=Gail                          \n",
      "correct=male     guess=female   name=Gayle                         \n",
      "correct=male     guess=female   name=Geo                           \n",
      "correct=male     guess=female   name=Geri                          \n",
      "correct=male     guess=female   name=Hailey                        \n",
      "correct=male     guess=female   name=Hannibal                      \n",
      "correct=male     guess=female   name=Henrik                        \n",
      "correct=male     guess=female   name=Hilary                        \n",
      "correct=male     guess=female   name=Hy                            \n",
      "correct=male     guess=female   name=Iggie                         \n",
      "correct=male     guess=female   name=Iggy                          \n",
      "correct=male     guess=female   name=Ishmael                       \n",
      "correct=male     guess=female   name=Jessie                        \n",
      "correct=male     guess=female   name=Jordan                        \n",
      "correct=male     guess=female   name=Jose                          \n",
      "correct=male     guess=female   name=Jud                           \n",
      "correct=male     guess=female   name=Kane                          \n",
      "correct=male     guess=female   name=Karel                         \n",
      "correct=male     guess=female   name=Karim                         \n",
      "correct=male     guess=female   name=Kip                           \n",
      "correct=male     guess=female   name=Lay                           \n",
      "correct=male     guess=female   name=Leland                        \n",
      "correct=male     guess=female   name=Lennie                        \n",
      "correct=male     guess=female   name=Lon                           \n",
      "correct=male     guess=female   name=Louie                         \n",
      "correct=male     guess=female   name=Mac                           \n",
      "correct=male     guess=female   name=Mace                          \n",
      "correct=male     guess=female   name=Marlon                        \n",
      "correct=male     guess=female   name=Mart                          \n",
      "correct=male     guess=female   name=Melvin                        \n",
      "correct=male     guess=female   name=Michael                       \n",
      "correct=male     guess=female   name=Miguel                        \n",
      "correct=male     guess=female   name=Morgan                        \n",
      "correct=male     guess=female   name=Morlee                        \n",
      "correct=male     guess=female   name=Morry                         \n",
      "correct=male     guess=female   name=Nathan                        \n",
      "correct=male     guess=female   name=Nathanial                     \n",
      "correct=male     guess=female   name=Nero                          \n",
      "correct=male     guess=female   name=Neron                         \n",
      "correct=male     guess=female   name=Nikita                        \n",
      "correct=male     guess=female   name=Nikki                         \n",
      "correct=male     guess=female   name=Noland                        \n",
      "correct=male     guess=female   name=Olin                          \n",
      "correct=male     guess=female   name=Orin                          \n",
      "correct=male     guess=female   name=Orlando                       \n",
      "correct=male     guess=female   name=Pattie                        \n",
      "correct=male     guess=female   name=Patty                         \n",
      "correct=male     guess=female   name=Philbert                      \n",
      "correct=male     guess=female   name=Prescott                      \n",
      "correct=male     guess=female   name=Rafael                        \n",
      "correct=male     guess=female   name=Rafe                          \n",
      "correct=male     guess=female   name=Raphael                       \n",
      "correct=male     guess=female   name=Renado                        \n",
      "correct=male     guess=female   name=Rob                           \n",
      "correct=male     guess=female   name=Ross                          \n",
      "correct=male     guess=female   name=Sammy                         \n",
      "correct=male     guess=female   name=Sandy                         \n",
      "correct=male     guess=female   name=See                           \n",
      "correct=male     guess=female   name=Selig                         \n",
      "correct=male     guess=female   name=Sutherland                    \n",
      "correct=male     guess=female   name=Tab                           \n",
      "correct=male     guess=female   name=Taylor                        \n",
      "correct=male     guess=female   name=Terri                         \n",
      "correct=male     guess=female   name=Theodore                      \n",
      "correct=male     guess=female   name=Tobie                         \n",
      "correct=male     guess=female   name=Toby                          \n",
      "correct=male     guess=female   name=Tony                          \n",
      "correct=male     guess=female   name=Torin                         \n",
      "correct=male     guess=female   name=Vail                          \n",
      "correct=male     guess=female   name=Vasili                        \n",
      "correct=male     guess=female   name=Vasilis                       \n",
      "correct=male     guess=female   name=Vilhelm                       \n",
      "correct=male     guess=female   name=Wallas                        \n",
      "correct=male     guess=female   name=Waylen                        \n",
      "correct=male     guess=female   name=Winnie                        \n",
      "correct=male     guess=female   name=Wylie                         \n",
      "correct=male     guess=female   name=Zary                          \n",
      "correct=male     guess=female   name=Zippy                         \n"
     ]
    }
   ],
   "source": [
    "#error analysis...displaying the wrong predictions\n",
    "errors = []\n",
    "for (name, tag) in devtest_names:\n",
    "    guess = classifier_3.classify(gender_features_3(name))\n",
    "    if guess != tag:\n",
    "        errors.append( (tag, guess, name) )\n",
    "\n",
    "for (tag, guess, name) in sorted(errors):\n",
    "    print('correct={:<8} guess={:<8s} name={:<30}'.format(tag, guess, name))"
   ]
  },
  {
   "cell_type": "markdown",
   "metadata": {
    "id": "Ss8smpO3k1nB"
   },
   "source": [
    "## 4. Decision Tree Classifier"
   ]
  },
  {
   "attachments": {},
   "cell_type": "markdown",
   "metadata": {},
   "source": [
    "To see if a different classifier results in better accuracy, a decision tree model is run on with the character trigram features as input. "
   ]
  },
  {
   "cell_type": "code",
   "execution_count": null,
   "metadata": {
    "colab": {
     "base_uri": "https://localhost:8080/"
    },
    "id": "AdAC6ZWik1nC",
    "outputId": "3da0137d-1341-405d-dea8-b5bd14a38ca2"
   },
   "outputs": [
    {
     "name": "stdout",
     "output_type": "stream",
     "text": [
      "0.698\n"
     ]
    }
   ],
   "source": [
    "classifier_4 = nltk.DecisionTreeClassifier.train(train_set)\n",
    "print(nltk.classify.accuracy(classifier_4, devtest_set))"
   ]
  },
  {
   "cell_type": "code",
   "execution_count": null,
   "metadata": {
    "colab": {
     "base_uri": "https://localhost:8080/"
    },
    "id": "cPCqwyock1nC",
    "outputId": "c6000271-3b9b-4f09-ca95-729010b2b7d3",
    "scrolled": true
   },
   "outputs": [
    {
     "name": "stdout",
     "output_type": "stream",
     "text": [
      "0.694\n"
     ]
    }
   ],
   "source": [
    "print(nltk.classify.accuracy(classifier_4, test_set))"
   ]
  },
  {
   "cell_type": "markdown",
   "metadata": {
    "id": "Vc09LNpuk1nE"
   },
   "source": [
    "This model yields an accuracy score of 69.8% on the dev-test set and 69.4% on the test set, both of which are lower than the Naïve Bayes classifier model run with the same input features. "
   ]
  },
  {
   "cell_type": "markdown",
   "metadata": {
    "id": "nj4XlQlik1nE"
   },
   "source": [
    "## 5. Precision, Recall, and F-1 Score"
   ]
  },
  {
   "cell_type": "markdown",
   "metadata": {
    "id": "I5U5bytQk1nF"
   },
   "source": [
    "### 5.1 Metrics - Baseline Naives Bayes Classifier Model"
   ]
  },
  {
   "cell_type": "code",
   "execution_count": null,
   "metadata": {
    "colab": {
     "base_uri": "https://localhost:8080/"
    },
    "id": "GKEH7ldGk1nF",
    "outputId": "a179716e-6b75-459c-849c-93a9f952d736"
   },
   "outputs": [
    {
     "name": "stdout",
     "output_type": "stream",
     "text": [
      "1000\n",
      "['female', 'female', 'female', 'female', 'female', 'female', 'female', 'female', 'female', 'female']\n",
      "[0, 0, 0, 0, 0, 0, 0, 0, 0, 0]\n"
     ]
    }
   ],
   "source": [
    "baseline_correct_gender = []\n",
    "for (tag, guess, name) in sorted(baseline_predictions):\n",
    "    baseline_correct_gender.append(tag)\n",
    "print(len(baseline_correct_gender))\n",
    "print(baseline_correct_gender[0:10])\n",
    "\n",
    "y_true_baseline = []\n",
    "for gender in baseline_correct_gender:\n",
    "    if gender == \"female\":\n",
    "        true = 0\n",
    "    else:\n",
    "        true = 1\n",
    "    y_true_baseline.append(true)\n",
    "print(y_true_baseline[0:10]) "
   ]
  },
  {
   "cell_type": "code",
   "execution_count": null,
   "metadata": {
    "colab": {
     "base_uri": "https://localhost:8080/"
    },
    "id": "5Ch9ZwnKk1nG",
    "outputId": "7335f43e-1ed0-4a1b-bb72-2bc8bfaca5db"
   },
   "outputs": [
    {
     "name": "stdout",
     "output_type": "stream",
     "text": [
      "1000\n",
      "['female', 'female', 'female', 'female', 'female', 'female', 'female', 'female', 'female', 'female']\n",
      "[0, 0, 0, 0, 0, 0, 0, 0, 0, 0]\n"
     ]
    }
   ],
   "source": [
    "baseline_predicted_gender = []\n",
    "for (tag, guess, name) in sorted(baseline_predictions):\n",
    "    baseline_predicted_gender.append(guess)\n",
    "print(len(baseline_predicted_gender))\n",
    "print(baseline_predicted_gender[0:10])\n",
    "\n",
    "y_pred_baseline = []\n",
    "for gender in baseline_predicted_gender:\n",
    "    if gender == \"female\":\n",
    "        pred = 0\n",
    "    else:\n",
    "        pred = 1\n",
    "    y_pred_baseline.append(pred)\n",
    "print(y_pred_baseline[0:10]) "
   ]
  },
  {
   "cell_type": "code",
   "execution_count": null,
   "metadata": {
    "colab": {
     "base_uri": "https://localhost:8080/"
    },
    "id": "W_asLcXWk1nH",
    "outputId": "a8becebe-13fa-436f-dc35-2928b7f36985"
   },
   "outputs": [
    {
     "name": "stdout",
     "output_type": "stream",
     "text": [
      "              precision    recall  f1-score   support\n",
      "\n",
      "      Female       0.64      0.95      0.77       624\n",
      "        Male       0.61      0.12      0.20       376\n",
      "\n",
      "    accuracy                           0.64      1000\n",
      "   macro avg       0.63      0.54      0.49      1000\n",
      "weighted avg       0.63      0.64      0.56      1000\n",
      "\n"
     ]
    }
   ],
   "source": [
    "from sklearn import metrics\n",
    "target_labels = ['Female','Male']\n",
    "print(metrics.classification_report(y_true_baseline, y_pred_baseline, target_names=target_labels))"
   ]
  },
  {
   "cell_type": "markdown",
   "metadata": {
    "id": "S5oQK_Xqk1nH"
   },
   "source": [
    "### 5.2 Metrics - Trigrams based Naive Bayes Classifier Model"
   ]
  },
  {
   "cell_type": "code",
   "execution_count": null,
   "metadata": {
    "colab": {
     "base_uri": "https://localhost:8080/"
    },
    "id": "b2WOVvLnk1nI",
    "outputId": "b2931c6e-c621-41c8-ca73-b6bcb16fa4ee"
   },
   "outputs": [
    {
     "name": "stdout",
     "output_type": "stream",
     "text": [
      "0.77\n"
     ]
    }
   ],
   "source": [
    "print(nltk.classify.accuracy(classifier_3, test_set))"
   ]
  },
  {
   "cell_type": "code",
   "execution_count": null,
   "metadata": {
    "colab": {
     "base_uri": "https://localhost:8080/"
    },
    "id": "KjVhM0n4k1nI",
    "outputId": "8ea6a45a-731d-49a4-c5d1-6703de20d75e"
   },
   "outputs": [
    {
     "name": "stdout",
     "output_type": "stream",
     "text": [
      "1000\n",
      "['female', 'female', 'female', 'female', 'female', 'female', 'female', 'female', 'female', 'female']\n",
      "[0, 0, 0, 0, 0, 0, 0, 0, 0, 0]\n"
     ]
    }
   ],
   "source": [
    "correct_gender = []\n",
    "for (tag, guess, name) in sorted(all_predictions):\n",
    "    correct_gender.append(tag)\n",
    "print(len(correct_gender))\n",
    "print(correct_gender[0:10])\n",
    "\n",
    "y_true_trigram_feature = []\n",
    "for gender in correct_gender:\n",
    "    if gender == \"female\":\n",
    "        true = 0\n",
    "    else:\n",
    "        true = 1\n",
    "    y_true_trigram_feature.append(true)\n",
    "print(y_true_trigram_feature[0:10]) "
   ]
  },
  {
   "cell_type": "code",
   "execution_count": null,
   "metadata": {
    "colab": {
     "base_uri": "https://localhost:8080/"
    },
    "id": "kvmWWuqpk1nJ",
    "outputId": "eddcf736-c630-4442-acca-b6ec03e4723c",
    "scrolled": true
   },
   "outputs": [
    {
     "name": "stdout",
     "output_type": "stream",
     "text": [
      "1000\n",
      "['female', 'female', 'female', 'female', 'female', 'female', 'female', 'female', 'female', 'female']\n",
      "[0, 0, 0, 0, 0, 0, 0, 0, 0, 0]\n"
     ]
    }
   ],
   "source": [
    "predicted_gender = []\n",
    "for (tag, guess, name) in sorted(all_predictions):\n",
    "    predicted_gender.append(guess)\n",
    "print(len(predicted_gender))\n",
    "print(predicted_gender[0:10])\n",
    "\n",
    "y_pred_trigram_feature = []\n",
    "for gender in predicted_gender:\n",
    "    if gender == \"female\":\n",
    "        pred = 0\n",
    "    else:\n",
    "        pred = 1\n",
    "    y_pred_trigram_feature.append(pred)\n",
    "print(y_pred_trigram_feature[0:10]) "
   ]
  },
  {
   "cell_type": "code",
   "execution_count": null,
   "metadata": {
    "colab": {
     "base_uri": "https://localhost:8080/"
    },
    "id": "bpCcBqDqk1nJ",
    "outputId": "f348fbf7-f6ba-4380-f048-2ae91cc16819",
    "scrolled": true
   },
   "outputs": [
    {
     "name": "stdout",
     "output_type": "stream",
     "text": [
      "              precision    recall  f1-score   support\n",
      "\n",
      "      Female       0.82      0.86      0.84       624\n",
      "        Male       0.75      0.68      0.71       376\n",
      "\n",
      "    accuracy                           0.79      1000\n",
      "   macro avg       0.78      0.77      0.78      1000\n",
      "weighted avg       0.79      0.79      0.79      1000\n",
      "\n"
     ]
    }
   ],
   "source": [
    "from sklearn import metrics\n",
    "target_labels = ['Female','Male']\n",
    "print(metrics.classification_report(y_true_trigram_feature, y_pred_trigram_feature, target_names=target_labels))"
   ]
  },
  {
   "cell_type": "markdown",
   "metadata": {},
   "source": [
    "## 6. Baseline Model Vs. Trigram Naive Bayes Model Comparison"
   ]
  },
  {
   "attachments": {},
   "cell_type": "markdown",
   "metadata": {},
   "source": [
    "The trigram model [section 3] performed better in most metrics compared to the baseline model [section 1] in this project. The precision score at which the baseline model predicts for female is 64% and for male is 61% whereas it is 82% for female and 75% for male in the trigram model. This means that the percentage of correctly predicted instances over the amount of correct and incorrect predictions is higher in the trigram model for both genders. Similarly, the recall for the baseline model is 95% for female and 12% for male whereas it is 86% for female and 68% for male in the trigram model, which means that the percentage of correctly predicted instances over the amount of total predictions is higher for female and lower for male in the baseline model compared to the trigram model. In both models, the recall is higher for female predictions and higher recall is generally considered good. The f-1 score represents harmonic mean of both precision and recall. It is difficult to maximize both precision and recall at the same time, but we can do that in an easier way with the f-1 score metric. The f-1 score is higher for both female and male in the trigram model, with scores of 84% for female and 71% for male compared to 77% for female and 20% for male in the baseline model. "
   ]
  },
  {
   "attachments": {},
   "cell_type": "markdown",
   "metadata": {},
   "source": [
    "Overall, the trigram model clearly stands out. Although it does not have a remarkably great accuracy like 95%, it does predict correctly 77% of the time on test data. In future, we can feed more training examples and/or select even better features than the character trigrams to increase the accuracy score of the model."
   ]
  },
  {
   "cell_type": "markdown",
   "metadata": {
    "id": "s8QOiYFak1nJ"
   },
   "source": [
    "# 7. Some Test Examples on the Trigram N. Bayes Model"
   ]
  },
  {
   "cell_type": "code",
   "execution_count": null,
   "metadata": {
    "colab": {
     "base_uri": "https://localhost:8080/",
     "height": 35
    },
    "id": "eP9LJv-lk1nJ",
    "outputId": "e238cdd7-b2e9-4358-ed15-483635cc36f6"
   },
   "outputs": [
    {
     "data": {
      "application/vnd.google.colaboratory.intrinsic+json": {
       "type": "string"
      },
      "text/plain": [
       "'male'"
      ]
     },
     "execution_count": 29,
     "metadata": {
      "tags": []
     },
     "output_type": "execute_result"
    }
   ],
   "source": [
    "classifier_3.classify(gender_features_3('Jakob')) "
   ]
  },
  {
   "cell_type": "code",
   "execution_count": null,
   "metadata": {
    "colab": {
     "base_uri": "https://localhost:8080/",
     "height": 35
    },
    "id": "UWO-5FqRk1nK",
    "outputId": "e57c70ef-c753-4f20-9cfe-49d5dc6f01c5"
   },
   "outputs": [
    {
     "data": {
      "application/vnd.google.colaboratory.intrinsic+json": {
       "type": "string"
      },
      "text/plain": [
       "'male'"
      ]
     },
     "execution_count": 30,
     "metadata": {
      "tags": []
     },
     "output_type": "execute_result"
    }
   ],
   "source": [
    "classifier_3.classify(gender_features_3('Whitney')) #wrong prediction"
   ]
  },
  {
   "cell_type": "code",
   "execution_count": null,
   "metadata": {
    "colab": {
     "base_uri": "https://localhost:8080/",
     "height": 35
    },
    "id": "a_3VaGwYk1nK",
    "outputId": "d3195b14-c26e-4871-f2c4-bd548e46fc8f"
   },
   "outputs": [
    {
     "data": {
      "application/vnd.google.colaboratory.intrinsic+json": {
       "type": "string"
      },
      "text/plain": [
       "'male'"
      ]
     },
     "execution_count": 31,
     "metadata": {
      "tags": []
     },
     "output_type": "execute_result"
    }
   ],
   "source": [
    "classifier_3.classify(gender_features_3('Carroll')) #wrong prediction"
   ]
  },
  {
   "cell_type": "code",
   "execution_count": null,
   "metadata": {
    "colab": {
     "base_uri": "https://localhost:8080/",
     "height": 35
    },
    "id": "FyK-hxuzk1nK",
    "outputId": "6ae37a0a-792b-481e-ae79-d7aed5d7d909"
   },
   "outputs": [
    {
     "data": {
      "application/vnd.google.colaboratory.intrinsic+json": {
       "type": "string"
      },
      "text/plain": [
       "'female'"
      ]
     },
     "execution_count": 32,
     "metadata": {
      "tags": []
     },
     "output_type": "execute_result"
    }
   ],
   "source": [
    "classifier_3.classify(gender_features_3('Aanand')) #wrong prediction"
   ]
  },
  {
   "cell_type": "code",
   "execution_count": null,
   "metadata": {
    "colab": {
     "base_uri": "https://localhost:8080/",
     "height": 35
    },
    "id": "ciMzq_eck1nK",
    "outputId": "cd123d01-602b-4249-e551-52f18c4b50a0"
   },
   "outputs": [
    {
     "data": {
      "application/vnd.google.colaboratory.intrinsic+json": {
       "type": "string"
      },
      "text/plain": [
       "'female'"
      ]
     },
     "execution_count": 33,
     "metadata": {
      "tags": []
     },
     "output_type": "execute_result"
    }
   ],
   "source": [
    "classifier_3.classify(gender_features_3('Collin')) #wrong prediction"
   ]
  },
  {
   "cell_type": "code",
   "execution_count": null,
   "metadata": {
    "colab": {
     "base_uri": "https://localhost:8080/",
     "height": 35
    },
    "id": "9biJ52yik1nL",
    "outputId": "19ba2f60-c5dd-4dcb-ab2e-73d39f43997e"
   },
   "outputs": [
    {
     "data": {
      "application/vnd.google.colaboratory.intrinsic+json": {
       "type": "string"
      },
      "text/plain": [
       "'female'"
      ]
     },
     "execution_count": 34,
     "metadata": {
      "tags": []
     },
     "output_type": "execute_result"
    }
   ],
   "source": [
    "classifier_3.classify(gender_features_3('Jacqueline'))"
   ]
  },
  {
   "cell_type": "code",
   "execution_count": null,
   "metadata": {
    "colab": {
     "base_uri": "https://localhost:8080/",
     "height": 35
    },
    "id": "Ladr1C7vk1nL",
    "outputId": "f9b1883c-afc6-46f5-e0dd-cd46fd8727f1"
   },
   "outputs": [
    {
     "data": {
      "application/vnd.google.colaboratory.intrinsic+json": {
       "type": "string"
      },
      "text/plain": [
       "'female'"
      ]
     },
     "execution_count": 35,
     "metadata": {
      "tags": []
     },
     "output_type": "execute_result"
    }
   ],
   "source": [
    "classifier_3.classify(gender_features_3('Alann')) #wrong prediction"
   ]
  },
  {
   "cell_type": "code",
   "execution_count": null,
   "metadata": {
    "colab": {
     "base_uri": "https://localhost:8080/",
     "height": 35
    },
    "id": "ESW1mhmMk1nL",
    "outputId": "7a58a9c7-a5a4-414f-b59f-51b299a40e3a"
   },
   "outputs": [
    {
     "data": {
      "application/vnd.google.colaboratory.intrinsic+json": {
       "type": "string"
      },
      "text/plain": [
       "'male'"
      ]
     },
     "execution_count": 36,
     "metadata": {
      "tags": []
     },
     "output_type": "execute_result"
    }
   ],
   "source": [
    "classifier_3.classify(gender_features_3('Matt')) "
   ]
  },
  {
   "cell_type": "code",
   "execution_count": null,
   "metadata": {
    "colab": {
     "base_uri": "https://localhost:8080/",
     "height": 35
    },
    "id": "Q8S7sB8Wk1nL",
    "outputId": "261c3c76-9341-41c4-b620-13ca86d63cdb"
   },
   "outputs": [
    {
     "data": {
      "application/vnd.google.colaboratory.intrinsic+json": {
       "type": "string"
      },
      "text/plain": [
       "'female'"
      ]
     },
     "execution_count": 37,
     "metadata": {
      "tags": []
     },
     "output_type": "execute_result"
    }
   ],
   "source": [
    "classifier_3.classify(gender_features_3('Agatha')) "
   ]
  },
  {
   "cell_type": "code",
   "execution_count": null,
   "metadata": {
    "colab": {
     "base_uri": "https://localhost:8080/",
     "height": 35
    },
    "id": "yUkDQ3Ryk1nM",
    "outputId": "633bf967-d42f-4f6f-c0a8-33f68de3154e"
   },
   "outputs": [
    {
     "data": {
      "application/vnd.google.colaboratory.intrinsic+json": {
       "type": "string"
      },
      "text/plain": [
       "'female'"
      ]
     },
     "execution_count": 38,
     "metadata": {
      "tags": []
     },
     "output_type": "execute_result"
    }
   ],
   "source": [
    "classifier_3.classify(gender_features_3('Louis')) #wrong prediction"
   ]
  },
  {
   "cell_type": "code",
   "execution_count": null,
   "metadata": {
    "colab": {
     "base_uri": "https://localhost:8080/",
     "height": 35
    },
    "id": "4wv36PjYk1nM",
    "outputId": "6933d485-7da3-4dda-cf78-874a5c264653"
   },
   "outputs": [
    {
     "data": {
      "application/vnd.google.colaboratory.intrinsic+json": {
       "type": "string"
      },
      "text/plain": [
       "'female'"
      ]
     },
     "execution_count": 39,
     "metadata": {
      "tags": []
     },
     "output_type": "execute_result"
    }
   ],
   "source": [
    "classifier_3.classify(gender_features_3('Rita')) "
   ]
  },
  {
   "cell_type": "code",
   "execution_count": null,
   "metadata": {
    "colab": {
     "base_uri": "https://localhost:8080/",
     "height": 35
    },
    "id": "HwDUFvBF71gX",
    "outputId": "43a3f60f-e26b-4b6b-8c05-c30103a94d94"
   },
   "outputs": [
    {
     "data": {
      "application/vnd.google.colaboratory.intrinsic+json": {
       "type": "string"
      },
      "text/plain": [
       "'male'"
      ]
     },
     "execution_count": 40,
     "metadata": {
      "tags": []
     },
     "output_type": "execute_result"
    }
   ],
   "source": [
    "classifier_3.classify(gender_features_3('Harper')) "
   ]
  },
  {
   "cell_type": "code",
   "execution_count": null,
   "metadata": {
    "colab": {
     "base_uri": "https://localhost:8080/",
     "height": 35
    },
    "id": "IrUbvk-_74fS",
    "outputId": "81a4ed8f-416b-40f9-c07b-f8a03f2b8172"
   },
   "outputs": [
    {
     "data": {
      "application/vnd.google.colaboratory.intrinsic+json": {
       "type": "string"
      },
      "text/plain": [
       "'male'"
      ]
     },
     "execution_count": 41,
     "metadata": {
      "tags": []
     },
     "output_type": "execute_result"
    }
   ],
   "source": [
    "classifier_3.classify(gender_features_3('John')) "
   ]
  },
  {
   "cell_type": "code",
   "execution_count": null,
   "metadata": {
    "colab": {
     "base_uri": "https://localhost:8080/",
     "height": 35
    },
    "id": "HkShtaHK769_",
    "outputId": "ef35f7cd-472a-4e3c-df87-f0b886fa977d"
   },
   "outputs": [
    {
     "data": {
      "application/vnd.google.colaboratory.intrinsic+json": {
       "type": "string"
      },
      "text/plain": [
       "'female'"
      ]
     },
     "execution_count": 43,
     "metadata": {
      "tags": []
     },
     "output_type": "execute_result"
    }
   ],
   "source": [
    "classifier_3.classify(gender_features_3('Sally')) "
   ]
  },
  {
   "cell_type": "code",
   "execution_count": null,
   "metadata": {
    "colab": {
     "base_uri": "https://localhost:8080/",
     "height": 35
    },
    "id": "0V4P57c-cEkD",
    "outputId": "0f1eb6a4-759b-459a-b94b-3f64a6439b8a"
   },
   "outputs": [
    {
     "data": {
      "application/vnd.google.colaboratory.intrinsic+json": {
       "type": "string"
      },
      "text/plain": [
       "'female'"
      ]
     },
     "execution_count": 44,
     "metadata": {
      "tags": []
     },
     "output_type": "execute_result"
    }
   ],
   "source": [
    "classifier_3.classify(gender_features_3('Suzanne')) "
   ]
  },
  {
   "cell_type": "code",
   "execution_count": null,
   "metadata": {
    "colab": {
     "base_uri": "https://localhost:8080/",
     "height": 35
    },
    "id": "7cFKs6wIcUca",
    "outputId": "3107d0d4-73f6-435f-a509-b91e281cec86"
   },
   "outputs": [
    {
     "data": {
      "application/vnd.google.colaboratory.intrinsic+json": {
       "type": "string"
      },
      "text/plain": [
       "'female'"
      ]
     },
     "execution_count": 45,
     "metadata": {
      "tags": []
     },
     "output_type": "execute_result"
    }
   ],
   "source": [
    "classifier_3.classify(gender_features_3('Ross')) "
   ]
  },
  {
   "cell_type": "code",
   "execution_count": null,
   "metadata": {
    "id": "HntJCwDrdEi6"
   },
   "outputs": [],
   "source": []
  }
 ],
 "metadata": {
  "colab": {
   "name": "LING5410_Midterm_Classifying_Text2.ipynb",
   "provenance": []
  },
  "kernelspec": {
   "display_name": "Python 3",
   "language": "python",
   "name": "python3"
  },
  "language_info": {
   "codemirror_mode": {
    "name": "ipython",
    "version": 3
   },
   "file_extension": ".py",
   "mimetype": "text/x-python",
   "name": "python",
   "nbconvert_exporter": "python",
   "pygments_lexer": "ipython3",
   "version": "3.7.4"
  }
 },
 "nbformat": 4,
 "nbformat_minor": 1
}
