{
  "nbformat": 4,
  "nbformat_minor": 0,
  "metadata": {
    "colab": {
      "name": "HW2_Regex_Part 2.ipynb",
      "provenance": []
    },
    "kernelspec": {
      "name": "python3",
      "display_name": "Python 3"
    }
  },
  "cells": [
    {
      "cell_type": "markdown",
      "metadata": {
        "id": "qNF_P_GI6_8B"
      },
      "source": [
        "# Part 2 Question 1"
      ]
    },
    {
      "cell_type": "markdown",
      "metadata": {
        "id": "IHllnvp37JaW"
      },
      "source": [
        "#Question 1: Between Donald Trump and Hillary Clinton, who tweeted their opponent's name most frequently during the 2016 US election?\n",
        "The twitter data was downloaded from Kaggle. \n",
        "https://www.kaggle.com/benhamner/clinton-trump-tweets"
      ]
    },
    {
      "cell_type": "code",
      "metadata": {
        "colab": {
          "resources": {
            "http://localhost:8080/nbextensions/google.colab/files.js": {
              "data": "Ly8gQ29weXJpZ2h0IDIwMTcgR29vZ2xlIExMQwovLwovLyBMaWNlbnNlZCB1bmRlciB0aGUgQXBhY2hlIExpY2Vuc2UsIFZlcnNpb24gMi4wICh0aGUgIkxpY2Vuc2UiKTsKLy8geW91IG1heSBub3QgdXNlIHRoaXMgZmlsZSBleGNlcHQgaW4gY29tcGxpYW5jZSB3aXRoIHRoZSBMaWNlbnNlLgovLyBZb3UgbWF5IG9idGFpbiBhIGNvcHkgb2YgdGhlIExpY2Vuc2UgYXQKLy8KLy8gICAgICBodHRwOi8vd3d3LmFwYWNoZS5vcmcvbGljZW5zZXMvTElDRU5TRS0yLjAKLy8KLy8gVW5sZXNzIHJlcXVpcmVkIGJ5IGFwcGxpY2FibGUgbGF3IG9yIGFncmVlZCB0byBpbiB3cml0aW5nLCBzb2Z0d2FyZQovLyBkaXN0cmlidXRlZCB1bmRlciB0aGUgTGljZW5zZSBpcyBkaXN0cmlidXRlZCBvbiBhbiAiQVMgSVMiIEJBU0lTLAovLyBXSVRIT1VUIFdBUlJBTlRJRVMgT1IgQ09ORElUSU9OUyBPRiBBTlkgS0lORCwgZWl0aGVyIGV4cHJlc3Mgb3IgaW1wbGllZC4KLy8gU2VlIHRoZSBMaWNlbnNlIGZvciB0aGUgc3BlY2lmaWMgbGFuZ3VhZ2UgZ292ZXJuaW5nIHBlcm1pc3Npb25zIGFuZAovLyBsaW1pdGF0aW9ucyB1bmRlciB0aGUgTGljZW5zZS4KCi8qKgogKiBAZmlsZW92ZXJ2aWV3IEhlbHBlcnMgZm9yIGdvb2dsZS5jb2xhYiBQeXRob24gbW9kdWxlLgogKi8KKGZ1bmN0aW9uKHNjb3BlKSB7CmZ1bmN0aW9uIHNwYW4odGV4dCwgc3R5bGVBdHRyaWJ1dGVzID0ge30pIHsKICBjb25zdCBlbGVtZW50ID0gZG9jdW1lbnQuY3JlYXRlRWxlbWVudCgnc3BhbicpOwogIGVsZW1lbnQudGV4dENvbnRlbnQgPSB0ZXh0OwogIGZvciAoY29uc3Qga2V5IG9mIE9iamVjdC5rZXlzKHN0eWxlQXR0cmlidXRlcykpIHsKICAgIGVsZW1lbnQuc3R5bGVba2V5XSA9IHN0eWxlQXR0cmlidXRlc1trZXldOwogIH0KICByZXR1cm4gZWxlbWVudDsKfQoKLy8gTWF4IG51bWJlciBvZiBieXRlcyB3aGljaCB3aWxsIGJlIHVwbG9hZGVkIGF0IGEgdGltZS4KY29uc3QgTUFYX1BBWUxPQURfU0laRSA9IDEwMCAqIDEwMjQ7CgpmdW5jdGlvbiBfdXBsb2FkRmlsZXMoaW5wdXRJZCwgb3V0cHV0SWQpIHsKICBjb25zdCBzdGVwcyA9IHVwbG9hZEZpbGVzU3RlcChpbnB1dElkLCBvdXRwdXRJZCk7CiAgY29uc3Qgb3V0cHV0RWxlbWVudCA9IGRvY3VtZW50LmdldEVsZW1lbnRCeUlkKG91dHB1dElkKTsKICAvLyBDYWNoZSBzdGVwcyBvbiB0aGUgb3V0cHV0RWxlbWVudCB0byBtYWtlIGl0IGF2YWlsYWJsZSBmb3IgdGhlIG5leHQgY2FsbAogIC8vIHRvIHVwbG9hZEZpbGVzQ29udGludWUgZnJvbSBQeXRob24uCiAgb3V0cHV0RWxlbWVudC5zdGVwcyA9IHN0ZXBzOwoKICByZXR1cm4gX3VwbG9hZEZpbGVzQ29udGludWUob3V0cHV0SWQpOwp9CgovLyBUaGlzIGlzIHJvdWdobHkgYW4gYXN5bmMgZ2VuZXJhdG9yIChub3Qgc3VwcG9ydGVkIGluIHRoZSBicm93c2VyIHlldCksCi8vIHdoZXJlIHRoZXJlIGFyZSBtdWx0aXBsZSBhc3luY2hyb25vdXMgc3RlcHMgYW5kIHRoZSBQeXRob24gc2lkZSBpcyBnb2luZwovLyB0byBwb2xsIGZvciBjb21wbGV0aW9uIG9mIGVhY2ggc3RlcC4KLy8gVGhpcyB1c2VzIGEgUHJvbWlzZSB0byBibG9jayB0aGUgcHl0aG9uIHNpZGUgb24gY29tcGxldGlvbiBvZiBlYWNoIHN0ZXAsCi8vIHRoZW4gcGFzc2VzIHRoZSByZXN1bHQgb2YgdGhlIHByZXZpb3VzIHN0ZXAgYXMgdGhlIGlucHV0IHRvIHRoZSBuZXh0IHN0ZXAuCmZ1bmN0aW9uIF91cGxvYWRGaWxlc0NvbnRpbnVlKG91dHB1dElkKSB7CiAgY29uc3Qgb3V0cHV0RWxlbWVudCA9IGRvY3VtZW50LmdldEVsZW1lbnRCeUlkKG91dHB1dElkKTsKICBjb25zdCBzdGVwcyA9IG91dHB1dEVsZW1lbnQuc3RlcHM7CgogIGNvbnN0IG5leHQgPSBzdGVwcy5uZXh0KG91dHB1dEVsZW1lbnQubGFzdFByb21pc2VWYWx1ZSk7CiAgcmV0dXJuIFByb21pc2UucmVzb2x2ZShuZXh0LnZhbHVlLnByb21pc2UpLnRoZW4oKHZhbHVlKSA9PiB7CiAgICAvLyBDYWNoZSB0aGUgbGFzdCBwcm9taXNlIHZhbHVlIHRvIG1ha2UgaXQgYXZhaWxhYmxlIHRvIHRoZSBuZXh0CiAgICAvLyBzdGVwIG9mIHRoZSBnZW5lcmF0b3IuCiAgICBvdXRwdXRFbGVtZW50Lmxhc3RQcm9taXNlVmFsdWUgPSB2YWx1ZTsKICAgIHJldHVybiBuZXh0LnZhbHVlLnJlc3BvbnNlOwogIH0pOwp9CgovKioKICogR2VuZXJhdG9yIGZ1bmN0aW9uIHdoaWNoIGlzIGNhbGxlZCBiZXR3ZWVuIGVhY2ggYXN5bmMgc3RlcCBvZiB0aGUgdXBsb2FkCiAqIHByb2Nlc3MuCiAqIEBwYXJhbSB7c3RyaW5nfSBpbnB1dElkIEVsZW1lbnQgSUQgb2YgdGhlIGlucHV0IGZpbGUgcGlja2VyIGVsZW1lbnQuCiAqIEBwYXJhbSB7c3RyaW5nfSBvdXRwdXRJZCBFbGVtZW50IElEIG9mIHRoZSBvdXRwdXQgZGlzcGxheS4KICogQHJldHVybiB7IUl0ZXJhYmxlPCFPYmplY3Q+fSBJdGVyYWJsZSBvZiBuZXh0IHN0ZXBzLgogKi8KZnVuY3Rpb24qIHVwbG9hZEZpbGVzU3RlcChpbnB1dElkLCBvdXRwdXRJZCkgewogIGNvbnN0IGlucHV0RWxlbWVudCA9IGRvY3VtZW50LmdldEVsZW1lbnRCeUlkKGlucHV0SWQpOwogIGlucHV0RWxlbWVudC5kaXNhYmxlZCA9IGZhbHNlOwoKICBjb25zdCBvdXRwdXRFbGVtZW50ID0gZG9jdW1lbnQuZ2V0RWxlbWVudEJ5SWQob3V0cHV0SWQpOwogIG91dHB1dEVsZW1lbnQuaW5uZXJIVE1MID0gJyc7CgogIGNvbnN0IHBpY2tlZFByb21pc2UgPSBuZXcgUHJvbWlzZSgocmVzb2x2ZSkgPT4gewogICAgaW5wdXRFbGVtZW50LmFkZEV2ZW50TGlzdGVuZXIoJ2NoYW5nZScsIChlKSA9PiB7CiAgICAgIHJlc29sdmUoZS50YXJnZXQuZmlsZXMpOwogICAgfSk7CiAgfSk7CgogIGNvbnN0IGNhbmNlbCA9IGRvY3VtZW50LmNyZWF0ZUVsZW1lbnQoJ2J1dHRvbicpOwogIGlucHV0RWxlbWVudC5wYXJlbnRFbGVtZW50LmFwcGVuZENoaWxkKGNhbmNlbCk7CiAgY2FuY2VsLnRleHRDb250ZW50ID0gJ0NhbmNlbCB1cGxvYWQnOwogIGNvbnN0IGNhbmNlbFByb21pc2UgPSBuZXcgUHJvbWlzZSgocmVzb2x2ZSkgPT4gewogICAgY2FuY2VsLm9uY2xpY2sgPSAoKSA9PiB7CiAgICAgIHJlc29sdmUobnVsbCk7CiAgICB9OwogIH0pOwoKICAvLyBXYWl0IGZvciB0aGUgdXNlciB0byBwaWNrIHRoZSBmaWxlcy4KICBjb25zdCBmaWxlcyA9IHlpZWxkIHsKICAgIHByb21pc2U6IFByb21pc2UucmFjZShbcGlja2VkUHJvbWlzZSwgY2FuY2VsUHJvbWlzZV0pLAogICAgcmVzcG9uc2U6IHsKICAgICAgYWN0aW9uOiAnc3RhcnRpbmcnLAogICAgfQogIH07CgogIGNhbmNlbC5yZW1vdmUoKTsKCiAgLy8gRGlzYWJsZSB0aGUgaW5wdXQgZWxlbWVudCBzaW5jZSBmdXJ0aGVyIHBpY2tzIGFyZSBub3QgYWxsb3dlZC4KICBpbnB1dEVsZW1lbnQuZGlzYWJsZWQgPSB0cnVlOwoKICBpZiAoIWZpbGVzKSB7CiAgICByZXR1cm4gewogICAgICByZXNwb25zZTogewogICAgICAgIGFjdGlvbjogJ2NvbXBsZXRlJywKICAgICAgfQogICAgfTsKICB9CgogIGZvciAoY29uc3QgZmlsZSBvZiBmaWxlcykgewogICAgY29uc3QgbGkgPSBkb2N1bWVudC5jcmVhdGVFbGVtZW50KCdsaScpOwogICAgbGkuYXBwZW5kKHNwYW4oZmlsZS5uYW1lLCB7Zm9udFdlaWdodDogJ2JvbGQnfSkpOwogICAgbGkuYXBwZW5kKHNwYW4oCiAgICAgICAgYCgke2ZpbGUudHlwZSB8fCAnbi9hJ30pIC0gJHtmaWxlLnNpemV9IGJ5dGVzLCBgICsKICAgICAgICBgbGFzdCBtb2RpZmllZDogJHsKICAgICAgICAgICAgZmlsZS5sYXN0TW9kaWZpZWREYXRlID8gZmlsZS5sYXN0TW9kaWZpZWREYXRlLnRvTG9jYWxlRGF0ZVN0cmluZygpIDoKICAgICAgICAgICAgICAgICAgICAgICAgICAgICAgICAgICAgJ24vYSd9IC0gYCkpOwogICAgY29uc3QgcGVyY2VudCA9IHNwYW4oJzAlIGRvbmUnKTsKICAgIGxpLmFwcGVuZENoaWxkKHBlcmNlbnQpOwoKICAgIG91dHB1dEVsZW1lbnQuYXBwZW5kQ2hpbGQobGkpOwoKICAgIGNvbnN0IGZpbGVEYXRhUHJvbWlzZSA9IG5ldyBQcm9taXNlKChyZXNvbHZlKSA9PiB7CiAgICAgIGNvbnN0IHJlYWRlciA9IG5ldyBGaWxlUmVhZGVyKCk7CiAgICAgIHJlYWRlci5vbmxvYWQgPSAoZSkgPT4gewogICAgICAgIHJlc29sdmUoZS50YXJnZXQucmVzdWx0KTsKICAgICAgfTsKICAgICAgcmVhZGVyLnJlYWRBc0FycmF5QnVmZmVyKGZpbGUpOwogICAgfSk7CiAgICAvLyBXYWl0IGZvciB0aGUgZGF0YSB0byBiZSByZWFkeS4KICAgIGxldCBmaWxlRGF0YSA9IHlpZWxkIHsKICAgICAgcHJvbWlzZTogZmlsZURhdGFQcm9taXNlLAogICAgICByZXNwb25zZTogewogICAgICAgIGFjdGlvbjogJ2NvbnRpbnVlJywKICAgICAgfQogICAgfTsKCiAgICAvLyBVc2UgYSBjaHVua2VkIHNlbmRpbmcgdG8gYXZvaWQgbWVzc2FnZSBzaXplIGxpbWl0cy4gU2VlIGIvNjIxMTU2NjAuCiAgICBsZXQgcG9zaXRpb24gPSAwOwogICAgd2hpbGUgKHBvc2l0aW9uIDwgZmlsZURhdGEuYnl0ZUxlbmd0aCkgewogICAgICBjb25zdCBsZW5ndGggPSBNYXRoLm1pbihmaWxlRGF0YS5ieXRlTGVuZ3RoIC0gcG9zaXRpb24sIE1BWF9QQVlMT0FEX1NJWkUpOwogICAgICBjb25zdCBjaHVuayA9IG5ldyBVaW50OEFycmF5KGZpbGVEYXRhLCBwb3NpdGlvbiwgbGVuZ3RoKTsKICAgICAgcG9zaXRpb24gKz0gbGVuZ3RoOwoKICAgICAgY29uc3QgYmFzZTY0ID0gYnRvYShTdHJpbmcuZnJvbUNoYXJDb2RlLmFwcGx5KG51bGwsIGNodW5rKSk7CiAgICAgIHlpZWxkIHsKICAgICAgICByZXNwb25zZTogewogICAgICAgICAgYWN0aW9uOiAnYXBwZW5kJywKICAgICAgICAgIGZpbGU6IGZpbGUubmFtZSwKICAgICAgICAgIGRhdGE6IGJhc2U2NCwKICAgICAgICB9LAogICAgICB9OwogICAgICBwZXJjZW50LnRleHRDb250ZW50ID0KICAgICAgICAgIGAke01hdGgucm91bmQoKHBvc2l0aW9uIC8gZmlsZURhdGEuYnl0ZUxlbmd0aCkgKiAxMDApfSUgZG9uZWA7CiAgICB9CiAgfQoKICAvLyBBbGwgZG9uZS4KICB5aWVsZCB7CiAgICByZXNwb25zZTogewogICAgICBhY3Rpb246ICdjb21wbGV0ZScsCiAgICB9CiAgfTsKfQoKc2NvcGUuZ29vZ2xlID0gc2NvcGUuZ29vZ2xlIHx8IHt9OwpzY29wZS5nb29nbGUuY29sYWIgPSBzY29wZS5nb29nbGUuY29sYWIgfHwge307CnNjb3BlLmdvb2dsZS5jb2xhYi5fZmlsZXMgPSB7CiAgX3VwbG9hZEZpbGVzLAogIF91cGxvYWRGaWxlc0NvbnRpbnVlLAp9Owp9KShzZWxmKTsK",
              "ok": true,
              "headers": [
                [
                  "content-type",
                  "application/javascript"
                ]
              ],
              "status": 200,
              "status_text": ""
            }
          },
          "base_uri": "https://localhost:8080/",
          "height": 72
        },
        "id": "oFG5fAWTCOOq",
        "outputId": "37fedac7-8511-4ee1-f420-e03b8dbddd76"
      },
      "source": [
        "from google.colab import files \n",
        "  \n",
        "uploaded = files.upload()"
      ],
      "execution_count": null,
      "outputs": [
        {
          "output_type": "display_data",
          "data": {
            "text/html": [
              "\n",
              "     <input type=\"file\" id=\"files-74e45bfa-e7aa-4014-a62b-11121887d971\" name=\"files[]\" multiple disabled\n",
              "        style=\"border:none\" />\n",
              "     <output id=\"result-74e45bfa-e7aa-4014-a62b-11121887d971\">\n",
              "      Upload widget is only available when the cell has been executed in the\n",
              "      current browser session. Please rerun this cell to enable.\n",
              "      </output>\n",
              "      <script src=\"/nbextensions/google.colab/files.js\"></script> "
            ],
            "text/plain": [
              "<IPython.core.display.HTML object>"
            ]
          },
          "metadata": {
            "tags": []
          }
        },
        {
          "output_type": "stream",
          "text": [
            "Saving tweets.csv to tweets.csv\n"
          ],
          "name": "stdout"
        }
      ]
    },
    {
      "cell_type": "code",
      "metadata": {
        "id": "bw-GtZ1C4fWV"
      },
      "source": [
        "import pandas as pd \n",
        "import io"
      ],
      "execution_count": null,
      "outputs": []
    },
    {
      "cell_type": "code",
      "metadata": {
        "colab": {
          "base_uri": "https://localhost:8080/",
          "height": 561
        },
        "id": "fifvlu9x5-jw",
        "outputId": "d7a6e9e3-9dd6-4975-ba8b-d178ec1bb5ad"
      },
      "source": [
        "data = pd.read_csv(io.BytesIO(uploaded['tweets.csv'])) \n",
        "data.head(6)"
      ],
      "execution_count": null,
      "outputs": [
        {
          "output_type": "execute_result",
          "data": {
            "text/html": [
              "<div>\n",
              "<style scoped>\n",
              "    .dataframe tbody tr th:only-of-type {\n",
              "        vertical-align: middle;\n",
              "    }\n",
              "\n",
              "    .dataframe tbody tr th {\n",
              "        vertical-align: top;\n",
              "    }\n",
              "\n",
              "    .dataframe thead th {\n",
              "        text-align: right;\n",
              "    }\n",
              "</style>\n",
              "<table border=\"1\" class=\"dataframe\">\n",
              "  <thead>\n",
              "    <tr style=\"text-align: right;\">\n",
              "      <th></th>\n",
              "      <th>id</th>\n",
              "      <th>handle</th>\n",
              "      <th>text</th>\n",
              "      <th>is_retweet</th>\n",
              "      <th>original_author</th>\n",
              "      <th>time</th>\n",
              "      <th>in_reply_to_screen_name</th>\n",
              "      <th>in_reply_to_status_id</th>\n",
              "      <th>in_reply_to_user_id</th>\n",
              "      <th>is_quote_status</th>\n",
              "      <th>lang</th>\n",
              "      <th>retweet_count</th>\n",
              "      <th>favorite_count</th>\n",
              "      <th>longitude</th>\n",
              "      <th>latitude</th>\n",
              "      <th>place_id</th>\n",
              "      <th>place_full_name</th>\n",
              "      <th>place_name</th>\n",
              "      <th>place_type</th>\n",
              "      <th>place_country_code</th>\n",
              "      <th>place_country</th>\n",
              "      <th>place_contained_within</th>\n",
              "      <th>place_attributes</th>\n",
              "      <th>place_bounding_box</th>\n",
              "      <th>source_url</th>\n",
              "      <th>truncated</th>\n",
              "      <th>entities</th>\n",
              "      <th>extended_entities</th>\n",
              "    </tr>\n",
              "  </thead>\n",
              "  <tbody>\n",
              "    <tr>\n",
              "      <th>0</th>\n",
              "      <td>780925634159796224</td>\n",
              "      <td>HillaryClinton</td>\n",
              "      <td>The question in this election: Who can put the...</td>\n",
              "      <td>False</td>\n",
              "      <td>NaN</td>\n",
              "      <td>2016-09-28T00:22:34</td>\n",
              "      <td>NaN</td>\n",
              "      <td>NaN</td>\n",
              "      <td>NaN</td>\n",
              "      <td>False</td>\n",
              "      <td>en</td>\n",
              "      <td>218</td>\n",
              "      <td>651</td>\n",
              "      <td>NaN</td>\n",
              "      <td>NaN</td>\n",
              "      <td>NaN</td>\n",
              "      <td>NaN</td>\n",
              "      <td>NaN</td>\n",
              "      <td>NaN</td>\n",
              "      <td>NaN</td>\n",
              "      <td>NaN</td>\n",
              "      <td>NaN</td>\n",
              "      <td>NaN</td>\n",
              "      <td>NaN</td>\n",
              "      <td>https://studio.twitter.com</td>\n",
              "      <td>False</td>\n",
              "      <td>{'media': [{'display_url': 'pic.twitter.com/Xr...</td>\n",
              "      <td>{'media': [{'display_url': 'pic.twitter.com/Xr...</td>\n",
              "    </tr>\n",
              "    <tr>\n",
              "      <th>1</th>\n",
              "      <td>780916180899037184</td>\n",
              "      <td>HillaryClinton</td>\n",
              "      <td>Last night, Donald Trump said not paying taxes...</td>\n",
              "      <td>True</td>\n",
              "      <td>timkaine</td>\n",
              "      <td>2016-09-27T23:45:00</td>\n",
              "      <td>NaN</td>\n",
              "      <td>NaN</td>\n",
              "      <td>NaN</td>\n",
              "      <td>False</td>\n",
              "      <td>en</td>\n",
              "      <td>2445</td>\n",
              "      <td>5308</td>\n",
              "      <td>NaN</td>\n",
              "      <td>NaN</td>\n",
              "      <td>NaN</td>\n",
              "      <td>NaN</td>\n",
              "      <td>NaN</td>\n",
              "      <td>NaN</td>\n",
              "      <td>NaN</td>\n",
              "      <td>NaN</td>\n",
              "      <td>NaN</td>\n",
              "      <td>NaN</td>\n",
              "      <td>NaN</td>\n",
              "      <td>http://twitter.com</td>\n",
              "      <td>False</td>\n",
              "      <td>{'media': [{'display_url': 'pic.twitter.com/t0...</td>\n",
              "      <td>{'media': [{'display_url': 'pic.twitter.com/t0...</td>\n",
              "    </tr>\n",
              "    <tr>\n",
              "      <th>2</th>\n",
              "      <td>780911564857761793</td>\n",
              "      <td>HillaryClinton</td>\n",
              "      <td>Couldn't be more proud of @HillaryClinton. Her...</td>\n",
              "      <td>True</td>\n",
              "      <td>POTUS</td>\n",
              "      <td>2016-09-27T23:26:40</td>\n",
              "      <td>NaN</td>\n",
              "      <td>NaN</td>\n",
              "      <td>NaN</td>\n",
              "      <td>False</td>\n",
              "      <td>en</td>\n",
              "      <td>7834</td>\n",
              "      <td>27234</td>\n",
              "      <td>NaN</td>\n",
              "      <td>NaN</td>\n",
              "      <td>NaN</td>\n",
              "      <td>NaN</td>\n",
              "      <td>NaN</td>\n",
              "      <td>NaN</td>\n",
              "      <td>NaN</td>\n",
              "      <td>NaN</td>\n",
              "      <td>NaN</td>\n",
              "      <td>NaN</td>\n",
              "      <td>NaN</td>\n",
              "      <td>https://about.twitter.com/products/tweetdeck</td>\n",
              "      <td>False</td>\n",
              "      <td>{'user_mentions': [{'id_str': '1536791610', 'n...</td>\n",
              "      <td>NaN</td>\n",
              "    </tr>\n",
              "    <tr>\n",
              "      <th>3</th>\n",
              "      <td>780907038650068994</td>\n",
              "      <td>HillaryClinton</td>\n",
              "      <td>If we stand together, there's nothing we can't...</td>\n",
              "      <td>False</td>\n",
              "      <td>NaN</td>\n",
              "      <td>2016-09-27T23:08:41</td>\n",
              "      <td>NaN</td>\n",
              "      <td>NaN</td>\n",
              "      <td>NaN</td>\n",
              "      <td>False</td>\n",
              "      <td>en</td>\n",
              "      <td>916</td>\n",
              "      <td>2542</td>\n",
              "      <td>NaN</td>\n",
              "      <td>NaN</td>\n",
              "      <td>NaN</td>\n",
              "      <td>NaN</td>\n",
              "      <td>NaN</td>\n",
              "      <td>NaN</td>\n",
              "      <td>NaN</td>\n",
              "      <td>NaN</td>\n",
              "      <td>NaN</td>\n",
              "      <td>NaN</td>\n",
              "      <td>NaN</td>\n",
              "      <td>https://studio.twitter.com</td>\n",
              "      <td>False</td>\n",
              "      <td>{'media': [{'display_url': 'pic.twitter.com/Q3...</td>\n",
              "      <td>{'media': [{'display_url': 'pic.twitter.com/Q3...</td>\n",
              "    </tr>\n",
              "    <tr>\n",
              "      <th>4</th>\n",
              "      <td>780897419462602752</td>\n",
              "      <td>HillaryClinton</td>\n",
              "      <td>Both candidates were asked about how they'd co...</td>\n",
              "      <td>False</td>\n",
              "      <td>NaN</td>\n",
              "      <td>2016-09-27T22:30:27</td>\n",
              "      <td>NaN</td>\n",
              "      <td>NaN</td>\n",
              "      <td>NaN</td>\n",
              "      <td>False</td>\n",
              "      <td>en</td>\n",
              "      <td>859</td>\n",
              "      <td>2882</td>\n",
              "      <td>NaN</td>\n",
              "      <td>NaN</td>\n",
              "      <td>NaN</td>\n",
              "      <td>NaN</td>\n",
              "      <td>NaN</td>\n",
              "      <td>NaN</td>\n",
              "      <td>NaN</td>\n",
              "      <td>NaN</td>\n",
              "      <td>NaN</td>\n",
              "      <td>NaN</td>\n",
              "      <td>NaN</td>\n",
              "      <td>https://about.twitter.com/products/tweetdeck</td>\n",
              "      <td>False</td>\n",
              "      <td>{'user_mentions': [], 'symbols': [], 'urls': [...</td>\n",
              "      <td>NaN</td>\n",
              "    </tr>\n",
              "    <tr>\n",
              "      <th>5</th>\n",
              "      <td>780893126605037568</td>\n",
              "      <td>realDonaldTrump</td>\n",
              "      <td>Join me for a 3pm rally - tomorrow at the Mid-...</td>\n",
              "      <td>False</td>\n",
              "      <td>NaN</td>\n",
              "      <td>2016-09-27T22:13:24</td>\n",
              "      <td>NaN</td>\n",
              "      <td>NaN</td>\n",
              "      <td>NaN</td>\n",
              "      <td>False</td>\n",
              "      <td>en</td>\n",
              "      <td>2181</td>\n",
              "      <td>6172</td>\n",
              "      <td>NaN</td>\n",
              "      <td>NaN</td>\n",
              "      <td>NaN</td>\n",
              "      <td>NaN</td>\n",
              "      <td>NaN</td>\n",
              "      <td>NaN</td>\n",
              "      <td>NaN</td>\n",
              "      <td>NaN</td>\n",
              "      <td>NaN</td>\n",
              "      <td>NaN</td>\n",
              "      <td>NaN</td>\n",
              "      <td>http://twitter.com/download/iphone</td>\n",
              "      <td>True</td>\n",
              "      <td>{'user_mentions': [], 'symbols': [], 'urls': [...</td>\n",
              "      <td>NaN</td>\n",
              "    </tr>\n",
              "  </tbody>\n",
              "</table>\n",
              "</div>"
            ],
            "text/plain": [
              "                   id  ...                                  extended_entities\n",
              "0  780925634159796224  ...  {'media': [{'display_url': 'pic.twitter.com/Xr...\n",
              "1  780916180899037184  ...  {'media': [{'display_url': 'pic.twitter.com/t0...\n",
              "2  780911564857761793  ...                                                NaN\n",
              "3  780907038650068994  ...  {'media': [{'display_url': 'pic.twitter.com/Q3...\n",
              "4  780897419462602752  ...                                                NaN\n",
              "5  780893126605037568  ...                                                NaN\n",
              "\n",
              "[6 rows x 28 columns]"
            ]
          },
          "metadata": {
            "tags": []
          },
          "execution_count": 8
        }
      ]
    },
    {
      "cell_type": "code",
      "metadata": {
        "colab": {
          "base_uri": "https://localhost:8080/",
          "height": 111
        },
        "id": "8QUhbOt96ITm",
        "outputId": "2912290f-5244-4a3e-fbcc-0652ff40b309"
      },
      "source": [
        "trump_data = data.loc[data[\"handle\"] == \"realDonaldTrump\"]\n",
        "tweets_trump = trump_data[[\"handle\",\"text\"]]\n",
        "tweets_trump.head(2)"
      ],
      "execution_count": null,
      "outputs": [
        {
          "output_type": "execute_result",
          "data": {
            "text/html": [
              "<div>\n",
              "<style scoped>\n",
              "    .dataframe tbody tr th:only-of-type {\n",
              "        vertical-align: middle;\n",
              "    }\n",
              "\n",
              "    .dataframe tbody tr th {\n",
              "        vertical-align: top;\n",
              "    }\n",
              "\n",
              "    .dataframe thead th {\n",
              "        text-align: right;\n",
              "    }\n",
              "</style>\n",
              "<table border=\"1\" class=\"dataframe\">\n",
              "  <thead>\n",
              "    <tr style=\"text-align: right;\">\n",
              "      <th></th>\n",
              "      <th>handle</th>\n",
              "      <th>text</th>\n",
              "    </tr>\n",
              "  </thead>\n",
              "  <tbody>\n",
              "    <tr>\n",
              "      <th>5</th>\n",
              "      <td>realDonaldTrump</td>\n",
              "      <td>Join me for a 3pm rally - tomorrow at the Mid-...</td>\n",
              "    </tr>\n",
              "    <tr>\n",
              "      <th>8</th>\n",
              "      <td>realDonaldTrump</td>\n",
              "      <td>Once again, we will have a government of, by a...</td>\n",
              "    </tr>\n",
              "  </tbody>\n",
              "</table>\n",
              "</div>"
            ],
            "text/plain": [
              "            handle                                               text\n",
              "5  realDonaldTrump  Join me for a 3pm rally - tomorrow at the Mid-...\n",
              "8  realDonaldTrump  Once again, we will have a government of, by a..."
            ]
          },
          "metadata": {
            "tags": []
          },
          "execution_count": 9
        }
      ]
    },
    {
      "cell_type": "code",
      "metadata": {
        "colab": {
          "base_uri": "https://localhost:8080/",
          "height": 111
        },
        "id": "8xRaAEPB6Oiq",
        "outputId": "1303b6b2-ca85-4f41-83e2-c2164ec9f8cf"
      },
      "source": [
        "tweets_trump = trump_data[[\"text\"]]\n",
        "tweets_trump.head(2)"
      ],
      "execution_count": null,
      "outputs": [
        {
          "output_type": "execute_result",
          "data": {
            "text/html": [
              "<div>\n",
              "<style scoped>\n",
              "    .dataframe tbody tr th:only-of-type {\n",
              "        vertical-align: middle;\n",
              "    }\n",
              "\n",
              "    .dataframe tbody tr th {\n",
              "        vertical-align: top;\n",
              "    }\n",
              "\n",
              "    .dataframe thead th {\n",
              "        text-align: right;\n",
              "    }\n",
              "</style>\n",
              "<table border=\"1\" class=\"dataframe\">\n",
              "  <thead>\n",
              "    <tr style=\"text-align: right;\">\n",
              "      <th></th>\n",
              "      <th>text</th>\n",
              "    </tr>\n",
              "  </thead>\n",
              "  <tbody>\n",
              "    <tr>\n",
              "      <th>5</th>\n",
              "      <td>Join me for a 3pm rally - tomorrow at the Mid-...</td>\n",
              "    </tr>\n",
              "    <tr>\n",
              "      <th>8</th>\n",
              "      <td>Once again, we will have a government of, by a...</td>\n",
              "    </tr>\n",
              "  </tbody>\n",
              "</table>\n",
              "</div>"
            ],
            "text/plain": [
              "                                                text\n",
              "5  Join me for a 3pm rally - tomorrow at the Mid-...\n",
              "8  Once again, we will have a government of, by a..."
            ]
          },
          "metadata": {
            "tags": []
          },
          "execution_count": 10
        }
      ]
    },
    {
      "cell_type": "code",
      "metadata": {
        "colab": {
          "base_uri": "https://localhost:8080/"
        },
        "id": "gZgHAWYf6RFP",
        "outputId": "a1833e61-b6cf-4d0b-d4d7-024895347a81"
      },
      "source": [
        "#How many tweets of Donald Trump mentioned Hillary Clinton's name?\n",
        "\n",
        "mentioned_hillary = tweets_trump[tweets_trump['text'].str.match(\"[hH]illary*|[Cc]linton*\")==True]\n",
        "print(mentioned_hillary.count())\n",
        "print(mentioned_hillary)"
      ],
      "execution_count": null,
      "outputs": [
        {
          "output_type": "stream",
          "text": [
            "text    49\n",
            "dtype: int64\n",
            "                                                   text\n",
            "12    Hillary Clinton's Campaign Continues To Make F...\n",
            "50    Hillary's been failing for 30 years in not get...\n",
            "94    Hillary Clinton failed all over the world. \\n❌...\n",
            "98    Hillary Clinton is the only candidate on stage...\n",
            "100   Hillary's policies have made America less safe...\n",
            "225   Hillary Clinton just lost every Republican she...\n",
            "306   Hillary Clinton is taking the day off again, s...\n",
            "331   Hillary Clinton's weakness while she was Secre...\n",
            "668   Hillary Clinton just had her 47% moment. What ...\n",
            "744   Hillary Clinton answered email questions diffe...\n",
            "748   Hillary just gave a disastrous news conference...\n",
            "935   Hillary Clinton doesn't have the strength or t...\n",
            "948   Hillary Clinton didn't go to Louisiana, and no...\n",
            "1090  Hillary Clinton only knows how to make a speec...\n",
            "1096  Hillary Clinton is using race-baiting to try t...\n",
            "1098  Hillary Clinton's short speech is pandering to...\n",
            "1180  Hillary Clinton strongly stated  that there wa...\n",
            "1603  Hillary Clinton is being badly criticized for ...\n",
            "1634  Hillary Clinton has bad judgment and is unfit ...\n",
            "1721  Hillary Clinton raked in money from regimes th...\n",
            "1722  Hillary, whose decisions have led to the death...\n",
            "1803  Hillary can never win over Bernie supporters. ...\n",
            "1810  Hillary Clinton should not be given national s...\n",
            "1849  Hillary's wars in the Middle East have unleash...\n",
            "1850  Hillary's vision is a borderless world where w...\n",
            "1851  Hillary will never reform Wall Street. She is ...\n",
            "1853  Hillary's refusal to mention Radical Islam, as...\n",
            "2261  Clinton betrayed Bernie voters. Kaine supports...\n",
            "2291  Hillary was involved in the e-mail scandal bec...\n",
            "2927  Hillary Clinton should ask why the Democrat po...\n",
            "3103  Hillary Clinton’s Presidency would be catastro...\n",
            "3167  Hillary Clinton is not a change agent, just th...\n",
            "3191  Clinton is trying to wash away her bad judgeme...\n",
            "3251  Hillary Clinton’s open borders are tearing Ame...\n",
            "3254  Hillary Lies to Benghazi Families\\n#CrookedHil...\n",
            "3293  Hillary says things can't change. I say they h...\n",
            "3316  Hillary defrauded America as Secy of State. Sh...\n",
            "3318  Hillary took money and did favors for regimes ...\n",
            "3327  Hillary Clinton's open borders immigration pol...\n",
            "3330  Hillary Clinton surged the trade deficit with ...\n",
            "3332  Hillary says this election is about judgment. ...\n",
            "3538  Clinton made a false ad about me where I was i...\n",
            "3731  Hillary Clinton is unfit to be president. She ...\n",
            "4062  Hillary Clinton is not qualified to be preside...\n",
            "4353  Hillary has bad judgment! https://t.co/LhcIU6kmxs\n",
            "5144  Hillary Clinton has been working on solving th...\n",
            "5242  Hillary Clinton has been involved in corruptio...\n",
            "6027  Hillary Clinton is a major national security r...\n",
            "6407   Hillary and her friends! https://t.co/q45tTapqMI\n"
          ],
          "name": "stdout"
        }
      ]
    },
    {
      "cell_type": "code",
      "metadata": {
        "colab": {
          "base_uri": "https://localhost:8080/",
          "height": 111
        },
        "id": "xzmyk4176UI-",
        "outputId": "b722366d-b051-47d7-cf65-725f6cdb13d3"
      },
      "source": [
        "hillary_data = data.loc[data[\"handle\"] == \"HillaryClinton\"]\n",
        "tweets_hillary = hillary_data[[\"handle\",\"text\"]]\n",
        "tweets_hillary.head(2)"
      ],
      "execution_count": null,
      "outputs": [
        {
          "output_type": "execute_result",
          "data": {
            "text/html": [
              "<div>\n",
              "<style scoped>\n",
              "    .dataframe tbody tr th:only-of-type {\n",
              "        vertical-align: middle;\n",
              "    }\n",
              "\n",
              "    .dataframe tbody tr th {\n",
              "        vertical-align: top;\n",
              "    }\n",
              "\n",
              "    .dataframe thead th {\n",
              "        text-align: right;\n",
              "    }\n",
              "</style>\n",
              "<table border=\"1\" class=\"dataframe\">\n",
              "  <thead>\n",
              "    <tr style=\"text-align: right;\">\n",
              "      <th></th>\n",
              "      <th>handle</th>\n",
              "      <th>text</th>\n",
              "    </tr>\n",
              "  </thead>\n",
              "  <tbody>\n",
              "    <tr>\n",
              "      <th>0</th>\n",
              "      <td>HillaryClinton</td>\n",
              "      <td>The question in this election: Who can put the...</td>\n",
              "    </tr>\n",
              "    <tr>\n",
              "      <th>1</th>\n",
              "      <td>HillaryClinton</td>\n",
              "      <td>Last night, Donald Trump said not paying taxes...</td>\n",
              "    </tr>\n",
              "  </tbody>\n",
              "</table>\n",
              "</div>"
            ],
            "text/plain": [
              "           handle                                               text\n",
              "0  HillaryClinton  The question in this election: Who can put the...\n",
              "1  HillaryClinton  Last night, Donald Trump said not paying taxes..."
            ]
          },
          "metadata": {
            "tags": []
          },
          "execution_count": 12
        }
      ]
    },
    {
      "cell_type": "code",
      "metadata": {
        "colab": {
          "base_uri": "https://localhost:8080/"
        },
        "id": "pkA4N2ZX6YaW",
        "outputId": "4fedad9b-ead7-471a-e229-ffea5b2327b8"
      },
      "source": [
        "#How many tweets of Hillary Clinton mentioned Donald Trump's name?\n",
        "\n",
        "mentioned_trump = tweets_hillary[tweets_hillary['text'].str.match(\"[dD]onald*|[tT]rump*\") == True]\n",
        "print(mentioned_trump.count())\n",
        "print(mentioned_trump)"
      ],
      "execution_count": null,
      "outputs": [
        {
          "output_type": "stream",
          "text": [
            "handle    263\n",
            "text      263\n",
            "dtype: int64\n",
            "              handle                                               text\n",
            "14    HillaryClinton  Donald Trump lied to the American people at le...\n",
            "35    HillaryClinton  Trump sobre Alicia Machado en 1996: \"Miss Pigg...\n",
            "51    HillaryClinton  Trump on Alicia, 1996: \"Miss Piggy.\"\\n\\nThis m...\n",
            "73    HillaryClinton  Donald Trump called her \"Miss Piggy\" and \"Miss...\n",
            "90    HillaryClinton  Donald Trump's \"cavalier attitude about nuclea...\n",
            "...              ...                                                ...\n",
            "4655  HillaryClinton  Donald Trump has a lot of ideas about foreign ...\n",
            "4661  HillaryClinton  Donald Trump's anti-Muslim rhetoric goes again...\n",
            "4768  HillaryClinton  Donald Trump is going to try to take Mitt Romn...\n",
            "4785  HillaryClinton  Trump saying awful things about women isn't th...\n",
            "4838  HillaryClinton  Donald Trump &amp; Ted Cruz are pushing a visi...\n",
            "\n",
            "[263 rows x 2 columns]\n"
          ],
          "name": "stdout"
        }
      ]
    },
    {
      "cell_type": "code",
      "metadata": {
        "colab": {
          "base_uri": "https://localhost:8080/"
        },
        "id": "zykHLHOR6a7x",
        "outputId": "e4f38354-72ea-474b-fdaf-2b4bd02ac193"
      },
      "source": [
        "#How many tweets of Donald Trump mentioned Crooked Hillary? \n",
        "pd.options.display.max_rows = 5000\n",
        "pd.options.display.max_colwidth = 50\n",
        "\n",
        "mentioned_crooked_hillary = tweets_trump[tweets_trump['text'].str.match(\"[cC]rooked* [hH]illary*\")==True]\n",
        "print(mentioned_crooked_hillary.count())\n",
        "print(mentioned_crooked_hillary)"
      ],
      "execution_count": null,
      "outputs": [
        {
          "output_type": "stream",
          "text": [
            "text    67\n",
            "dtype: int64\n",
            "                                                   text\n",
            "210   Crooked Hillary's bad judgement forced her to ...\n",
            "312   Crooked Hillary has been fighting ISIS, or wha...\n",
            "411   Crooked Hillary wants to take your 2nd Amendme...\n",
            "879   Crooked Hillary's V.P. pick said this morning ...\n",
            "1017  Crooked Hillary's brainpower is highly overrat...\n",
            "1080  Crooked Hillary will NEVER be able to solve th...\n",
            "1214  Crooked Hillary is flooding the airwaves with ...\n",
            "1387  Crooked Hillary Clinton is being protected by ...\n",
            "1602  Crooked Hillary said loudly, and for the world...\n",
            "1724  Crooked Hillary Clinton is 100% owned by her d...\n",
            "1792  Crooked Hillary Clinton is soft on crime, supp...\n",
            "1835  Crooked Hillary said that I \"couldn't handle t...\n",
            "1839  Crooked Hillary Clinton mentioned me 22 times ...\n",
            "1844  Crooked Hillary Clinton made up facts about me...\n",
            "2109  Crooked Hillary Clinton wants to flood our cou...\n",
            "2288  Crooked Hillary Clinton knew everything that h...\n",
            "2302  Crooked Hillary Clinton was not at all loyal t...\n",
            "2373  Crooked Hillary Clinton has destroyed jobs and...\n",
            "2665  Crooked Hillary Clinton is bought and paid for...\n",
            "2667  Crooked Hillary, who embarrassed herself and t...\n",
            "2668  Crooked Hillary is spending big Wall Street mo...\n",
            "2930  Crooked Hillary Clinton lied to the FBI and to...\n",
            "2932  Crooked Hillary has once again been proven to ...\n",
            "2933  Crooked Hillary Clinton and her team \"were ext...\n",
            "2934  Crooked Hillary Clinton is unfit to serve as P...\n",
            "2983  Crooked Hillary Clinton is \"guilty as hell\" bu...\n",
            "2991  Crooked Hillary will NEVER be able to handle t...\n",
            "3004  Crooked Hillary Clinton knew that her husband ...\n",
            "3020  Crooked Hillary -- Makes History! \\n#ImWithYou...\n",
            "3152  Crooked Hillary is wheeling out one of the lea...\n",
            "3165  Crooked Hillary Attacks Foreign Government Don...\n",
            "3166  Crooked Hillary Clinton got Brexit wrong. I sa...\n",
            "3183  Crooked Hillary just took a major ad of me pla...\n",
            "3192  Crooked Hillary Clinton, who called BREXIT 100...\n",
            "3217  Crooked Hillary called it totally wrong on BRE...\n",
            "3306  Crooked Hillary refuses to say that she will b...\n",
            "3349  Crooked Hillary Clinton is totally unfit to be...\n",
            "3497  Crooked Hillary says we must call on Saudi Ara...\n",
            "3625  Crooked Hillary Clinton will be a disaster on ...\n",
            "3724  Crooked Hillary is being badly criticized (for...\n",
            "3725  Crooked Hillary Clinton has not held a news co...\n",
            "3823  Crooked Hillary no longer has credibility - to...\n",
            "3830  Crooked Hillary Clinton, who I would love to c...\n",
            "3839  Crooked Hillary Clinton has zero natural talen...\n",
            "3850  Crooked Hillary Clinton is a fraud who has put...\n",
            "3989  Crooked Hillary Clinton just can't close the d...\n",
            "4026  Crooked Hillary Clinton overregulates, overtax...\n",
            "4056  Crooked Hillary wants a radical 500% increase ...\n",
            "4063  Crooked Hillary said that I  want guns brought...\n",
            "4073  Crooked Hillary Clintons foreign interventions...\n",
            "4077  Crooked Hillary wants to get rid of all guns a...\n",
            "4080  Crooked Hillary is spending tremendous amounts...\n",
            "4081  Crooked Hillary Clinton wants to essentially a...\n",
            "4101  Crooked Hillary Clinton- discussing the #Secon...\n",
            "4107  Crooked Hillary can't even close the deal with...\n",
            "4108  Crooked Hillary Clinton looks presidential? I ...\n",
            "4110  Crooked Hillary has zero imagination and even ...\n",
            "4216  Crooked Hillary said her husband is going to b...\n",
            "4219  Crooked Hillary can't close the deal with Bern...\n",
            "4222  Crooked Hillary Clinton put out an ad where I ...\n",
            "4383  Crooked Hillary Clinton says that she got more...\n",
            "4403  Crooked Hillary just can't close the deal with...\n",
            "4427  Crooked Hillary Clinton wants completely open ...\n",
            "4442  Crooked Hillary has ZERO leadership ability. A...\n",
            "4551  Crooked Hillary Clinton said she is used to \"d...\n",
            "4604  Crooked Hillary Clinton, perhaps the most dish...\n",
            "4919  Crooked Hillary Clinton is spending a fortune ...\n"
          ],
          "name": "stdout"
        }
      ]
    },
    {
      "cell_type": "markdown",
      "metadata": {
        "id": "UHTn0coc6i_G"
      },
      "source": [
        "**Hillary Clinton had more number of tweets mentioning Donald Trump's name (263 tweets) than the opposite (49 tweets). And, Crooked Hillary term was used by Donald Trump in 67 of his tweets.**"
      ]
    },
    {
      "cell_type": "markdown",
      "metadata": {
        "id": "q99a08BG6tjm"
      },
      "source": [
        "# Part 2 Question 2"
      ]
    },
    {
      "cell_type": "markdown",
      "metadata": {
        "id": "BL2_9S847hBV"
      },
      "source": [
        "# In Pirates of the Caribbean, how could you find the things said by a particular character (e.g., JACK SPARROW)?"
      ]
    },
    {
      "cell_type": "code",
      "metadata": {
        "colab": {
          "base_uri": "https://localhost:8080/"
        },
        "id": "CHUiOteI6d8Q",
        "outputId": "7b8cfa5f-254a-499a-b253-4d0a65184679"
      },
      "source": [
        "import nltk\n",
        "nltk.download('webtext')\n",
        "from nltk.corpus import webtext\n",
        "webtext.fileids()"
      ],
      "execution_count": null,
      "outputs": [
        {
          "output_type": "stream",
          "text": [
            "[nltk_data] Downloading package webtext to /root/nltk_data...\n",
            "[nltk_data]   Unzipping corpora/webtext.zip.\n"
          ],
          "name": "stdout"
        },
        {
          "output_type": "execute_result",
          "data": {
            "text/plain": [
              "['firefox.txt',\n",
              " 'grail.txt',\n",
              " 'overheard.txt',\n",
              " 'pirates.txt',\n",
              " 'singles.txt',\n",
              " 'wine.txt']"
            ]
          },
          "metadata": {
            "tags": []
          },
          "execution_count": 16
        }
      ]
    },
    {
      "cell_type": "code",
      "metadata": {
        "colab": {
          "base_uri": "https://localhost:8080/"
        },
        "id": "rfswAm5F7lAT",
        "outputId": "9464a014-2605-4162-b999-7d0424e3100f"
      },
      "source": [
        "pirates = webtext.raw(fileids='pirates.txt')\n",
        "print(pirates[0:3999]) #printing the first 4000 characters"
      ],
      "execution_count": null,
      "outputs": [
        {
          "output_type": "stream",
          "text": [
            "PIRATES OF THE CARRIBEAN: DEAD MAN'S CHEST, by Ted Elliott & Terry Rossio\n",
            "[view looking straight down at rolling swells, sound of wind and thunder, then a low heartbeat]\n",
            "Scene: PORT ROYAL\n",
            "[teacups on a table in the rain]\n",
            "[sheet music on music stands in the rain]\n",
            "[bouquet of white orchids, Elizabeth sitting in the rain holding the bouquet]\n",
            "[men rowing, men on horseback, to the sound of thunder]\n",
            "[EITC logo on flag blowing in the wind]\n",
            "[many rowboats are entering the harbor]\n",
            "[Elizabeth sitting alone, at a distance]\n",
            "[marines running, kick a door in] \n",
            "[a mule is seen on the left in the barn where the marines enter]\n",
            "[Liz looking over her shoulder]\n",
            "[Elizabeth drops her bouquet]\n",
            "[Will is in manacles, being escorted by red coats]\n",
            "ELIZABETH SWANN: Will...!\n",
            "[Elizabeth runs to Will]\n",
            "ELIZABETH SWANN: Why is this happening? \n",
            "WILL TURNER: I don't know. You look beautiful.\n",
            "ELIZABETH SWANN: I think it's bad luck for the groom to see the bride before the wedding.\n",
            "[marines cross their long axes to bar Governor from entering]\n",
            "[Beckett, in white hair and curls, is standing with Mercer]\n",
            "LORD CUTLER BECKETT: Governor Weatherby Swann, it's been too long.\n",
            "LORD CUTLER BECKETT: His Lord now... actually.\n",
            "LORD CUTLER BECKETT: In fact, I *do*. Mister Mercer! The warrant for the arrest of one William Turner.\n",
            "LORD CUTLER BECKETT: Oh, is it? That's annoying. My mistake. Arrest her.\n",
            "ELIZABETH SWANN: On what charges?\n",
            "WILL TURNER: No!\n",
            "[Beckett takes another document from Mercer, who is standing with Beckett, craggy face and pony tail]\n",
            "LORD CUTLER BECKETT: Ah-ha! Here's the one for William Turner. And I have another one for a Mister James Norrington. Is he present?\n",
            "ELIZABETH SWANN: *What are the charges?*\n",
            "LORD CUTLER BECKETT: I don't believe that's the answer to the question I asked.\n",
            "WILL TURNER: Lord Beckett! In the category of questions *not* answered...\n",
            "ELIZABETH SWANN: We are under the jurisdiction of the King's governor of Port Royal, and you will tell us what we are charged with. \n",
            "LORD CUTLER BECKETT: For which the punishment, regrettably, is *also* death. Perhaps you remember a certain pirate named Jack Sparrow.\n",
            "ELIZABETH SWANN: *Captain* Jack Sparrow.\n",
            "LORD CUTLER BECKETT: Captain Jack Sparrow. Yes, I thought you might.\n",
            "Scene: BLACK PEARL\n",
            "[views of rigging ropes and blocks aboard a ship at night] \n",
            "[Gibbs walks the deck alone at night, singing and drinking from a bottle]\n",
            "GIBBS: Fifteen men on a dead man's chest. Yo ho ho, and a *bottle* of rum. Drink and the devil had done for the rest. Yo ho ho, and a *bottle* of rum. Ha-ha-ha-ha-ha! \n",
            "[a bell tolls, Gibbs is interrupted from his drinking by the sound]\n",
            "[Gibbs looks up to see a flock of crows flying in the foggy night sky]\n",
            "Scene: TURKISH PRISON\n",
            "[tolling of bells, camera pans to show the crows flying toward a coastal island] \n",
            "[pinnacle-like island off the coast at night, connected to the mainland by thin, lighted bridge]\n",
            "[cages with men inside line the bridge]\n",
            "[prisoners are being marched across the bridge]\n",
            "[a male prisoner with bloody legs is muttering, and is dragged across the bridge by guards]\n",
            "[a crow is seen reflected in the eye of one male prisoner in a cage, the crow attacks and pecks his eye out, he screams]\n",
            "[the prisoner who was being dragged is taken down a hatch-like door in the ground, he also screams]\n",
            "[rocky shoreline, lit with torches]\n",
            "[men toss caskets into the sea]\n",
            "[numerous caskets are floating out to sea, vertical streaks in the distant clouds are seen]\n",
            "[a crow lands on one casket, begins pecking at the top] \n",
            "[sudden gunblast from inside the casket blows the crow away, along with much wood]\n",
            "[hand holding flintlock pistol emerges, pans about, points it at audience for a moment]\n",
            "[Jack breaks out of the top of the casket, puts his captain's hat on]\n",
            "JACK SPARROW: Sorry, mate.\n",
            "[Jack breaks the skeleton's leg off]\n",
            "JACK SPARROW: Mind if we make a little side trip? I didn't think so.\n",
            "[Jack uses the skeleton leg as an oar, rows toward the full moon and a waiting ship in the distance to the right of \n"
          ],
          "name": "stdout"
        }
      ]
    },
    {
      "cell_type": "code",
      "metadata": {
        "colab": {
          "base_uri": "https://localhost:8080/"
        },
        "id": "cfF7epLZ7r42",
        "outputId": "2050eef2-95de-49f6-b974-6be030fd8ba6"
      },
      "source": [
        "#finding lines said by the character \"Jack Sparrow\"\n",
        "import re\n",
        "for line in re.findall('JACK SPARROW.+', pirates):\n",
        "    print(line)"
      ],
      "execution_count": null,
      "outputs": [
        {
          "output_type": "stream",
          "text": [
            "JACK SPARROW: Sorry, mate.\n",
            "JACK SPARROW: Mind if we make a little side trip? I didn't think so.\n",
            "JACK SPARROW: Complications arose, ensued, were overcome.\n",
            "JACK SPARROW: Mm-hmm!\n",
            "JACK SPARROW: Shiny?\n",
            "JACK SPARROW: Is that how you're all feeling, then? Perhaps dear old Jack is not serving your best interests as captain?\n",
            "JACK SPARROW: What did the bird say?\n",
            "JACK SPARROW: Ohhh!\n",
            "JACK SPARROW: It does me.\n",
            "JACK SPARROW: No! Much more better. It is a *drawing* of a key. \n",
            "JACK SPARROW: Gentlemen, what do keys do?\n",
            "JACK SPARROW: No! If we don't have the key, we can't open whatever it is we don't have that it unlocks. So what purpose would be served in finding whatever need be unlocked, which we don't have, without first having found the key what unlocks it?\n",
            "JACK SPARROW: You're not making any sense at all. Any more questions?\n",
            "JACK SPARROW: Hah! A heading. Set sail in a... mmm... a general... in *that* way - direction. \n",
            "JACK SPARROW: Come on, snap to and make sail, you know how this works. Come on, oy/quick, oy/quick, hey!\n",
            "JACK SPARROW: Why is the rum always gone?\n",
            "JACK SPARROW: Oh! *That's* why.\n",
            "JACK SPARROW: As you were, gents.\n",
            "JACK SPARROW: Ah!\n",
            "JACK SPARROW: Bootstrap. Bill Turner.\n",
            "JACK SPARROW: Is this a dream?\n",
            "JACK SPARROW: I thought not. If it were, there'd be rum.\n",
            "JACK SPARROW: I had some help retrieving the Pearl, by the way.\n",
            "JACK SPARROW: Your son.\n",
            "JACK SPARROW: And to what do I owe the pleasure of your carbuncle? \n",
            "JACK SPARROW: Who?\n",
            "JACK SPARROW: Ah. So it's you, then. He shanghaied you into service, eh? \n",
            "JACK SPARROW: It's funny what a man will do to forestall his final judgment -\n",
            "JACK SPARROW: Technic -\n",
            "JACK SPARROW: Yes, but the Flying Dutchman already *has* a captain, so there's re -\n",
            "JACK SPARROW: Any idea when Jones might release said terrible beastie? \n",
            "JACK SPARROW: On deck all hands! Make fast the bunt gasket! On deck! Scurry! Scurry-on/Marty, I want movement!\n",
            "JACK SPARROW: *I want movement!* \n",
            "JACK SPARROW: All on deck! Run! And keep running! Run as if the devil himself and itself is upon us! \n",
            "JACK SPARROW: Ah! Ooh! Run! Land.\n",
            "JACK SPARROW: Oh! Euh!\n",
            "JACK SPARROW: Didn't say port. I said land. Any land.\n",
            "JACK SPARROW: Agh!\n",
            "JACK SPARROW: No no! Leave it! Run! \n",
            "JACK SPARROW: Shhh!\n",
            "JACK SPARROW: Nothing.\n",
            "JACK SPARROW: ?: Wa-say kohn. \n",
            "JACK SPARROW: Kay-lay lam. Lam piki-piki. Lam eensy weensy. Lam say-say... eunuchy. Snip-snip. \n",
            "JACK SPARROW: Say-say lam shoop-shoop sha smalay-lama shoo-koo. Savvy? Ball licky-licky. Ball licky-licky!\n",
            "JACK SPARROW: Save me! \n",
            "JACK SPARROW: Thank you.\n",
            "JACK SPARROW: No/Oup! No no! Oy!/Wait! No no! More wood! Big fire! *Big* fire! I am chief! Want big fire! Come on!\n",
            "JACK SPARROW: Oy!/Boy! Maboogie snickel-snickel. Tout de suite! Come on! More wood!\n",
            "JACK SPARROW: Oh bugger.\n",
            "JACK SPARROW: Little seasoning. Eh?\n",
            "JACK SPARROW: Well done.\n",
            "JACK SPARROW: Well, go on! Go get them! Hay ala!\n",
            "JACK SPARROW: No! No no! Oy! No no!\n",
            "JACK SPARROW: Not good.\n",
            "JACK SPARROW: Bugger.\n",
            "JACK SPARROW: Hey! \n",
            "JACK SPARROW: Good doggie! Doggie. \n",
            "JACK SPARROW: *Alas*, my children! This is the day you shall always remember as the day that you almost -\n",
            "JACK SPARROW: ...Captain Jack... Sparrow.\n",
            "JACK SPARROW: Yes to the first, yes to the second, but only insofar as we keep to the shallows as much as possible.\n",
            "JACK SPARROW: I have every faith in your reconciliatory navigational skills, Master Gibbs, now where is that monkey? I want to shoot *something*.\n",
            "JACK SPARROW: Ah.\n",
            "JACK SPARROW: Have you considered keeping a more watchful eye on 'er? Maybe just lock her up somewhere. \n",
            "JACK SPARROW: There comes a time when one must take responsibility for one's mistakes.\n",
            "JACK SPARROW: Mister Gibbs!\n",
            "JACK SPARROW: We have a need to travel upriver.\n",
            "JACK SPARROW: No, a... resolute and unyielding need.\n",
            "JACK SPARROW: William... I shall trade you the Compass, if you will help me... to find *this*. \n",
            "JACK SPARROW: No. *You* want you to find this. Because the finding this finds you incapacitorially finding and/or locating and your discovering the detecting of a way to save your dolly/dotty belle ol'... what's-her-face. Savvy? \n",
            "JACK SPARROW: How much do you know about Davy Jones?\n",
            "JACK SPARROW: Yeah, it's gonna save Elizabeth.\n",
            "JACK SPARROW: No worries, mates. Tia Dalma and I go way back. Thick as thieves. Nigh inseparable we are. Were. Have been. Before. \n",
            "JACK SPARROW: It's me front I'm worried about. Mind the boat.\n",
            "JACK SPARROW: Tia Dalma!\n",
            "JACK SPARROW: There'll be no knowing here. We've come for help and we're not leaving without it.\n",
            "JACK SPARROW: I thought *I* knew you.\n",
            "JACK SPARROW: Come.\n",
            "JACK SPARROW: I brought payment.\n",
            "JACK SPARROW: Look!\n",
            "JACK SPARROW: An undead monkey! Top that!\n",
            "JACK SPARROW: We're looking for this. And what it goes to.\n",
            "JACK SPARROW: Maybe. Why?\n",
            "JACK SPARROW: A *woman*.\n",
            "JACK SPARROW: I did not. I didn't know where the key was. But now we do. So all that's left is to climb aboard the Flying Dutchman, grab the key, you go back to Port Royal and save your bonnie lass, hey!\n",
            "JACK SPARROW: My eyesight's as good as ever, just so you know. \n",
            "JACK SPARROW: Dirt. This is a jar of dirt.\n",
            "JACK SPARROW: Is the... jar of dirt going to help?\n",
            "JACK SPARROW: No. \n",
            "JACK SPARROW: Neither do you. Do *not* underestimate her.\n",
            "JACK SPARROW: So what's your plan, then?\n",
            "JACK SPARROW: And if there are crewmen?\n",
            "JACK SPARROW: I like it. Simple, easy to remember.\n",
            "JACK SPARROW: Hey! If you *do* happen to get captured, just say Jack Sparrow sent you to settle his debt! Might save your life!\n",
            "JACK SPARROW: Douse the lamps.\n",
            "JACK SPARROW: Oh.\n",
            "JACK SPARROW: Technically, I was only captain for two years, then I was viciously mutinied upon.\n",
            "JACK SPARROW: You have my payment. One soul to serve on your ship is already over there.\n",
            "JACK SPARROW: Aha! So we've established my proposal is sound in principle, now we're just haggling over price. \n",
            "JACK SPARROW: Just how many souls do you think my soul is worth?\n",
            "JACK SPARROW: You're a diamond, mate. Send me back the boy, I'll get started right off. \n",
            "JACK SPARROW: Have you not met Will Turner? He's noble, heroic, *terrific* soprano. Worth at least four... maybe three and a half. And did I happen to mention... he's in love. With a girl. Due to be married. Betrothed. Dividing him from her and her from him... would only be half as cruel as actually allowing them be joined in holy matrimony. Aye?\n",
            "JACK SPARROW: Yep! I'm good with it. Should we seal it in blood? I mean... mm-mm - ink?\n",
            "JACK SPARROW: Uh!\n",
            "JACK SPARROW: Oh, Mr. Gibbs.\n",
            "JACK SPARROW: Uh, I feel sullied and unusual. \n",
            "JACK SPARROW: Fortunately, he was mum as the condition in which these souls need be.\n",
            "JACK SPARROW: Tortuga.\n",
            "JACK SPARROW: I know what I want.\n",
            "JACK SPARROW: How we going?\n",
            "JACK SPARROW: You're hired.\n",
            "JACK SPARROW: Time to go?\n",
            "JACK SPARROW: Thanks, mate.\n",
            "JACK SPARROW: Carry on. Heave!\n",
            "JACK SPARROW: Come to join me crew, lad? Welcome aboard.\n",
            "JACK SPARROW: I'm deeply flattered, son, but my first and only love is the sea.\n",
            "JACK SPARROW: Elizabeth. Hide the rum.\n",
            "JACK SPARROW: You know, these clothes do not flatter you at all. It should be a dress or nothing. I happen to have no dress in my cabin.\n",
            "JACK SPARROW: Darling, I am truly unhappy to have to tell you this but... through an unfortunate and *entirely* unforeseeable series of circumstances that have nothing whatsoever to do with me, poor William has been press-ganged into Davy Jones' crew.\n",
            "JACK SPARROW: You look bloody awful. What are you doing here?\n",
            "JACK SPARROW: You *smell* funny.\n",
            "JACK SPARROW: Are you certain? Is that what you really want most?\n",
            "JACK SPARROW: Because I would think, you'd want to find a way to *save* Will the most.\n",
            "JACK SPARROW: Well, there is a chest...\n",
            "JACK SPARROW: A chest of unknown size and origin.\n",
            "JACK SPARROW: And whoever possesses that chest possesses the leverage to command Jones to do whatever it is he or she wants, including... saving brave William from his grim fate.\n",
            "JACK SPARROW: With this. My Compass... is unique.\n",
            "JACK SPARROW: True enough. This Compass does not point north.\n",
            "JACK SPARROW: It points to the thing you want most in this world.\n",
            "JACK SPARROW: Every word, love. And what you want most in this world is to find the chest of Davy Jones, is it not?\n",
            "JACK SPARROW: By finding the chest of Davy Jones.\n",
            "JACK SPARROW: Mister Gibbs!\n",
            "JACK SPARROW: We have our heading.\n",
            "JACK SPARROW: Miss Swann.\n",
            "JACK SPARROW: Agh.\n",
            "JACK SPARROW: Agh.\n",
            "JACK SPARROW: Of course. He wants the chest.\n",
            "JACK SPARROW: A truly discomforting notion, love.\n",
            "JACK SPARROW: Might I inquire how as to how you came by these? \n",
            "JACK SPARROW: Friendly?\n",
            "JACK SPARROW: Will strikes a deal for these and upholds it with honor. Yet you're the one standing here with the prize. Full pardon, commission as a privateer on behalf of England and the East India Trading Company. As if I could be bought for such a low price. \n",
            "JACK SPARROW: No. Persuade me.\n",
            "JACK SPARROW: As I said... Persuade me.\n",
            "JACK SPARROW: My tremendous intuitive sense of the female creature informs me that you are troubled.\n",
            "JACK SPARROW: You know... Lizzy... I *am*... captain of a ship. And *being* captain of a ship, I could in fact perform a... marriage. Right here. Right on this deck. Right... *now*! \n",
            "JACK SPARROW: Why not? We *are* very much alike, you and I. I and you. Us.\n",
            "JACK SPARROW: Trifles. You *will* come over to my side, I know it.\n",
            "JACK SPARROW: One word love: curiosity. You long for freedom. You long to do what you want to do because you want it. To act on selfish impulse. You want to see what it's like. One day, you won't be able to resist.\n",
            "JACK SPARROW: Uh my Compass works fine. \n",
            "JACK SPARROW: I *love* those moments. I like to wave at them as they pass by.\n",
            "JACK SPARROW: All evidence to the contrary.\n",
            "JACK SPARROW: Do tell, dearie.\n",
            "JACK SPARROW: I *do* want to know what it tastes like.\n",
            "JACK SPARROW: I want my jar of dirt. \n",
            "JACK SPARROW: Guard the boat, mind the tide... Don't touch my dirt.\n",
            "JACK SPARROW: Yes it *does*. You're sitting on it! \n",
            "JACK SPARROW: Move. \n",
            "JACK SPARROW: I do that quite a lot. Yet people are always surprised.\n",
            "JACK SPARROW: How did you get here?\n",
            "JACK SPARROW: Not so easy, is it?\n",
            "JACK SPARROW: You do?\n",
            "JACK SPARROW: What?\n",
            "JACK SPARROW: Oh! Well... you're welcome, then.\n",
            "JACK SPARROW: Pretty much. Time and tide, love. \n",
            "JACK SPARROW: Oy! What're you doing?\n",
            "JACK SPARROW: Can't let you do that, William. 'Cause if Jones is dead, who's to call his terrible beastie off the hunt, eh? Now. If you please: The key.\n",
            "JACK SPARROW: I knew you'd warm up to me eventually.\n",
            "JACK SPARROW: Ah. The dark side of ambition.\n",
            "JACK SPARROW: Let us examine that claim for a moment, former Commodore, shall we? Who was it, who at the very moment you had a notorious pirate safely behind bars, saw fit to *free* said pirate, and take your dearly beloved all to hisself, hey? So who's fault is it, *really*, that you've ended up a rum-pot deckhand what takes orders from pirates?\n",
            "JACK SPARROW: Still rooting for you, mate!\n",
            "JACK SPARROW: Wup!\n",
            "JACK SPARROW: Oh.\n",
            "JACK SPARROW: Woah!\n",
            "JACK SPARROW: Oh, shut it.\n",
            "JACK SPARROW: Jar of dirt!\n",
            "JACK SPARROW: Leave him lie! Unless you plan on using him to hit something with.\n",
            "JACK SPARROW: Uh, I say we respect his final wish.\n",
            "JACK SPARROW: He fell behind.\n",
            "JACK SPARROW: I'll handle this, mate.\n",
            "JACK SPARROW: Hey! Fishface! Lose something? Hey? Oup!\n",
            "JACK SPARROW: Got it! \n",
            "JACK SPARROW: Come to negotiate, eh, have you, you slimy git? Look what I got. I got a jar of dirt! I got a jar of dirt! And guess what's inside it?\n",
            "JACK SPARROW: Hard to starboard.\n",
            "JACK SPARROW: Why fight when you can negotiate? All one needs... is the proper leverage.\n",
            "JACK SPARROW: Where is it? Where is the thump-thump? We must've hit the reef! \n",
            "JACK SPARROW: Abandon ship. Into the longboat.\n",
            "JACK SPARROW: She's only a ship, mate.\n",
            "JACK SPARROW: We're not free yet, love.\n",
            "JACK SPARROW: Pirate. \n",
            "JACK SPARROW: Bugger, bugger, bugger, bugger, bugger, bugger...!\n",
            "JACK SPARROW: Come on... Come on...\n",
            "JACK SPARROW: Not so bad.\n",
            "JACK SPARROW: Oh!\n",
            "JACK SPARROW: Hello, beastie.\n"
          ],
          "name": "stdout"
        }
      ]
    },
    {
      "cell_type": "code",
      "metadata": {
        "colab": {
          "base_uri": "https://localhost:8080/"
        },
        "id": "eA3t0gNB71UJ",
        "outputId": "649ec9aa-3837-4629-9d10-f9152a296d77"
      },
      "source": [
        "#finding lines said by the character \"ELIZABETH SWANN\"\n",
        "for line in re.findall('ELIZABETH SWANN.+', pirates):\n",
        "    print(line)"
      ],
      "execution_count": null,
      "outputs": [
        {
          "output_type": "stream",
          "text": [
            "ELIZABETH SWANN: Will...!\n",
            "ELIZABETH SWANN: Why is this happening? \n",
            "ELIZABETH SWANN: I think it's bad luck for the groom to see the bride before the wedding.\n",
            "ELIZABETH SWANN: On what charges?\n",
            "ELIZABETH SWANN: *What are the charges?*\n",
            "ELIZABETH SWANN: We are under the jurisdiction of the King's governor of Port Royal, and you will tell us what we are charged with. \n",
            "ELIZABETH SWANN: *Captain* Jack Sparrow.\n",
            "ELIZABETH SWANN: Jack's Compass. What does Beckett want with that?\n",
            "ELIZABETH SWANN: I have faith in you. Both of you. Where will you find him? \n",
            "ELIZABETH SWANN: Properly? \n",
            "ELIZABETH SWANN: If it weren't for these bars I'd have you already. \n",
            "ELIZABETH SWANN: I'll wait for you.\n",
            "ELIZABETH SWANN: Why don't you tell me what's happening? \n",
            "ELIZABETH SWANN: No! Will has gone to find Jack!\n",
            "ELIZABETH SWANN: He's a better man than you give him credit for. \n",
            "ELIZABETH SWANN: A fair trial for Will ends in a hanging.\n",
            "ELIZABETH SWANN: Then what is?\n",
            "ELIZABETH SWANN: I expect then that we can come to some sort of understanding. I'm here to negotiate.\n",
            "ELIZABETH SWANN: These Letters of Marque, they are signed by the King?\n",
            "ELIZABETH SWANN: Or else I would not still be here. You sent Will to get you the Compass owned by Jack Sparrow. It will do you no good. \n",
            "ELIZABETH SWANN: I have been to Isla de Muerta, I have seen the treasure myself. There is something you need to know.\n",
            "ELIZABETH SWANN: Consider into your calculations that you robbed me of my wedding night.\n",
            "ELIZABETH SWANN: These aren't going to Jack.\n",
            "ELIZABETH SWANN: What's that over there?\n",
            "ELIZABETH SWANN: I just wanted the pleasure of doing that myself! \n",
            "ELIZABETH SWANN: James Norrington. What has the world done to you?\n",
            "ELIZABETH SWANN: Captain Sparrow!\n",
            "ELIZABETH SWANN: I'm here to find the man I love.\n",
            "ELIZABETH SWANN: Meaning William Turner, Captain Sparrow.\n",
            "ELIZABETH SWANN: Jack. I know Will came to find you. Where is he?\n",
            "ELIZABETH SWANN: Davy Jones?\n",
            "ELIZABETH SWANN: Jack. All I want is to find Will.\n",
            "ELIZABETH SWANN: 'Course.\n",
            "ELIZABETH SWANN: And you have a way of doing that?\n",
            "ELIZABETH SWANN: How do we find it?\n",
            "ELIZABETH SWANN: Where does it point?\n",
            "ELIZABETH SWANN: Oh Jack! Are you telling the truth?\n",
            "ELIZABETH SWANN: To save Will?\n",
            "ELIZABETH SWANN: Yes, they're signed, Lord Cutler Beckett of the East India Trading Company.\n",
            "ELIZABETH SWANN: Yes, he did say something about a chest.\n",
            "ELIZABETH SWANN: Persuasion.\n",
            "ELIZABETH SWANN: Decidedly not.\n",
            "ELIZABETH SWANN: Jack, the Letters, give them back.\n",
            "ELIZABETH SWANN: You do know Will taught me how handle a sword. \n",
            "ELIZABETH SWANN: I don't know what you mean.\n",
            "ELIZABETH SWANN: Oh, don't be absurd. I trust him, that's all.\n",
            "ELIZABETH SWANN: I just thought I'd be married by now. I'm so ready to be married. \n",
            "ELIZABETH SWANN: No, thank you.\n",
            "ELIZABETH SWANN: Oh. Except for a sense of honor, and decency and-and a moral center. And personal hygiene.\n",
            "ELIZABETH SWANN: You seem very certain.\n",
            "ELIZABETH SWANN: Why doesn't your Compass work? \n",
            "ELIZABETH SWANN: Because you and I *are* alike, and there will come a moment when you have a chance to show it. To do the right thing.\n",
            "ELIZABETH SWANN: You'll have the chance to do something... something courageous. And when you do, you'll discover something: that you're a good man.\n",
            "ELIZABETH SWANN: I have faith in you. Want to know why?\n",
            "ELIZABETH SWANN: Curiosity. You're going to want it. A chance to be admired. And gain the rewards that follow. You won't be able to resist. You're going to want to know... what it tastes like.\n",
            "ELIZABETH SWANN: But - seeing as you're a good man I know you will *never* put me in a position that would compromise my honor.\n",
            "ELIZABETH SWANN: I'm proud of you, Jack.\n",
            "ELIZABETH SWANN: This doesn't work. And it *certainly* doesn't show you what you want most.\n",
            "ELIZABETH SWANN: Beg your pardon?\n",
            "ELIZABETH SWANN: It's real!\n",
            "ELIZABETH SWANN: Will! You're alright! Thank God! I came to find you!\n",
            "ELIZABETH SWANN: What?\n",
            "ELIZABETH SWANN: Everything you said to me... every word, was a lie!\n",
            "ELIZABETH SWANN: Stop it! Be careful!\n",
            "ELIZABETH SWANN: Jack!\n",
            "ELIZABETH SWANN: *No*!\n",
            "ELIZABETH SWANN: This is bar-*baric*! This is *no* way for grown men to settle - ! Oh! Fine! Let's just - *pull* out our swords and start *banging* away at each other! *This will solve everything!* I've had it! I've had enough! Wobbly-legged, rum-soaked... *pirates*! \n",
            "ELIZABETH SWANN: Will! *Enough!*\n",
            "ELIZABETH SWANN: Oh! Oh...! The heat!\n",
            "ELIZABETH SWANN: Bugger!\n",
            "ELIZABETH SWANN: Sword!\n",
            "ELIZABETH SWANN: We're not getting out of this.\n",
            "ELIZABETH SWANN: You're mad.\n",
            "ELIZABETH SWANN: Norrington took it to draw them off.\n",
            "ELIZABETH SWANN: *Hard to starboard!*\n",
            "ELIZABETH SWANN: She's falling behind!\n",
            "ELIZABETH SWANN: What is it?\n",
            "ELIZABETH SWANN: Will?\n",
            "ELIZABETH SWANN: Will?\n",
            "ELIZABETH SWANN: *Will?*\n",
            "ELIZABETH SWANN: There's no boats.\n",
            "ELIZABETH SWANN: As soon as you're clear.\n",
            "ELIZABETH SWANN: Bring it up!\n",
            "ELIZABETH SWANN: Step to!\n",
            "ELIZABETH SWANN: Oh you coward!\n",
            "ELIZABETH SWANN: He's right, we have to head for land.\n",
            "ELIZABETH SWANN: Thank you, Jack.\n",
            "ELIZABETH SWANN: You came back. I always knew you were a good man.\n",
            "ELIZABETH SWANN: It's after you, not the ship. It's not us. This is the only way, don't you see? I'm not sorry.\n",
            "ELIZABETH SWANN: He elected to stay behind to give us a chance.\n",
            "ELIZABETH SWANN: Go!\n",
            "ELIZABETH SWANN: He was a good man.\n",
            "ELIZABETH SWANN: Yes.\n"
          ],
          "name": "stdout"
        }
      ]
    },
    {
      "cell_type": "code",
      "metadata": {
        "id": "ZvaitJ6-77ge"
      },
      "source": [
        ""
      ],
      "execution_count": null,
      "outputs": []
    }
  ]
}